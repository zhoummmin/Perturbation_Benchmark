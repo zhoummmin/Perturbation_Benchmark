{
 "cells": [
  {
   "cell_type": "code",
   "execution_count": 1,
   "id": "5888b456-fd1f-4131-be73-4169aa4b4db7",
   "metadata": {},
   "outputs": [],
   "source": [
    "import os\n",
    "os.environ['TMP'] = '/home/share/huadjyin/home/zhoumin3/tmp'\n",
    "os.environ['TEMP'] = '/home/share/huadjyin/home/zhoumin3/tmp'\n",
    "os.environ['WANDB_DIR'] = '/home/share/huadjyin/home/zhoumin3/tmp'"
   ]
  },
  {
   "cell_type": "code",
   "execution_count": 2,
   "id": "7f67d2ee-151b-4f6e-af49-2e502457092a",
   "metadata": {},
   "outputs": [],
   "source": [
    "!python /home/share/huadjyin/home/zhoumin3/zhoumin/gears/GEARS_misc/paper/CPA_reproduce/model.py"
   ]
  },
  {
   "cell_type": "code",
   "execution_count": 3,
   "id": "b448ebd6-779d-44d2-963f-9e6f34ea582a",
   "metadata": {},
   "outputs": [],
   "source": [
    "import os\n",
    "import json\n",
    "import argparse\n",
    "import torch\n",
    "import numpy as np\n",
    "import sys"
   ]
  },
  {
   "cell_type": "code",
   "execution_count": 4,
   "id": "0ef40522-2b61-465d-b605-59b915a64492",
   "metadata": {},
   "outputs": [],
   "source": [
    "from collections import defaultdict\n",
    "sys.path.append('/home/share/huadjyin/home/zhoumin3/zhoumin/gears/GEARS_misc/paper/CPA_reproduce')\n",
    "from data import load_dataset_splits\n",
    "from model import ComPert"
   ]
  },
  {
   "cell_type": "code",
   "execution_count": 5,
   "id": "26b6921d-163f-49ab-bd4a-63f85dbdf5e0",
   "metadata": {},
   "outputs": [],
   "source": [
    "from sklearn.metrics import r2_score, balanced_accuracy_score, make_scorer\n",
    "from sklearn.linear_model import LogisticRegression\n",
    "from sklearn.model_selection import cross_val_score\n",
    "from sklearn.neighbors import KNeighborsClassifier\n",
    "from sklearn.preprocessing import StandardScaler\n",
    "import time"
   ]
  },
  {
   "cell_type": "code",
   "execution_count": 6,
   "id": "f3928de0-a665-4500-9781-865719c32cfd",
   "metadata": {},
   "outputs": [],
   "source": [
    "def pjson(s):\n",
    "    \"\"\"\n",
    "    Prints a string in JSON format and flushes stdout\n",
    "    \"\"\"\n",
    "    print(json.dumps(s), flush=True)\n",
    "\n",
    "\n",
    "def evaluate_disentanglement(autoencoder, dataset, nonlinear=False):\n",
    "    \"\"\"\n",
    "    Given a ComPert model, this function measures the correlation between\n",
    "    its latent space and 1) a dataset's drug vectors 2) a datasets covariate\n",
    "    vectors.\n",
    "\n",
    "    \"\"\"\n",
    "    _, latent_basal = autoencoder.predict(\n",
    "        dataset.genes,\n",
    "        dataset.drugs,\n",
    "        dataset.cell_types,\n",
    "        return_latent_basal=True)\n",
    "\n",
    "    latent_basal = latent_basal.detach().cpu().numpy()\n",
    "\n",
    "    if nonlinear:\n",
    "        clf = KNeighborsClassifier(\n",
    "            n_neighbors=int(np.sqrt(len(latent_basal))))\n",
    "    else:\n",
    "        clf = LogisticRegression(solver=\"liblinear\",\n",
    "                                 multi_class=\"auto\",\n",
    "                                 max_iter=10000)\n",
    "\n",
    "    pert_scores = cross_val_score(\n",
    "        clf,\n",
    "        StandardScaler().fit_transform(latent_basal), dataset.drugs_names,\n",
    "        scoring=make_scorer(balanced_accuracy_score), cv=5, n_jobs=-1)\n",
    "\n",
    "    if len(np.unique(dataset.cell_types_names)) > 1:\n",
    "        cov_scores = cross_val_score(\n",
    "            clf,\n",
    "            StandardScaler().fit_transform(latent_basal), dataset.cell_types_names,\n",
    "            scoring=make_scorer(balanced_accuracy_score), cv=5, n_jobs=-1)\n",
    "        return np.mean(pert_scores), np.mean(cov_scores)\n",
    "    else:\n",
    "        return np.mean(pert_scores), 0\n",
    "\n",
    "\n",
    "\n",
    "def evaluate_r2(autoencoder, dataset, genes_control):\n",
    "    \"\"\"\n",
    "    Measures different quality metrics about an ComPert `autoencoder`, when\n",
    "    tasked to translate some `genes_control` into each of the drug/cell_type\n",
    "    combinations described in `dataset`.\n",
    "\n",
    "    Considered metrics are R2 score about means and variances for all genes, as\n",
    "    well as R2 score about means and variances about differentially expressed\n",
    "    (_de) genes.\n",
    "    \"\"\"\n",
    "\n",
    "    mean_score, var_score, mean_score_de, var_score_de = [], [], [], []\n",
    "    num, dim = genes_control.size(0), genes_control.size(1)\n",
    "\n",
    "    total_cells = len(dataset)\n",
    "\n",
    "    for pert_category in np.unique(dataset.pert_categories):\n",
    "        # pert_category category contains: 'celltype_perturbation_dose' info\n",
    "        de_idx = np.where(\n",
    "            dataset.var_names.isin(\n",
    "                np.array(dataset.de_genes[pert_category])))[0]\n",
    "\n",
    "        idx = np.where(dataset.pert_categories == pert_category)[0]\n",
    "\n",
    "        if len(idx) > 30:\n",
    "            emb_drugs = dataset.drugs[idx][0].view(\n",
    "                1, -1).repeat(num, 1).clone()\n",
    "            emb_cts = dataset.cell_types[idx][0].view(\n",
    "                1, -1).repeat(num, 1).clone()\n",
    "\n",
    "            genes_predict = autoencoder.predict(\n",
    "                genes_control, emb_drugs, emb_cts).detach().cpu()\n",
    "\n",
    "            mean_predict = genes_predict[:, :dim]\n",
    "            var_predict = genes_predict[:, dim:]\n",
    "\n",
    "            # estimate metrics only for reasonably-sized drug/cell-type combos\n",
    "\n",
    "            y_true = dataset.genes[idx, :].numpy()\n",
    "\n",
    "            # true means and variances\n",
    "            yt_m = y_true.mean(axis=0)\n",
    "            yt_v = y_true.var(axis=0)\n",
    "            # predicted means and variances\n",
    "            yp_m = mean_predict.mean(0)\n",
    "            yp_v = var_predict.mean(0)\n",
    "\n",
    "            mean_score.append(r2_score(yt_m, yp_m))\n",
    "            var_score.append(r2_score(yt_v, yp_v))\n",
    "\n",
    "            try:\n",
    "                mean_score_de.append(r2_score(yt_m[de_idx], yp_m[de_idx]))\n",
    "                var_score_de.append(r2_score(yt_v[de_idx], yp_v[de_idx]))\n",
    "            except:\n",
    "                mean_score_de.append(0)\n",
    "                var_score_de.append(0)\n",
    "\n",
    "    return [np.mean(s) if len(s) else -1\n",
    "            for s in [mean_score, mean_score_de, var_score, var_score_de]]\n",
    "\n",
    "\n",
    "def evaluate(autoencoder, datasets):\n",
    "    \"\"\"\n",
    "    Measure quality metrics using `evaluate()` on the training, test, and\n",
    "    out-of-distributiion (ood) splits.\n",
    "    \"\"\"\n",
    "\n",
    "    autoencoder.eval()\n",
    "    with torch.no_grad():\n",
    "        stats_test = evaluate_r2(\n",
    "            autoencoder,\n",
    "            datasets[\"test_treated\"],\n",
    "            datasets[\"test_control\"].genes)\n",
    "\n",
    "        stats_disent_pert, stats_disent_cov = evaluate_disentanglement(\n",
    "            autoencoder, datasets[\"test\"])\n",
    "\n",
    "        evaluation_stats = {\n",
    "            \"training\": evaluate_r2(\n",
    "                autoencoder,\n",
    "                datasets[\"training_treated\"],\n",
    "                datasets[\"training_control\"].genes),\n",
    "            \"test\": stats_test,\n",
    "            \"ood\": evaluate_r2(\n",
    "                autoencoder,\n",
    "                datasets[\"ood\"],\n",
    "                datasets[\"test_control\"].genes),\n",
    "            \"perturbation disentanglement\": stats_disent_pert,\n",
    "            \"optimal for perturbations\": 1/datasets['test'].num_drugs,\n",
    "            \"covariate disentanglement\": stats_disent_cov,\n",
    "            \"optimal for covariates\": 1/datasets['test'].num_cell_types,\n",
    "        }\n",
    "    autoencoder.train()\n",
    "    return evaluation_stats\n",
    "\n",
    "\n",
    "def prepare_compert(args, state_dict=None):\n",
    "    \"\"\"\n",
    "    Instantiates autoencoder and dataset to run an experiment.\n",
    "    \"\"\"\n",
    "\n",
    "    device = \"cuda:\"+str(args['cuda']) if torch.cuda.is_available() else \"cpu\"\n",
    "    #device = \"cpu\"\n",
    "    print('-1')\n",
    "    datasets = load_dataset_splits(\n",
    "        args[\"dataset_path\"],\n",
    "        args[\"perturbation_key\"],\n",
    "        args[\"dose_key\"],\n",
    "        args[\"cell_type_key\"],\n",
    "        args[\"split_key\"])\n",
    "    print('-2')\n",
    "    autoencoder = ComPert(\n",
    "        datasets[\"training\"].num_genes,\n",
    "        datasets[\"training\"].num_drugs,\n",
    "        datasets[\"training\"].num_cell_types,\n",
    "        device=device,\n",
    "        seed=args[\"seed\"],\n",
    "        loss_ae=args[\"loss_ae\"],\n",
    "        doser_type=args[\"doser_type\"],\n",
    "        patience=args[\"patience\"],\n",
    "        hparams=args[\"hparams\"],\n",
    "        decoder_activation=args[\"decoder_activation\"],\n",
    "        emb_kg = args[\"emb\"],\n",
    "        num_pert_in_graph = args['num_pert_in_graph']\n",
    "    )\n",
    "    print('-3')\n",
    "    if state_dict is not None:\n",
    "        autoencoder.load_state_dict(state_dict)\n",
    "\n",
    "    return autoencoder, datasets\n"
   ]
  },
  {
   "cell_type": "code",
   "execution_count": null,
   "id": "c9bdbc36-f86d-41bc-b71e-be88654e0a68",
   "metadata": {},
   "outputs": [],
   "source": [
    "def train_compert(args, return_model=False):\n",
    "    \"\"\"\n",
    "    Trains a ComPert autoencoder\n",
    "    \"\"\"\n",
    "    dataset = args[\"dataset\"]\n",
    "    \n",
    "    import pandas as pd\n",
    "\n",
    "    if dataset == 'AdamsonWeissman2016_GSM2406675_1':\n",
    "        go_path = '/home/share/huadjyin/home/zhoumin3/zhoumin/benchmark_data/01A_total_re/03final/data/go_essential_adamsonweissman2016_gsm2406675_1.csv'\n",
    "        print(f\"go_path: {go_path}\")\n",
    "    elif dataset == 'AdamsonWeissman2016_GSM2406677_2':\n",
    "        go_path = '/home/share/huadjyin/home/zhoumin3/zhoumin/benchmark_data/01A_total_re/03final/data/go_essential_adamsonweissman2016_gsm2406677_2.csv'\n",
    "        print(f\"go_path: {go_path}\")\n",
    "    elif dataset == 'AdamsonWeissman2016_GSM2406681_3':\n",
    "        go_path = '/home/share/huadjyin/home/zhoumin3/zhoumin/benchmark_data/01A_total_re/03final/data/go_essential_adamsonweissman2016_gsm2406681_3.csv'\n",
    "        print(f\"go_path: {go_path}\")\n",
    "    elif dataset == 'DatlingerBock2017_stimulated':\n",
    "        go_path = '/home/share/huadjyin/home/zhoumin3/zhoumin/benchmark_data/01A_total_re/03final/data/go_essential_datlingerbock2017_stimulated.csv'\n",
    "        print(f\"go_path: {go_path}\")\n",
    "    elif dataset == 'DatlingerBock2017_unstimulated':\n",
    "        go_path = '/home/share/huadjyin/home/zhoumin3/zhoumin/benchmark_data/01A_total_re/03final/data/go_essential_datlingerbock2017_unstimulated.csv'\n",
    "        print(f\"go_path: {go_path}\")\n",
    "    elif dataset == 'DatlingerBock2021_stimulated':\n",
    "        go_path = '/home/share/huadjyin/home/zhoumin3/zhoumin/benchmark_data/01A_total_re/03final/data/go_essential_datlingerbock2021_stimulated.csv'\n",
    "        print(f\"go_path: {go_path}\")\n",
    "    elif dataset == 'DatlingerBock2021_unstimulated':\n",
    "        go_path = '/home/share/huadjyin/home/zhoumin3/zhoumin/benchmark_data/01A_total_re/03final/data/go_essential_datlingerbock2021_unstimulated.csv'\n",
    "        print(f\"go_path: {go_path}\")\n",
    "    elif dataset == 'Dixit_combined':\n",
    "        go_path = '/home/share/huadjyin/home/zhoumin3/zhoumin/benchmark_data/01A_total_re/03final/data/go_essential_dixit_combined.csv'\n",
    "        print(f\"go_path: {go_path}\")\n",
    "    elif dataset == 'Dixit_GSM2396858':\n",
    "        go_path = '/home/share/huadjyin/home/zhoumin3/zhoumin/benchmark_data/01A_total_re/03final/data/go_essential_dixit_gsm2396858.csv'\n",
    "        print(f\"go_path: {go_path}\")\n",
    "    elif dataset == 'Dixit_GSM2396861':\n",
    "        go_path = '/home/share/huadjyin/home/zhoumin3/zhoumin/benchmark_data/01A_total_re/03final/data/go_essential_dixit_gsm2396861.csv'\n",
    "        print(f\"go_path: {go_path}\")\n",
    "    elif dataset == 'NormanWeissman2019':\n",
    "        go_path = '/home/share/huadjyin/home/zhoumin3/zhoumin/benchmark_data/01A_total_re/03final/data/go_essential_normanweissman2019.csv'\n",
    "        print(f\"go_path: {go_path}\")\n",
    "    elif dataset == 'PapalexiSatija2021_eccite_arrayed_RNA':\n",
    "        go_path = '/home/share/huadjyin/home/zhoumin3/zhoumin/benchmark_data/01A_total_re/03final/data/go_essential_papalexisatija2021_eccite_arrayed_rna.csv'\n",
    "        print(f\"go_path: {go_path}\")\n",
    "    elif dataset == 'PapalexiSatija2021_eccite_RNA':\n",
    "        go_path = '/home/share/huadjyin/home/zhoumin3/zhoumin/benchmark_data/01A_total_re/03final/data/go_essential_papalexisatija2021_eccite_rna.csv'\n",
    "        print(f\"go_path: {go_path}\")\n",
    "    elif dataset == 'Replogle_k562_essential':\n",
    "        go_path = '/home/share/huadjyin/home/zhoumin3/zhoumin/benchmark_data/01A_total_re/03final/data/go_essential_replogle_k562_essential.csv'\n",
    "        print(f\"go_path: {go_path}\")\n",
    "    elif dataset == 'Replogle_rpe1_essential':\n",
    "        go_path = '/home/share/huadjyin/home/zhoumin3/zhoumin/benchmark_data/01A_total_re/03final/data/go_essential_replogle_rpe1_essential.csv'\n",
    "        print(f\"go_path: {go_path}\")\n",
    "    elif dataset == 'ShifrutMarson2018':\n",
    "        go_path = '/home/share/huadjyin/home/zhoumin3/zhoumin/benchmark_data/01A_total_re/03final/data/go_essential_shifrutmarson2018.csv'\n",
    "        print(f\"go_path: {go_path}\")\n",
    "    elif dataset == 'TianKampmann2019_day7neuron':\n",
    "        go_path = '/home/share/huadjyin/home/zhoumin3/zhoumin/benchmark_data/01A_total_re/03final/data/go_essential_tiankampmann2019_day7neuron.csv'\n",
    "        print(f\"go_path: {go_path}\")\n",
    "    elif dataset == 'TianKampmann2019_iPSC':\n",
    "        go_path = '/home/share/huadjyin/home/zhoumin3/zhoumin/benchmark_data/01A_total_re/03final/data/go_essential_tiankampmann2019_ipsc.csv'\n",
    "        print(f\"go_path: {go_path}\")\n",
    "    elif dataset == 'TianKampmann2021_CRISPRa':\n",
    "        go_path = '/home/share/huadjyin/home/zhoumin3/zhoumin/benchmark_data/01A_total_re/03final/data/go_essential_tiankampmann2021_crispra.csv'\n",
    "        print(f\"go_path: {go_path}\")\n",
    "    elif dataset == 'TianKampmann2021_CRISPRi':\n",
    "        go_path = '/home/share/huadjyin/home/zhoumin3/zhoumin/benchmark_data/01A_total_re/03final/data/go_essential_tiankampmann2021_crispri.csv'\n",
    "        print(f\"go_path: {go_path}\")\n",
    "    elif dataset == 'XuCao2023':\n",
    "        go_path = '/home/share/huadjyin/home/zhoumin3/zhoumin/benchmark_data/01A_total_re/03final/data/go_essential_xucao2023.csv'\n",
    "        print(f\"go_path: {go_path}\")\n",
    "    else:\n",
    "        go_path = '/home/share/huadjyin/home/zhoumin3/zhoumin/benchmark_data/de_data_gears/go_essential_all/go_essential_all.csv'\n",
    "        print(f\"go_path: {go_path}\")\n",
    "        \n",
    "    df = pd.read_csv(go_path)\n",
    "    df = df.groupby('target').apply(lambda x: x.nlargest(20 + 1,['importance'])).reset_index(drop = True)\n",
    "        \n",
    "    gene_path = '/home/share/huadjyin/home/zhoumin3/zhoumin/benchmark_data/01A_total_re/06cpa/dataset_all_gene_names.pkl'\n",
    "      \n",
    "    def get_map(pert):\n",
    "        tmp = np.zeros(len(gene_list))\n",
    "        tmp[np.where(np.in1d(gene_list, df[df.target == pert].source.values))[0]] = 1\n",
    "        return tmp    \n",
    "    \n",
    "    import pickle\n",
    "    with open(gene_path, 'rb') as f:\n",
    "        gene_list = pickle.load(f)\n",
    "    args['num_pert_in_graph'] = len(gene_list)\n",
    "    \n",
    "    autoencoder, datasets = prepare_compert(args)\n",
    "    \n",
    "    pert_dict = datasets[\"training\"].perts_dict\n",
    "   \n",
    "    \n",
    "    pert2neighbor =  {i: get_map(i) for i in list(pert_dict.keys())}    \n",
    "    pert_dict_rev = {'+'.join([str(x) for x in np.where(j == 1)[0]]): i for i,j  in pert_dict.items()}\n",
    "    print(pert_dict_rev)\n",
    "    print(pert2neighbor)\n",
    "    autoencoder.pert2neighbor = pert2neighbor\n",
    "    autoencoder.pert_dict_rev = pert_dict_rev\n",
    "    \n",
    "    datasets.update({\n",
    "        \"loader_tr\": torch.utils.data.DataLoader(\n",
    "                        datasets[\"training\"],\n",
    "                        batch_size=autoencoder.hparams[\"batch_size\"],\n",
    "                        shuffle=True,\n",
    "                        drop_last=True)\n",
    "    })\n",
    "    \n",
    "    print(datasets[\"training\"].perts_dict)\n",
    "    \n",
    "    pjson({\"training_args\": args})\n",
    "    pjson({\"autoencoder_params\": autoencoder.hparams})\n",
    "\n",
    "    start_time = time.time()\n",
    "    for epoch in range(args[\"max_epochs\"]):\n",
    "        epoch_training_stats = defaultdict(float)\n",
    "\n",
    "        for genes, drugs, cell_types in datasets[\"loader_tr\"]:\n",
    "            minibatch_training_stats = autoencoder.update(\n",
    "                genes, drugs, cell_types)\n",
    "\n",
    "            for key, val in minibatch_training_stats.items():\n",
    "                epoch_training_stats[key] += val\n",
    "\n",
    "        for key, val in epoch_training_stats.items():\n",
    "            epoch_training_stats[key] = val / len(datasets[\"loader_tr\"])\n",
    "            if not (key in autoencoder.history.keys()):\n",
    "                autoencoder.history[key] = []\n",
    "            autoencoder.history[key].append(val)\n",
    "        autoencoder.history['epoch'].append(epoch)\n",
    "\n",
    "        ellapsed_minutes = (time.time() - start_time) / 60\n",
    "        autoencoder.history['elapsed_time_min'] = ellapsed_minutes\n",
    "\n",
    "        # decay learning rate if necessary\n",
    "        # also check stopping condition: patience ran out OR\n",
    "        # time ran out OR max epochs achieved\n",
    "        stop = ellapsed_minutes > args[\"max_minutes\"] or \\\n",
    "            (epoch == args[\"max_epochs\"] - 1)\n",
    "\n",
    "        if (epoch % args[\"checkpoint_freq\"]) == 0 or stop:\n",
    "            #evaluation_stats = evaluate(autoencoder, datasets)\n",
    "            #for key, val in evaluation_stats.items():\n",
    "            #    if not (key in autoencoder.history.keys()):\n",
    "            #        autoencoder.history[key] = []\n",
    "            #    autoencoder.history[key].append(val)\n",
    "            #autoencoder.history['stats_epoch'].append(epoch)\n",
    "\n",
    "            pjson({\n",
    "                \"epoch\": epoch,\n",
    "                \"training_stats\": epoch_training_stats,\n",
    "                #\"evaluation_stats\": evaluation_stats,\n",
    "                \"ellapsed_minutes\": ellapsed_minutes\n",
    "            })\n",
    "\n",
    "            # autoencoder.state_dict(),\n",
    "            if epoch == 499:\n",
    "                if args['emb'] == 'kg':\n",
    "                    torch.save(\n",
    "                        autoencoder.state_dict(),\n",
    "                        os.path.join(\n",
    "                            args[\"save_dir\"],\n",
    "                            \"model_kg_seed={}_epoch={}.pt\".format(args[\"seed\"], epoch)))\n",
    "                else:\n",
    "                    torch.save(\n",
    "                        autoencoder.state_dict(),\n",
    "                        os.path.join(\n",
    "                            args[\"save_dir\"],\n",
    "                            \"model_seed={}_epoch={}.pt\".format(args[\"seed\"], epoch)))\n",
    "            \"\"\"\n",
    "            # Some error when I tried to include the history + args\n",
    "            torch.save(\n",
    "                autoencoder.state_dict(), args, autoencoder.history,\n",
    "                os.path.join(\n",
    "                    args[\"save_dir\"],\n",
    "                    \"model_seed={}_epoch={}.pt\".format(args[\"seed\"], epoch)))\n",
    "            \"\"\"\n",
    "\n",
    "            pjson({\"model_saved\": \"model_seed={}_epoch={}.pt\\n\".format(\n",
    "                args[\"seed\"], epoch)})\n",
    "            #stop = stop or autoencoder.early_stopping(\n",
    "            #    np.mean(evaluation_stats[\"test\"]))\n",
    "            #if stop:\n",
    "            #    pjson({\"early_stop\": epoch})\n",
    "            #    break\n",
    "\n",
    "    if return_model:\n",
    "        return autoencoder, datasets\n",
    "\n",
    "\n",
    "def parse_arguments(dataset, split_number):\n",
    "    \n",
    "    if split_number not in range(1, 6):\n",
    "        raise ValueError(\"split_number\")\n",
    "\n",
    "    base_args = {\n",
    "        'dataset_path': f'{dataset}.h5ad',\n",
    "        'dataset': dataset,\n",
    "        'perturbation_key': \"condition\",\n",
    "        'dose_key': \"dose_val\",\n",
    "        'cell_type_key': \"cell_type\",\n",
    "        'loss_ae': 'gauss',\n",
    "        'doser_type': 'sigm',\n",
    "        'decoder_activation': 'linear',\n",
    "        'seed': 0,\n",
    "        'hparams': \"\",\n",
    "        'cuda': 0,\n",
    "        'max_epochs': 500,\n",
    "        'max_minutes': 400,\n",
    "        'patience': 20,\n",
    "        'checkpoint_freq': 20,\n",
    "        'sweep_seeds': 200,\n",
    "        'emb': 'one_hot'\n",
    "    }\n",
    "    \n",
    "    split_key = f'split{split_number}'\n",
    "    save_dir = f'/home/share/huadjyin/home/zhoumin3/zhoumin/model_benchmark/01_A_results/{dataset}/cpa/{split_key}/'\n",
    "    os.makedirs(save_dir, exist_ok=True)\n",
    "    args = base_args.copy()\n",
    "    args['split_key'] = split_key\n",
    "    args['save_dir'] = save_dir\n",
    "    \n",
    "    return args"
   ]
  },
  {
   "cell_type": "code",
   "execution_count": null,
   "id": "c851a3f2-b98a-4424-9e84-8a122deb96c7",
   "metadata": {
    "scrolled": true
   },
   "outputs": [
    {
     "name": "stderr",
     "output_type": "stream",
     "text": [
      "\u001b[34m\u001b[1mwandb\u001b[0m: Currently logged in as: \u001b[33mzhoumin1130\u001b[0m. Use \u001b[1m`wandb login --relogin`\u001b[0m to force relogin\n"
     ]
    },
    {
     "data": {
      "text/html": [
       "Tracking run with wandb version 0.17.0"
      ],
      "text/plain": [
       "<IPython.core.display.HTML object>"
      ]
     },
     "metadata": {},
     "output_type": "display_data"
    },
    {
     "data": {
      "text/html": [
       "Run data is saved locally in <code>/home/share/huadjyin/home/zhoumin3/tmp/wandb/run-20240726_223541-faiwxsqt</code>"
      ],
      "text/plain": [
       "<IPython.core.display.HTML object>"
      ]
     },
     "metadata": {},
     "output_type": "display_data"
    },
    {
     "data": {
      "text/html": [
       "Syncing run <strong><a href='https://wandb.ai/zhoumin1130/01_dataset_all_cpa/runs/faiwxsqt' target=\"_blank\">AdamsonWeissman2016_GSM2406675_1_split1</a></strong> to <a href='https://wandb.ai/zhoumin1130/01_dataset_all_cpa' target=\"_blank\">Weights & Biases</a> (<a href='https://wandb.me/run' target=\"_blank\">docs</a>)<br/>"
      ],
      "text/plain": [
       "<IPython.core.display.HTML object>"
      ]
     },
     "metadata": {},
     "output_type": "display_data"
    },
    {
     "data": {
      "text/html": [
       " View project at <a href='https://wandb.ai/zhoumin1130/01_dataset_all_cpa' target=\"_blank\">https://wandb.ai/zhoumin1130/01_dataset_all_cpa</a>"
      ],
      "text/plain": [
       "<IPython.core.display.HTML object>"
      ]
     },
     "metadata": {},
     "output_type": "display_data"
    },
    {
     "data": {
      "text/html": [
       " View run at <a href='https://wandb.ai/zhoumin1130/01_dataset_all_cpa/runs/faiwxsqt' target=\"_blank\">https://wandb.ai/zhoumin1130/01_dataset_all_cpa/runs/faiwxsqt</a>"
      ],
      "text/plain": [
       "<IPython.core.display.HTML object>"
      ]
     },
     "metadata": {},
     "output_type": "display_data"
    },
    {
     "name": "stdout",
     "output_type": "stream",
     "text": [
      "go_path: /home/share/huadjyin/home/zhoumin3/zhoumin/benchmark_data/01A_total_re/03final/data/go_essential_adamsonweissman2016_gsm2406675_1.csv\n",
      "/var/tmp/ipykernel_2519765/3805489455.py:77: DeprecationWarning: DataFrameGroupBy.apply operated on the grouping columns. This behavior is deprecated, and in a future version of pandas the grouping columns will be excluded from the operation. Either pass `include_groups=False` to exclude the groupings or explicitly select the grouping columns after groupby to silence this warning.\n",
      "  df = df.groupby('target').apply(lambda x: x.nlargest(20 + 1,['importance'])).reset_index(drop = True)\n",
      "-1\n",
      "--1\n",
      "---1\n",
      "---2\n",
      "---3\n",
      "---4\n",
      "---5\n",
      "/home/share/huadjyin/home/zhoumin3/zhoumin/gears/GEARS_misc/paper/CPA_reproduce/data.py:100: UserWarning: Creating a tensor from a list of numpy.ndarrays is extremely slow. Please consider converting the list to a single numpy.ndarray with numpy.array() before converting to a tensor. (Triggered internally at /home/bingxing2/home/scx6002/pengyq/pytorch-v2.0.0/torch/csrc/utils/tensor_new.cpp:245.)\n",
      "  self.drugs = torch.Tensor(drugs)\n",
      "---6\n",
      "---7\n",
      "--2\n",
      "-2\n",
      "-3\n",
      "{'0': 'BHLHE40', '2': 'DDIT3', '5': 'SPI1', '7': 'ctrl', '1': 'CREB1', '6': 'ZNF326', '4': 'SNAI1', '3': 'EP300'}\n",
      "{'BHLHE40': array([0., 0., 0., ..., 0., 0., 0.]), 'DDIT3': array([0., 0., 0., ..., 0., 0., 0.]), 'SPI1': array([0., 0., 0., ..., 0., 0., 0.]), 'ctrl': array([0., 0., 0., ..., 0., 0., 0.]), 'CREB1': array([0., 0., 0., ..., 0., 0., 0.]), 'ZNF326': array([0., 0., 0., ..., 0., 0., 0.]), 'SNAI1': array([0., 0., 0., ..., 0., 0., 0.]), 'EP300': array([0., 0., 0., ..., 0., 0., 0.])}\n",
      "{'BHLHE40': array([1., 0., 0., 0., 0., 0., 0., 0.]), 'DDIT3': array([0., 0., 1., 0., 0., 0., 0., 0.]), 'SPI1': array([0., 0., 0., 0., 0., 1., 0., 0.]), 'ctrl': array([0., 0., 0., 0., 0., 0., 0., 1.]), 'CREB1': array([0., 1., 0., 0., 0., 0., 0., 0.]), 'ZNF326': array([0., 0., 0., 0., 0., 0., 1., 0.]), 'SNAI1': array([0., 0., 0., 0., 1., 0., 0., 0.]), 'EP300': array([0., 0., 0., 1., 0., 0., 0., 0.])}\n",
      "{\"training_args\": {\"dataset_path\": \"AdamsonWeissman2016_GSM2406675_1.h5ad\", \"dataset\": \"AdamsonWeissman2016_GSM2406675_1\", \"perturbation_key\": \"condition\", \"dose_key\": \"dose_val\", \"cell_type_key\": \"cell_type\", \"loss_ae\": \"gauss\", \"doser_type\": \"sigm\", \"decoder_activation\": \"linear\", \"seed\": 0, \"hparams\": \"\", \"cuda\": 0, \"max_epochs\": 500, \"max_minutes\": 400, \"patience\": 20, \"checkpoint_freq\": 20, \"sweep_seeds\": 200, \"emb\": \"one_hot\", \"split_key\": \"split1\", \"save_dir\": \"/home/share/huadjyin/home/zhoumin3/zhoumin/model_benchmark/01_A_results/AdamsonWeissman2016_GSM2406675_1/cpa/split1/\", \"num_pert_in_graph\": 9976}}\n",
      "{\"autoencoder_params\": {\"dim\": 256, \"dosers_width\": 64, \"dosers_depth\": 2, \"dosers_lr\": 0.001, \"dosers_wd\": 1e-07, \"autoencoder_width\": 512, \"autoencoder_depth\": 4, \"adversary_width\": 128, \"adversary_depth\": 3, \"reg_adversary\": 5, \"penalty_adversary\": 3, \"autoencoder_lr\": 0.001, \"adversary_lr\": 0.0003, \"autoencoder_wd\": 1e-06, \"adversary_wd\": 0.0001, \"adversary_steps\": 3, \"batch_size\": 128, \"step_size_lr\": 45}}\n",
      "{\"epoch\": 0, \"training_stats\": {\"loss_reconstruction\": -0.2646060160326737, \"loss_adv_drugs\": 0.7102092636956109, \"loss_adv_cell_types\": 0.0, \"penalty_adv_drugs\": 0.008261699298465694, \"penalty_adv_cell_types\": 0.001196297079635163}, \"ellapsed_minutes\": 0.01709762414296468}\n",
      "{\"model_saved\": \"model_seed=0_epoch=0.pt\\n\"}\n",
      "{\"epoch\": 20, \"training_stats\": {\"loss_reconstruction\": -1.5624670761602897, \"loss_adv_drugs\": 0.2746939024439565, \"loss_adv_cell_types\": 0.0, \"penalty_adv_drugs\": 0.002248815930215642, \"penalty_adv_cell_types\": 1.9343204304144445e-07}, \"ellapsed_minutes\": 0.13664480447769164}\n",
      "{\"model_saved\": \"model_seed=0_epoch=20.pt\\n\"}\n",
      "{\"epoch\": 40, \"training_stats\": {\"loss_reconstruction\": -1.5793295524738453, \"loss_adv_drugs\": 0.22948948100761132, \"loss_adv_cell_types\": 0.0, \"penalty_adv_drugs\": 0.006618961260688526, \"penalty_adv_cell_types\": 2.6432386743248637e-06}, \"ellapsed_minutes\": 0.26496325731277465}\n",
      "{\"model_saved\": \"model_seed=0_epoch=40.pt\\n\"}\n",
      "{\"epoch\": 60, \"training_stats\": {\"loss_reconstruction\": -1.5903172228071425, \"loss_adv_drugs\": 0.20879991076610707, \"loss_adv_cell_types\": 0.0, \"penalty_adv_drugs\": 0.0002285565424244851, \"penalty_adv_cell_types\": 8.559450473502697e-09}, \"ellapsed_minutes\": 0.3933571139971415}\n",
      "{\"model_saved\": \"model_seed=0_epoch=60.pt\\n\"}\n",
      "{\"epoch\": 80, \"training_stats\": {\"loss_reconstruction\": -1.6016012297736273, \"loss_adv_drugs\": 0.2048264311419593, \"loss_adv_cell_types\": 0.0, \"penalty_adv_drugs\": 0.0002087529447399666, \"penalty_adv_cell_types\": 5.802577684957129e-10}, \"ellapsed_minutes\": 0.5181664983431499}\n",
      "{\"model_saved\": \"model_seed=0_epoch=80.pt\\n\"}\n",
      "{\"epoch\": 100, \"training_stats\": {\"loss_reconstruction\": -1.608595640571029, \"loss_adv_drugs\": 0.20189943854455594, \"loss_adv_cell_types\": 0.0, \"penalty_adv_drugs\": 0.00011740997137234512, \"penalty_adv_cell_types\": 4.2594824144152836e-10}, \"ellapsed_minutes\": 0.6415891925493876}\n",
      "{\"model_saved\": \"model_seed=0_epoch=100.pt\\n\"}\n",
      "{\"epoch\": 120, \"training_stats\": {\"loss_reconstruction\": -1.617010271107709, \"loss_adv_drugs\": 0.20135974552896288, \"loss_adv_cell_types\": 0.0, \"penalty_adv_drugs\": 0.0001603468791236756, \"penalty_adv_cell_types\": 7.33168425661981e-12}, \"ellapsed_minutes\": 0.7641268730163574}\n",
      "{\"model_saved\": \"model_seed=0_epoch=120.pt\\n\"}\n",
      "{\"epoch\": 140, \"training_stats\": {\"loss_reconstruction\": -1.6221695255350184, \"loss_adv_drugs\": 0.20081622070736355, \"loss_adv_cell_types\": 0.0, \"penalty_adv_drugs\": 0.00019719311320740316, \"penalty_adv_cell_types\": 1.0401016656080707e-14}, \"ellapsed_minutes\": 0.889064625898997}\n",
      "{\"model_saved\": \"model_seed=0_epoch=140.pt\\n\"}\n",
      "{\"epoch\": 160, \"training_stats\": {\"loss_reconstruction\": -1.62189366640868, \"loss_adv_drugs\": 0.19934233471199317, \"loss_adv_cell_types\": 0.0, \"penalty_adv_drugs\": 0.000539563278262331, \"penalty_adv_cell_types\": 5.376013003012612e-19}, \"ellapsed_minutes\": 1.0149008909861246}\n",
      "{\"model_saved\": \"model_seed=0_epoch=160.pt\\n\"}\n",
      "{\"epoch\": 180, \"training_stats\": {\"loss_reconstruction\": -1.6162251013296622, \"loss_adv_drugs\": 0.20235339359000878, \"loss_adv_cell_types\": 0.0, \"penalty_adv_drugs\": 5.179632905680962e-05, \"penalty_adv_cell_types\": 2.088417961487786e-24}, \"ellapsed_minutes\": 1.1347935875256856}\n",
      "{\"model_saved\": \"model_seed=0_epoch=180.pt\\n\"}\n",
      "{\"epoch\": 200, \"training_stats\": {\"loss_reconstruction\": -1.6295532562114574, \"loss_adv_drugs\": 0.20043879802580233, \"loss_adv_cell_types\": 0.0, \"penalty_adv_drugs\": 6.243961817947113e-05, \"penalty_adv_cell_types\": 2.0491172245233195e-31}, \"ellapsed_minutes\": 1.2549133539199828}\n",
      "{\"model_saved\": \"model_seed=0_epoch=200.pt\\n\"}\n",
      "{\"epoch\": 220, \"training_stats\": {\"loss_reconstruction\": -1.6351740227805243, \"loss_adv_drugs\": 0.19942722773110425, \"loss_adv_cell_types\": 0.0, \"penalty_adv_drugs\": 9.737521274170528e-05, \"penalty_adv_cell_types\": 8.606148216570098e-40}, \"ellapsed_minutes\": 1.3769306540489197}\n",
      "{\"model_saved\": \"model_seed=0_epoch=220.pt\\n\"}\n",
      "{\"epoch\": 240, \"training_stats\": {\"loss_reconstruction\": -1.6394487972612735, \"loss_adv_drugs\": 0.19917439531396935, \"loss_adv_cell_types\": 0.0, \"penalty_adv_drugs\": 0.00010211176171045129, \"penalty_adv_cell_types\": 0.0}, \"ellapsed_minutes\": 1.500055714448293}\n",
      "{\"model_saved\": \"model_seed=0_epoch=240.pt\\n\"}\n",
      "{\"epoch\": 260, \"training_stats\": {\"loss_reconstruction\": -1.646652689686528, \"loss_adv_drugs\": 0.1992621443889759, \"loss_adv_cell_types\": 0.0, \"penalty_adv_drugs\": 7.801637211404913e-05, \"penalty_adv_cell_types\": 0.0}, \"ellapsed_minutes\": 1.6323895812034608}\n",
      "{\"model_saved\": \"model_seed=0_epoch=260.pt\\n\"}\n",
      "{\"epoch\": 280, \"training_stats\": {\"loss_reconstruction\": -1.6484388907750447, \"loss_adv_drugs\": 0.1992379112376107, \"loss_adv_cell_types\": 0.0, \"penalty_adv_drugs\": 9.769128303526452e-05, \"penalty_adv_cell_types\": 0.0}, \"ellapsed_minutes\": 1.7580625375111898}\n",
      "{\"model_saved\": \"model_seed=0_epoch=280.pt\\n\"}\n",
      "{\"epoch\": 300, \"training_stats\": {\"loss_reconstruction\": -1.6530524492263794, \"loss_adv_drugs\": 0.1987104139946125, \"loss_adv_cell_types\": 0.0, \"penalty_adv_drugs\": 6.76415325465819e-05, \"penalty_adv_cell_types\": 0.0}, \"ellapsed_minutes\": 1.8833107630411783}\n",
      "{\"model_saved\": \"model_seed=0_epoch=300.pt\\n\"}\n",
      "{\"epoch\": 320, \"training_stats\": {\"loss_reconstruction\": -1.659689638349745, \"loss_adv_drugs\": 0.19898233424734185, \"loss_adv_cell_types\": 0.0, \"penalty_adv_drugs\": 4.822187299766854e-05, \"penalty_adv_cell_types\": 0.0}, \"ellapsed_minutes\": 2.0030559500058494}\n",
      "{\"model_saved\": \"model_seed=0_epoch=320.pt\\n\"}\n",
      "{\"epoch\": 340, \"training_stats\": {\"loss_reconstruction\": -1.6645168595843844, \"loss_adv_drugs\": 0.1992308431201511, \"loss_adv_cell_types\": 0.0, \"penalty_adv_drugs\": 4.0009894830830117e-05, \"penalty_adv_cell_types\": 0.0}, \"ellapsed_minutes\": 2.122498075167338}\n",
      "{\"model_saved\": \"model_seed=0_epoch=340.pt\\n\"}\n",
      "{\"epoch\": 360, \"training_stats\": {\"loss_reconstruction\": -1.665227969487508, \"loss_adv_drugs\": 0.19868038098017374, \"loss_adv_cell_types\": 0.0, \"penalty_adv_drugs\": 5.233704548488647e-05, \"penalty_adv_cell_types\": 0.0}, \"ellapsed_minutes\": 2.2487672607103986}\n",
      "{\"model_saved\": \"model_seed=0_epoch=360.pt\\n\"}\n",
      "{\"epoch\": 380, \"training_stats\": {\"loss_reconstruction\": -1.6730029671280473, \"loss_adv_drugs\": 0.1986187321168405, \"loss_adv_cell_types\": 0.0, \"penalty_adv_drugs\": 4.939712838407744e-05, \"penalty_adv_cell_types\": 0.0}, \"ellapsed_minutes\": 2.3762020270029702}\n",
      "{\"model_saved\": \"model_seed=0_epoch=380.pt\\n\"}\n",
      "{\"epoch\": 400, \"training_stats\": {\"loss_reconstruction\": -1.6788521607716878, \"loss_adv_drugs\": 0.1991874995055022, \"loss_adv_cell_types\": 0.0, \"penalty_adv_drugs\": 3.99035525333602e-05, \"penalty_adv_cell_types\": 0.0}, \"ellapsed_minutes\": 2.503283468882243}\n",
      "{\"model_saved\": \"model_seed=0_epoch=400.pt\\n\"}\n",
      "{\"epoch\": 420, \"training_stats\": {\"loss_reconstruction\": -1.6844505601459079, \"loss_adv_drugs\": 0.19923107160462272, \"loss_adv_cell_types\": 0.0, \"penalty_adv_drugs\": 3.024113680617625e-05, \"penalty_adv_cell_types\": 0.0}, \"ellapsed_minutes\": 2.627810001373291}\n",
      "{\"model_saved\": \"model_seed=0_epoch=420.pt\\n\"}\n",
      "{\"epoch\": 440, \"training_stats\": {\"loss_reconstruction\": -1.6894479945853904, \"loss_adv_drugs\": 0.1988071490217138, \"loss_adv_cell_types\": 0.0, \"penalty_adv_drugs\": 1.6040443572112257e-05, \"penalty_adv_cell_types\": 0.0}, \"ellapsed_minutes\": 2.7519463618596394}\n",
      "{\"model_saved\": \"model_seed=0_epoch=440.pt\\n\"}\n",
      "{\"epoch\": 460, \"training_stats\": {\"loss_reconstruction\": -1.6981201701694064, \"loss_adv_drugs\": 0.19866667356756, \"loss_adv_cell_types\": 0.0, \"penalty_adv_drugs\": 1.3886876769430711e-05, \"penalty_adv_cell_types\": 0.0}, \"ellapsed_minutes\": 2.8779460271199544}\n",
      "{\"model_saved\": \"model_seed=0_epoch=460.pt\\n\"}\n",
      "{\"epoch\": 480, \"training_stats\": {\"loss_reconstruction\": -1.7006166334505435, \"loss_adv_drugs\": 0.19946054176047998, \"loss_adv_cell_types\": 0.0, \"penalty_adv_drugs\": 6.73726134226416e-05, \"penalty_adv_cell_types\": 0.0}, \"ellapsed_minutes\": 3.00280100107193}\n",
      "{\"model_saved\": \"model_seed=0_epoch=480.pt\\n\"}\n",
      "{\"epoch\": 499, \"training_stats\": {\"loss_reconstruction\": -1.707389685842726, \"loss_adv_drugs\": 0.19876354104942745, \"loss_adv_cell_types\": 0.0, \"penalty_adv_drugs\": 1.0442664275884723e-05, \"penalty_adv_cell_types\": 0.0}, \"ellapsed_minutes\": 3.121863524119059}\n",
      "{\"model_saved\": \"model_seed=0_epoch=499.pt\\n\"}\n",
      "Training for split 2...\n",
      "go_path: /home/share/huadjyin/home/zhoumin3/zhoumin/benchmark_data/01A_total_re/03final/data/go_essential_adamsonweissman2016_gsm2406675_1.csv\n"
     ]
    },
    {
     "name": "stderr",
     "output_type": "stream",
     "text": [
      "/var/tmp/ipykernel_2519765/3805489455.py:77: DeprecationWarning: DataFrameGroupBy.apply operated on the grouping columns. This behavior is deprecated, and in a future version of pandas the grouping columns will be excluded from the operation. Either pass `include_groups=False` to exclude the groupings or explicitly select the grouping columns after groupby to silence this warning.\n",
      "  df = df.groupby('target').apply(lambda x: x.nlargest(20 + 1,['importance'])).reset_index(drop = True)\n"
     ]
    },
    {
     "name": "stdout",
     "output_type": "stream",
     "text": [
      "-1\n",
      "--1\n",
      "---1\n",
      "---2\n",
      "---3\n",
      "---4\n",
      "---5\n",
      "---6\n",
      "---7\n",
      "--2\n",
      "-2\n",
      "-3\n",
      "{'0': 'BHLHE40', '2': 'DDIT3', '5': 'SPI1', '7': 'ctrl', '1': 'CREB1', '6': 'ZNF326', '4': 'SNAI1', '3': 'EP300'}\n",
      "{'BHLHE40': array([0., 0., 0., ..., 0., 0., 0.]), 'DDIT3': array([0., 0., 0., ..., 0., 0., 0.]), 'SPI1': array([0., 0., 0., ..., 0., 0., 0.]), 'ctrl': array([0., 0., 0., ..., 0., 0., 0.]), 'CREB1': array([0., 0., 0., ..., 0., 0., 0.]), 'ZNF326': array([0., 0., 0., ..., 0., 0., 0.]), 'SNAI1': array([0., 0., 0., ..., 0., 0., 0.]), 'EP300': array([0., 0., 0., ..., 0., 0., 0.])}\n",
      "{'BHLHE40': array([1., 0., 0., 0., 0., 0., 0., 0.]), 'DDIT3': array([0., 0., 1., 0., 0., 0., 0., 0.]), 'SPI1': array([0., 0., 0., 0., 0., 1., 0., 0.]), 'ctrl': array([0., 0., 0., 0., 0., 0., 0., 1.]), 'CREB1': array([0., 1., 0., 0., 0., 0., 0., 0.]), 'ZNF326': array([0., 0., 0., 0., 0., 0., 1., 0.]), 'SNAI1': array([0., 0., 0., 0., 1., 0., 0., 0.]), 'EP300': array([0., 0., 0., 1., 0., 0., 0., 0.])}\n",
      "{\"training_args\": {\"dataset_path\": \"AdamsonWeissman2016_GSM2406675_1.h5ad\", \"dataset\": \"AdamsonWeissman2016_GSM2406675_1\", \"perturbation_key\": \"condition\", \"dose_key\": \"dose_val\", \"cell_type_key\": \"cell_type\", \"loss_ae\": \"gauss\", \"doser_type\": \"sigm\", \"decoder_activation\": \"linear\", \"seed\": 0, \"hparams\": \"\", \"cuda\": 0, \"max_epochs\": 500, \"max_minutes\": 400, \"patience\": 20, \"checkpoint_freq\": 20, \"sweep_seeds\": 200, \"emb\": \"one_hot\", \"split_key\": \"split2\", \"save_dir\": \"/home/share/huadjyin/home/zhoumin3/zhoumin/model_benchmark/01_A_results/AdamsonWeissman2016_GSM2406675_1/cpa/split2/\", \"num_pert_in_graph\": 9976}}\n",
      "{\"autoencoder_params\": {\"dim\": 256, \"dosers_width\": 64, \"dosers_depth\": 2, \"dosers_lr\": 0.001, \"dosers_wd\": 1e-07, \"autoencoder_width\": 512, \"autoencoder_depth\": 4, \"adversary_width\": 128, \"adversary_depth\": 3, \"reg_adversary\": 5, \"penalty_adversary\": 3, \"autoencoder_lr\": 0.001, \"adversary_lr\": 0.0003, \"autoencoder_wd\": 1e-06, \"adversary_wd\": 0.0001, \"adversary_steps\": 3, \"batch_size\": 128, \"step_size_lr\": 45}}\n",
      "{\"epoch\": 0, \"training_stats\": {\"loss_reconstruction\": -0.27358776750043035, \"loss_adv_drugs\": 0.7042001549686704, \"loss_adv_cell_types\": 0.0, \"penalty_adv_drugs\": 0.007623424321146948, \"penalty_adv_cell_types\": 0.001169676218913602}, \"ellapsed_minutes\": 0.006909553209940592}\n",
      "{\"model_saved\": \"model_seed=0_epoch=0.pt\\n\"}\n",
      "{\"epoch\": 20, \"training_stats\": {\"loss_reconstruction\": -1.5584744768483298, \"loss_adv_drugs\": 0.2618610667330878, \"loss_adv_cell_types\": 0.0, \"penalty_adv_drugs\": 0.002588654074185927, \"penalty_adv_cell_types\": 6.877145973963447e-07}, \"ellapsed_minutes\": 0.14237454334894817}\n",
      "{\"model_saved\": \"model_seed=0_epoch=20.pt\\n\"}\n",
      "{\"epoch\": 40, \"training_stats\": {\"loss_reconstruction\": -1.5710407623222895, \"loss_adv_drugs\": 0.21001929843000003, \"loss_adv_cell_types\": 0.0, \"penalty_adv_drugs\": 0.0031045807388311785, \"penalty_adv_cell_types\": 6.367557655754094e-07}, \"ellapsed_minutes\": 0.2733137329419454}\n",
      "{\"model_saved\": \"model_seed=0_epoch=40.pt\\n\"}\n",
      "{\"epoch\": 60, \"training_stats\": {\"loss_reconstruction\": -1.5820705464908056, \"loss_adv_drugs\": 0.21819945584450448, \"loss_adv_cell_types\": 0.0, \"penalty_adv_drugs\": 0.00032098307929118164, \"penalty_adv_cell_types\": 1.1475266455317014e-08}, \"ellapsed_minutes\": 0.39930575688680015}\n",
      "{\"model_saved\": \"model_seed=0_epoch=60.pt\\n\"}\n",
      "{\"epoch\": 80, \"training_stats\": {\"loss_reconstruction\": -1.5846488092626845, \"loss_adv_drugs\": 0.23253846062081202, \"loss_adv_cell_types\": 0.0, \"penalty_adv_drugs\": 0.007659019270379629, \"penalty_adv_cell_types\": 1.2719301608978194e-09}, \"ellapsed_minutes\": 0.5345036705334981}\n",
      "{\"model_saved\": \"model_seed=0_epoch=80.pt\\n\"}\n",
      "{\"epoch\": 100, \"training_stats\": {\"loss_reconstruction\": -1.6016659353460585, \"loss_adv_drugs\": 0.20815909228154592, \"loss_adv_cell_types\": 0.0, \"penalty_adv_drugs\": 0.0001807765599681131, \"penalty_adv_cell_types\": 1.4367423333329453e-10}, \"ellapsed_minutes\": 0.674326221148173}\n",
      "{\"model_saved\": \"model_seed=0_epoch=100.pt\\n\"}\n",
      "{\"epoch\": 120, \"training_stats\": {\"loss_reconstruction\": -1.6055849237101418, \"loss_adv_drugs\": 0.20427483533109939, \"loss_adv_cell_types\": 0.0, \"penalty_adv_drugs\": 0.000540064110412329, \"penalty_adv_cell_types\": 1.7464710154182132e-11}, \"ellapsed_minutes\": 0.8117377718289693}\n",
      "{\"model_saved\": \"model_seed=0_epoch=120.pt\\n\"}\n",
      "{\"epoch\": 140, \"training_stats\": {\"loss_reconstruction\": -1.6139661286558424, \"loss_adv_drugs\": 0.20432666369846889, \"loss_adv_cell_types\": 0.0, \"penalty_adv_drugs\": 0.00023465861054968888, \"penalty_adv_cell_types\": 4.806719290798242e-15}, \"ellapsed_minutes\": 0.9415048837661744}\n",
      "{\"model_saved\": \"model_seed=0_epoch=140.pt\\n\"}\n",
      "{\"epoch\": 160, \"training_stats\": {\"loss_reconstruction\": -1.6150944701262884, \"loss_adv_drugs\": 0.20724386030009814, \"loss_adv_cell_types\": 0.0, \"penalty_adv_drugs\": 0.00014385148460860364, \"penalty_adv_cell_types\": 8.971918767438916e-20}, \"ellapsed_minutes\": 1.0737016439437865}\n",
      "{\"model_saved\": \"model_seed=0_epoch=160.pt\\n\"}\n",
      "{\"epoch\": 180, \"training_stats\": {\"loss_reconstruction\": -1.6201782183987754, \"loss_adv_drugs\": 0.20387728618724005, \"loss_adv_cell_types\": 0.0, \"penalty_adv_drugs\": 0.00013378966520706723, \"penalty_adv_cell_types\": 1.3057153875936045e-24}, \"ellapsed_minutes\": 1.203029203414917}\n",
      "{\"model_saved\": \"model_seed=0_epoch=180.pt\\n\"}\n",
      "{\"epoch\": 200, \"training_stats\": {\"loss_reconstruction\": -1.62791565486363, \"loss_adv_drugs\": 0.20291621450866973, \"loss_adv_cell_types\": 0.0, \"penalty_adv_drugs\": 0.00014904691514467622, \"penalty_adv_cell_types\": 1.1691158446685059e-29}, \"ellapsed_minutes\": 1.3321916103363036}\n",
      "{\"model_saved\": \"model_seed=0_epoch=200.pt\\n\"}\n",
      "{\"epoch\": 220, \"training_stats\": {\"loss_reconstruction\": -1.631440051964351, \"loss_adv_drugs\": 0.2027542410152299, \"loss_adv_cell_types\": 0.0, \"penalty_adv_drugs\": 0.00019604820798641804, \"penalty_adv_cell_types\": 2.148211332471179e-36}, \"ellapsed_minutes\": 1.4610170086224874}\n",
      "{\"model_saved\": \"model_seed=0_epoch=220.pt\\n\"}\n",
      "{\"epoch\": 240, \"training_stats\": {\"loss_reconstruction\": -1.63480806350708, \"loss_adv_drugs\": 0.2022514662572316, \"loss_adv_cell_types\": 0.0, \"penalty_adv_drugs\": 0.00012062044022189054, \"penalty_adv_cell_types\": 1.4363309259329375e-44}, \"ellapsed_minutes\": 1.5899017254511516}\n",
      "{\"model_saved\": \"model_seed=0_epoch=240.pt\\n\"}\n",
      "{\"epoch\": 260, \"training_stats\": {\"loss_reconstruction\": -1.636306004864829, \"loss_adv_drugs\": 0.2020507449550288, \"loss_adv_cell_types\": 0.0, \"penalty_adv_drugs\": 0.00014023482097919832, \"penalty_adv_cell_types\": 0.0}, \"ellapsed_minutes\": 1.7214360992113749}\n",
      "{\"model_saved\": \"model_seed=0_epoch=260.pt\\n\"}\n",
      "{\"epoch\": 280, \"training_stats\": {\"loss_reconstruction\": -1.640564888715744, \"loss_adv_drugs\": 0.20220932311245374, \"loss_adv_cell_types\": 0.0, \"penalty_adv_drugs\": 0.00022750066792858497, \"penalty_adv_cell_types\": 0.0}, \"ellapsed_minutes\": 1.8544820467631022}\n",
      "{\"model_saved\": \"model_seed=0_epoch=280.pt\\n\"}\n",
      "{\"epoch\": 300, \"training_stats\": {\"loss_reconstruction\": -1.6439828404358454, \"loss_adv_drugs\": 0.201828909771783, \"loss_adv_cell_types\": 0.0, \"penalty_adv_drugs\": 0.00013343726147598187, \"penalty_adv_cell_types\": 0.0}, \"ellapsed_minutes\": 1.982020135720571}\n",
      "{\"model_saved\": \"model_seed=0_epoch=300.pt\\n\"}\n",
      "{\"epoch\": 320, \"training_stats\": {\"loss_reconstruction\": -1.64524273787226, \"loss_adv_drugs\": 0.20166464469262532, \"loss_adv_cell_types\": 0.0, \"penalty_adv_drugs\": 6.0572377801041254e-05, \"penalty_adv_cell_types\": 0.0}, \"ellapsed_minutes\": 2.1143887639045715}\n",
      "{\"model_saved\": \"model_seed=0_epoch=320.pt\\n\"}\n",
      "{\"epoch\": 340, \"training_stats\": {\"loss_reconstruction\": -1.6480175852775574, \"loss_adv_drugs\": 0.20183387718030385, \"loss_adv_cell_types\": 0.0, \"penalty_adv_drugs\": 4.1227388984615186e-05, \"penalty_adv_cell_types\": 0.0}, \"ellapsed_minutes\": 2.248469380537669}\n",
      "{\"model_saved\": \"model_seed=0_epoch=340.pt\\n\"}\n",
      "{\"epoch\": 360, \"training_stats\": {\"loss_reconstruction\": -1.652773495231356, \"loss_adv_drugs\": 0.20175411392535483, \"loss_adv_cell_types\": 0.0, \"penalty_adv_drugs\": 2.97105863345288e-05, \"penalty_adv_cell_types\": 0.0}, \"ellapsed_minutes\": 2.3802093068758645}\n",
      "{\"model_saved\": \"model_seed=0_epoch=360.pt\\n\"}\n",
      "{\"epoch\": 380, \"training_stats\": {\"loss_reconstruction\": -1.654947770493371, \"loss_adv_drugs\": 0.2014797500201634, \"loss_adv_cell_types\": 0.0, \"penalty_adv_drugs\": 5.260726304965958e-05, \"penalty_adv_cell_types\": 0.0}, \"ellapsed_minutes\": 2.510053340593974}\n",
      "{\"model_saved\": \"model_seed=0_epoch=380.pt\\n\"}\n",
      "{\"epoch\": 400, \"training_stats\": {\"loss_reconstruction\": -1.6656333293233598, \"loss_adv_drugs\": 0.20195267455918448, \"loss_adv_cell_types\": 0.0, \"penalty_adv_drugs\": 4.204894711230216e-05, \"penalty_adv_cell_types\": 0.0}, \"ellapsed_minutes\": 2.641109875837962}\n",
      "{\"model_saved\": \"model_seed=0_epoch=400.pt\\n\"}\n",
      "{\"epoch\": 420, \"training_stats\": {\"loss_reconstruction\": -1.664078665631158, \"loss_adv_drugs\": 0.20185121202043124, \"loss_adv_cell_types\": 0.0, \"penalty_adv_drugs\": 3.112498968351117e-05, \"penalty_adv_cell_types\": 0.0}, \"ellapsed_minutes\": 2.7718424836794537}\n",
      "{\"model_saved\": \"model_seed=0_epoch=420.pt\\n\"}\n",
      "{\"epoch\": 440, \"training_stats\": {\"loss_reconstruction\": -1.6745390253407615, \"loss_adv_drugs\": 0.20182689651846886, \"loss_adv_cell_types\": 0.0, \"penalty_adv_drugs\": 4.0392399114352884e-05, \"penalty_adv_cell_types\": 0.0}, \"ellapsed_minutes\": 2.9014191389083863}\n",
      "{\"model_saved\": \"model_seed=0_epoch=440.pt\\n\"}\n",
      "{\"epoch\": 460, \"training_stats\": {\"loss_reconstruction\": -1.6812516152858734, \"loss_adv_drugs\": 0.20154923307044165, \"loss_adv_cell_types\": 0.0, \"penalty_adv_drugs\": 3.26225853573955e-05, \"penalty_adv_cell_types\": 0.0}, \"ellapsed_minutes\": 3.0312995155652365}\n",
      "{\"model_saved\": \"model_seed=0_epoch=460.pt\\n\"}\n",
      "{\"epoch\": 480, \"training_stats\": {\"loss_reconstruction\": -1.6863075622490473, \"loss_adv_drugs\": 0.20174837218863623, \"loss_adv_cell_types\": 0.0, \"penalty_adv_drugs\": 1.8883974982080482e-05, \"penalty_adv_cell_types\": 0.0}, \"ellapsed_minutes\": 3.1614464561144513}\n",
      "{\"model_saved\": \"model_seed=0_epoch=480.pt\\n\"}\n",
      "{\"epoch\": 499, \"training_stats\": {\"loss_reconstruction\": -1.6914959379604884, \"loss_adv_drugs\": 0.20172069274953433, \"loss_adv_cell_types\": 0.0, \"penalty_adv_drugs\": 4.7428600867403604e-05, \"penalty_adv_cell_types\": 0.0}, \"ellapsed_minutes\": 3.2868568261464435}\n",
      "{\"model_saved\": \"model_seed=0_epoch=499.pt\\n\"}\n",
      "Training for split 3...\n",
      "go_path: /home/share/huadjyin/home/zhoumin3/zhoumin/benchmark_data/01A_total_re/03final/data/go_essential_adamsonweissman2016_gsm2406675_1.csv\n"
     ]
    },
    {
     "name": "stderr",
     "output_type": "stream",
     "text": [
      "/var/tmp/ipykernel_2519765/3805489455.py:77: DeprecationWarning: DataFrameGroupBy.apply operated on the grouping columns. This behavior is deprecated, and in a future version of pandas the grouping columns will be excluded from the operation. Either pass `include_groups=False` to exclude the groupings or explicitly select the grouping columns after groupby to silence this warning.\n",
      "  df = df.groupby('target').apply(lambda x: x.nlargest(20 + 1,['importance'])).reset_index(drop = True)\n"
     ]
    },
    {
     "name": "stdout",
     "output_type": "stream",
     "text": [
      "-1\n",
      "--1\n",
      "---1\n",
      "---2\n",
      "---3\n",
      "---4\n",
      "---5\n",
      "---6\n",
      "---7\n",
      "--2\n",
      "-2\n",
      "-3\n",
      "{'0': 'BHLHE40', '2': 'DDIT3', '5': 'SPI1', '7': 'ctrl', '1': 'CREB1', '6': 'ZNF326', '4': 'SNAI1', '3': 'EP300'}\n",
      "{'BHLHE40': array([0., 0., 0., ..., 0., 0., 0.]), 'DDIT3': array([0., 0., 0., ..., 0., 0., 0.]), 'SPI1': array([0., 0., 0., ..., 0., 0., 0.]), 'ctrl': array([0., 0., 0., ..., 0., 0., 0.]), 'CREB1': array([0., 0., 0., ..., 0., 0., 0.]), 'ZNF326': array([0., 0., 0., ..., 0., 0., 0.]), 'SNAI1': array([0., 0., 0., ..., 0., 0., 0.]), 'EP300': array([0., 0., 0., ..., 0., 0., 0.])}\n",
      "{'BHLHE40': array([1., 0., 0., 0., 0., 0., 0., 0.]), 'DDIT3': array([0., 0., 1., 0., 0., 0., 0., 0.]), 'SPI1': array([0., 0., 0., 0., 0., 1., 0., 0.]), 'ctrl': array([0., 0., 0., 0., 0., 0., 0., 1.]), 'CREB1': array([0., 1., 0., 0., 0., 0., 0., 0.]), 'ZNF326': array([0., 0., 0., 0., 0., 0., 1., 0.]), 'SNAI1': array([0., 0., 0., 0., 1., 0., 0., 0.]), 'EP300': array([0., 0., 0., 1., 0., 0., 0., 0.])}\n",
      "{\"training_args\": {\"dataset_path\": \"AdamsonWeissman2016_GSM2406675_1.h5ad\", \"dataset\": \"AdamsonWeissman2016_GSM2406675_1\", \"perturbation_key\": \"condition\", \"dose_key\": \"dose_val\", \"cell_type_key\": \"cell_type\", \"loss_ae\": \"gauss\", \"doser_type\": \"sigm\", \"decoder_activation\": \"linear\", \"seed\": 0, \"hparams\": \"\", \"cuda\": 0, \"max_epochs\": 500, \"max_minutes\": 400, \"patience\": 20, \"checkpoint_freq\": 20, \"sweep_seeds\": 200, \"emb\": \"one_hot\", \"split_key\": \"split3\", \"save_dir\": \"/home/share/huadjyin/home/zhoumin3/zhoumin/model_benchmark/01_A_results/AdamsonWeissman2016_GSM2406675_1/cpa/split3/\", \"num_pert_in_graph\": 9976}}\n",
      "{\"autoencoder_params\": {\"dim\": 256, \"dosers_width\": 64, \"dosers_depth\": 2, \"dosers_lr\": 0.001, \"dosers_wd\": 1e-07, \"autoencoder_width\": 512, \"autoencoder_depth\": 4, \"adversary_width\": 128, \"adversary_depth\": 3, \"reg_adversary\": 5, \"penalty_adversary\": 3, \"autoencoder_lr\": 0.001, \"adversary_lr\": 0.0003, \"autoencoder_wd\": 1e-06, \"adversary_wd\": 0.0001, \"adversary_steps\": 3, \"batch_size\": 128, \"step_size_lr\": 45}}\n",
      "{\"epoch\": 0, \"training_stats\": {\"loss_reconstruction\": -0.2917763004240034, \"loss_adv_drugs\": 0.7011100793706959, \"loss_adv_cell_types\": 0.0, \"penalty_adv_drugs\": 0.007818936755688026, \"penalty_adv_cell_types\": 0.0011443447458140295}, \"ellapsed_minutes\": 0.007276590665181478}\n",
      "{\"model_saved\": \"model_seed=0_epoch=0.pt\\n\"}\n",
      "{\"epoch\": 20, \"training_stats\": {\"loss_reconstruction\": -1.5475482529607312, \"loss_adv_drugs\": 0.27063258300567494, \"loss_adv_cell_types\": 0.0, \"penalty_adv_drugs\": 0.002258974823956217, \"penalty_adv_cell_types\": 4.4231976732652554e-07}, \"ellapsed_minutes\": 0.14698739449183146}\n",
      "{\"model_saved\": \"model_seed=0_epoch=20.pt\\n\"}\n",
      "{\"epoch\": 40, \"training_stats\": {\"loss_reconstruction\": -1.5637415113120243, \"loss_adv_drugs\": 0.23720690710791226, \"loss_adv_cell_types\": 0.0, \"penalty_adv_drugs\": 0.021913493052124977, \"penalty_adv_cell_types\": 1.0655991767133196e-07}, \"ellapsed_minutes\": 0.2836483915646871}\n",
      "{\"model_saved\": \"model_seed=0_epoch=40.pt\\n\"}\n",
      "{\"epoch\": 60, \"training_stats\": {\"loss_reconstruction\": -1.570856238233632, \"loss_adv_drugs\": 0.21687454036597548, \"loss_adv_cell_types\": 0.0, \"penalty_adv_drugs\": 0.00043924805805576836, \"penalty_adv_cell_types\": 2.294466932542825e-09}, \"ellapsed_minutes\": 0.41977134545644124}\n",
      "{\"model_saved\": \"model_seed=0_epoch=60.pt\\n\"}\n",
      "{\"epoch\": 80, \"training_stats\": {\"loss_reconstruction\": -1.5817253055243656, \"loss_adv_drugs\": 0.21406319377751187, \"loss_adv_cell_types\": 0.0, \"penalty_adv_drugs\": 0.0003620849393914325, \"penalty_adv_cell_types\": 1.2155232255355078e-09}, \"ellapsed_minutes\": 0.555616271495819}\n",
      "{\"model_saved\": \"model_seed=0_epoch=80.pt\\n\"}\n",
      "{\"epoch\": 100, \"training_stats\": {\"loss_reconstruction\": -1.5932994793201316, \"loss_adv_drugs\": 0.2094467729330063, \"loss_adv_cell_types\": 0.0, \"penalty_adv_drugs\": 0.00028202404741775887, \"penalty_adv_cell_types\": 6.501175274193679e-10}, \"ellapsed_minutes\": 0.6914084553718567}\n",
      "{\"model_saved\": \"model_seed=0_epoch=100.pt\\n\"}\n",
      "{\"epoch\": 120, \"training_stats\": {\"loss_reconstruction\": -1.5996509009394153, \"loss_adv_drugs\": 0.20828329540532212, \"loss_adv_cell_types\": 0.0, \"penalty_adv_drugs\": 0.00043064657325760043, \"penalty_adv_cell_types\": 4.0959029985785065e-11}, \"ellapsed_minutes\": 0.831029478708903}\n",
      "{\"model_saved\": \"model_seed=0_epoch=120.pt\\n\"}\n",
      "{\"epoch\": 140, \"training_stats\": {\"loss_reconstruction\": -1.587134311939108, \"loss_adv_drugs\": 0.21320756499109597, \"loss_adv_cell_types\": 0.0, \"penalty_adv_drugs\": 0.00035496825575105976, \"penalty_adv_cell_types\": 1.3846475828769207e-14}, \"ellapsed_minutes\": 0.9690986752510071}\n",
      "{\"model_saved\": \"model_seed=0_epoch=140.pt\\n\"}\n",
      "{\"epoch\": 160, \"training_stats\": {\"loss_reconstruction\": -1.6032655156891922, \"loss_adv_drugs\": 0.2100940341579503, \"loss_adv_cell_types\": 0.0, \"penalty_adv_drugs\": 0.0002624817631119091, \"penalty_adv_cell_types\": 4.988885620669104e-18}, \"ellapsed_minutes\": 1.1060271859169006}\n",
      "{\"model_saved\": \"model_seed=0_epoch=160.pt\\n\"}\n",
      "{\"epoch\": 180, \"training_stats\": {\"loss_reconstruction\": -1.6104768350206573, \"loss_adv_drugs\": 0.20707476036301975, \"loss_adv_cell_types\": 0.0, \"penalty_adv_drugs\": 0.00010097603181152251, \"penalty_adv_cell_types\": 2.7045765834000954e-24}, \"ellapsed_minutes\": 1.241481097539266}\n",
      "{\"model_saved\": \"model_seed=0_epoch=180.pt\\n\"}\n",
      "{\"epoch\": 200, \"training_stats\": {\"loss_reconstruction\": -1.619601895069254, \"loss_adv_drugs\": 0.20709879901902428, \"loss_adv_cell_types\": 0.0, \"penalty_adv_drugs\": 0.0001508056949864238, \"penalty_adv_cell_types\": 5.690436974613127e-32}, \"ellapsed_minutes\": 1.3788073341051736}\n",
      "{\"model_saved\": \"model_seed=0_epoch=200.pt\\n\"}\n",
      "{\"epoch\": 220, \"training_stats\": {\"loss_reconstruction\": -1.6210387821855217, \"loss_adv_drugs\": 0.20680669566680646, \"loss_adv_cell_types\": 0.0, \"penalty_adv_drugs\": 0.0007744251473421423, \"penalty_adv_cell_types\": 5.920872576865959e-41}, \"ellapsed_minutes\": 1.51702747742335}\n",
      "{\"model_saved\": \"model_seed=0_epoch=220.pt\\n\"}\n",
      "{\"epoch\": 240, \"training_stats\": {\"loss_reconstruction\": -1.6251684427261353, \"loss_adv_drugs\": 0.2060575552027801, \"loss_adv_cell_types\": 0.0, \"penalty_adv_drugs\": 8.496233655525178e-05, \"penalty_adv_cell_types\": 0.0}, \"ellapsed_minutes\": 1.6556626200675963}\n",
      "{\"model_saved\": \"model_seed=0_epoch=240.pt\\n\"}\n",
      "{\"epoch\": 260, \"training_stats\": {\"loss_reconstruction\": -1.6258837642340824, \"loss_adv_drugs\": 0.20609981643742528, \"loss_adv_cell_types\": 0.0, \"penalty_adv_drugs\": 9.985134790346412e-05, \"penalty_adv_cell_types\": 0.0}, \"ellapsed_minutes\": 1.803956961631775}\n",
      "{\"model_saved\": \"model_seed=0_epoch=260.pt\\n\"}\n",
      "{\"epoch\": 280, \"training_stats\": {\"loss_reconstruction\": -1.6328235905745934, \"loss_adv_drugs\": 0.20558713427905378, \"loss_adv_cell_types\": 0.0, \"penalty_adv_drugs\": 6.326910405387652e-05, \"penalty_adv_cell_types\": 0.0}, \"ellapsed_minutes\": 1.951091738541921}\n",
      "{\"model_saved\": \"model_seed=0_epoch=280.pt\\n\"}\n",
      "{\"epoch\": 300, \"training_stats\": {\"loss_reconstruction\": -1.6343293354429047, \"loss_adv_drugs\": 0.2062494744514597, \"loss_adv_cell_types\": 0.0, \"penalty_adv_drugs\": 5.752098877565004e-05, \"penalty_adv_cell_types\": 0.0}, \"ellapsed_minutes\": 2.0953430771827697}\n",
      "{\"model_saved\": \"model_seed=0_epoch=300.pt\\n\"}\n",
      "{\"epoch\": 320, \"training_stats\": {\"loss_reconstruction\": -1.6353621071782605, \"loss_adv_drugs\": 0.20599865091258082, \"loss_adv_cell_types\": 0.0, \"penalty_adv_drugs\": 8.76090225888063e-05, \"penalty_adv_cell_types\": 0.0}, \"ellapsed_minutes\": 2.2396958907445272}\n",
      "{\"model_saved\": \"model_seed=0_epoch=320.pt\\n\"}\n",
      "{\"epoch\": 340, \"training_stats\": {\"loss_reconstruction\": -1.6414436101913452, \"loss_adv_drugs\": 0.20623074934400362, \"loss_adv_cell_types\": 0.0, \"penalty_adv_drugs\": 8.271962197513545e-05, \"penalty_adv_cell_types\": 0.0}, \"ellapsed_minutes\": 2.3836045026779176}\n",
      "{\"model_saved\": \"model_seed=0_epoch=340.pt\\n\"}\n",
      "{\"epoch\": 360, \"training_stats\": {\"loss_reconstruction\": -1.645370680710365, \"loss_adv_drugs\": 0.20629663046064048, \"loss_adv_cell_types\": 0.0, \"penalty_adv_drugs\": 6.381905655745931e-05, \"penalty_adv_cell_types\": 0.0}, \"ellapsed_minutes\": 2.5265992005666096}\n",
      "{\"model_saved\": \"model_seed=0_epoch=360.pt\\n\"}\n",
      "{\"epoch\": 380, \"training_stats\": {\"loss_reconstruction\": -1.6504711693730847, \"loss_adv_drugs\": 0.2058318000415276, \"loss_adv_cell_types\": 0.0, \"penalty_adv_drugs\": 7.213022889055568e-05, \"penalty_adv_cell_types\": 0.0}, \"ellapsed_minutes\": 2.6698962887128195}\n",
      "{\"model_saved\": \"model_seed=0_epoch=380.pt\\n\"}\n",
      "{\"epoch\": 400, \"training_stats\": {\"loss_reconstruction\": -1.6530967745287666, \"loss_adv_drugs\": 0.20624325758424297, \"loss_adv_cell_types\": 0.0, \"penalty_adv_drugs\": 5.758547997864862e-05, \"penalty_adv_cell_types\": 0.0}, \"ellapsed_minutes\": 2.8127288103103636}\n",
      "{\"model_saved\": \"model_seed=0_epoch=400.pt\\n\"}\n",
      "{\"epoch\": 420, \"training_stats\": {\"loss_reconstruction\": -1.6567795811028316, \"loss_adv_drugs\": 0.20563971688007487, \"loss_adv_cell_types\": 0.0, \"penalty_adv_drugs\": 5.603787952889528e-05, \"penalty_adv_cell_types\": 0.0}, \"ellapsed_minutes\": 2.957330584526062}\n",
      "{\"model_saved\": \"model_seed=0_epoch=420.pt\\n\"}\n",
      "{\"epoch\": 440, \"training_stats\": {\"loss_reconstruction\": -1.6617432750504593, \"loss_adv_drugs\": 0.20585612027809538, \"loss_adv_cell_types\": 0.0, \"penalty_adv_drugs\": 5.184202419858875e-05, \"penalty_adv_cell_types\": 0.0}, \"ellapsed_minutes\": 3.104382002353668}\n",
      "{\"model_saved\": \"model_seed=0_epoch=440.pt\\n\"}\n",
      "{\"epoch\": 460, \"training_stats\": {\"loss_reconstruction\": -1.666114482386359, \"loss_adv_drugs\": 0.20592655498405982, \"loss_adv_cell_types\": 0.0, \"penalty_adv_drugs\": 5.413330993554876e-05, \"penalty_adv_cell_types\": 0.0}, \"ellapsed_minutes\": 3.2483444809913635}\n",
      "{\"model_saved\": \"model_seed=0_epoch=460.pt\\n\"}\n",
      "{\"epoch\": 480, \"training_stats\": {\"loss_reconstruction\": -1.673028173117802, \"loss_adv_drugs\": 0.20570167436681944, \"loss_adv_cell_types\": 0.0, \"penalty_adv_drugs\": 3.4264079972515524e-05, \"penalty_adv_cell_types\": 0.0}, \"ellapsed_minutes\": 3.3875558098157246}\n",
      "{\"model_saved\": \"model_seed=0_epoch=480.pt\\n\"}\n",
      "{\"epoch\": 499, \"training_stats\": {\"loss_reconstruction\": -1.6770620592709244, \"loss_adv_drugs\": 0.2061072551998599, \"loss_adv_cell_types\": 0.0, \"penalty_adv_drugs\": 4.2833063193468444e-05, \"penalty_adv_cell_types\": 0.0}, \"ellapsed_minutes\": 3.532647633552551}\n",
      "{\"model_saved\": \"model_seed=0_epoch=499.pt\\n\"}\n",
      "Training for split 4...\n",
      "go_path: /home/share/huadjyin/home/zhoumin3/zhoumin/benchmark_data/01A_total_re/03final/data/go_essential_adamsonweissman2016_gsm2406675_1.csv\n"
     ]
    },
    {
     "name": "stderr",
     "output_type": "stream",
     "text": [
      "/var/tmp/ipykernel_2519765/3805489455.py:77: DeprecationWarning: DataFrameGroupBy.apply operated on the grouping columns. This behavior is deprecated, and in a future version of pandas the grouping columns will be excluded from the operation. Either pass `include_groups=False` to exclude the groupings or explicitly select the grouping columns after groupby to silence this warning.\n",
      "  df = df.groupby('target').apply(lambda x: x.nlargest(20 + 1,['importance'])).reset_index(drop = True)\n"
     ]
    },
    {
     "name": "stdout",
     "output_type": "stream",
     "text": [
      "-1\n",
      "--1\n",
      "---1\n",
      "---2\n",
      "---3\n",
      "---4\n",
      "---5\n",
      "---6\n",
      "---7\n",
      "--2\n",
      "-2\n",
      "-3\n",
      "{'0': 'BHLHE40', '2': 'DDIT3', '5': 'SPI1', '7': 'ctrl', '1': 'CREB1', '6': 'ZNF326', '4': 'SNAI1', '3': 'EP300'}\n",
      "{'BHLHE40': array([0., 0., 0., ..., 0., 0., 0.]), 'DDIT3': array([0., 0., 0., ..., 0., 0., 0.]), 'SPI1': array([0., 0., 0., ..., 0., 0., 0.]), 'ctrl': array([0., 0., 0., ..., 0., 0., 0.]), 'CREB1': array([0., 0., 0., ..., 0., 0., 0.]), 'ZNF326': array([0., 0., 0., ..., 0., 0., 0.]), 'SNAI1': array([0., 0., 0., ..., 0., 0., 0.]), 'EP300': array([0., 0., 0., ..., 0., 0., 0.])}\n",
      "{'BHLHE40': array([1., 0., 0., 0., 0., 0., 0., 0.]), 'DDIT3': array([0., 0., 1., 0., 0., 0., 0., 0.]), 'SPI1': array([0., 0., 0., 0., 0., 1., 0., 0.]), 'ctrl': array([0., 0., 0., 0., 0., 0., 0., 1.]), 'CREB1': array([0., 1., 0., 0., 0., 0., 0., 0.]), 'ZNF326': array([0., 0., 0., 0., 0., 0., 1., 0.]), 'SNAI1': array([0., 0., 0., 0., 1., 0., 0., 0.]), 'EP300': array([0., 0., 0., 1., 0., 0., 0., 0.])}\n",
      "{\"training_args\": {\"dataset_path\": \"AdamsonWeissman2016_GSM2406675_1.h5ad\", \"dataset\": \"AdamsonWeissman2016_GSM2406675_1\", \"perturbation_key\": \"condition\", \"dose_key\": \"dose_val\", \"cell_type_key\": \"cell_type\", \"loss_ae\": \"gauss\", \"doser_type\": \"sigm\", \"decoder_activation\": \"linear\", \"seed\": 0, \"hparams\": \"\", \"cuda\": 0, \"max_epochs\": 500, \"max_minutes\": 400, \"patience\": 20, \"checkpoint_freq\": 20, \"sweep_seeds\": 200, \"emb\": \"one_hot\", \"split_key\": \"split4\", \"save_dir\": \"/home/share/huadjyin/home/zhoumin3/zhoumin/model_benchmark/01_A_results/AdamsonWeissman2016_GSM2406675_1/cpa/split4/\", \"num_pert_in_graph\": 9976}}\n",
      "{\"autoencoder_params\": {\"dim\": 256, \"dosers_width\": 64, \"dosers_depth\": 2, \"dosers_lr\": 0.001, \"dosers_wd\": 1e-07, \"autoencoder_width\": 512, \"autoencoder_depth\": 4, \"adversary_width\": 128, \"adversary_depth\": 3, \"reg_adversary\": 5, \"penalty_adversary\": 3, \"autoencoder_lr\": 0.001, \"adversary_lr\": 0.0003, \"autoencoder_wd\": 1e-06, \"adversary_wd\": 0.0001, \"adversary_steps\": 3, \"batch_size\": 128, \"step_size_lr\": 45}}\n",
      "{\"epoch\": 0, \"training_stats\": {\"loss_reconstruction\": -0.25729823716122796, \"loss_adv_drugs\": 0.7173500348020483, \"loss_adv_cell_types\": 0.0, \"penalty_adv_drugs\": 0.00800244658495541, \"penalty_adv_cell_types\": 0.0012014190778481188}, \"ellapsed_minutes\": 0.0075621525446573894}\n",
      "{\"model_saved\": \"model_seed=0_epoch=0.pt\\n\"}\n",
      "{\"epoch\": 20, \"training_stats\": {\"loss_reconstruction\": -1.566439805207429, \"loss_adv_drugs\": 0.2890825602743361, \"loss_adv_cell_types\": 0.0, \"penalty_adv_drugs\": 0.00043787753842210533, \"penalty_adv_cell_types\": 1.977599053075378e-07}, \"ellapsed_minutes\": 0.14302224318186443}\n",
      "{\"model_saved\": \"model_seed=0_epoch=20.pt\\n\"}\n",
      "{\"epoch\": 40, \"training_stats\": {\"loss_reconstruction\": -1.5685330982561465, \"loss_adv_drugs\": 0.22069629419732978, \"loss_adv_cell_types\": 0.0, \"penalty_adv_drugs\": 0.0003523068300839643, \"penalty_adv_cell_types\": 7.636846333914638e-08}, \"ellapsed_minutes\": 0.2828683654467265}\n",
      "{\"model_saved\": \"model_seed=0_epoch=40.pt\\n\"}\n",
      "{\"epoch\": 60, \"training_stats\": {\"loss_reconstruction\": -1.575300410941795, \"loss_adv_drugs\": 0.21087646153238085, \"loss_adv_cell_types\": 0.0, \"penalty_adv_drugs\": 0.0027372224463356864, \"penalty_adv_cell_types\": 1.5973819981977781e-07}, \"ellapsed_minutes\": 0.4189797838528951}\n",
      "{\"model_saved\": \"model_seed=0_epoch=60.pt\\n\"}\n",
      "{\"epoch\": 80, \"training_stats\": {\"loss_reconstruction\": -1.5854005107173212, \"loss_adv_drugs\": 0.22616341710090637, \"loss_adv_cell_types\": 0.0, \"penalty_adv_drugs\": 0.0004569733223265589, \"penalty_adv_cell_types\": 2.3552436348953612e-09}, \"ellapsed_minutes\": 0.547951336701711}\n",
      "{\"model_saved\": \"model_seed=0_epoch=80.pt\\n\"}\n",
      "{\"epoch\": 100, \"training_stats\": {\"loss_reconstruction\": -1.598727239502801, \"loss_adv_drugs\": 0.20776056525883851, \"loss_adv_cell_types\": 0.0, \"penalty_adv_drugs\": 0.0002534721243137028, \"penalty_adv_cell_types\": 2.9321827525336425e-10}, \"ellapsed_minutes\": 0.67595933675766}\n",
      "{\"model_saved\": \"model_seed=0_epoch=100.pt\\n\"}\n",
      "{\"epoch\": 120, \"training_stats\": {\"loss_reconstruction\": -1.5932439830568101, \"loss_adv_drugs\": 0.21679718682059534, \"loss_adv_cell_types\": 0.0, \"penalty_adv_drugs\": 0.0006225126099134623, \"penalty_adv_cell_types\": 2.1586697219540796e-10}, \"ellapsed_minutes\": 0.8051765998204549}\n",
      "{\"model_saved\": \"model_seed=0_epoch=120.pt\\n\"}\n",
      "{\"epoch\": 140, \"training_stats\": {\"loss_reconstruction\": -1.6071580869180184, \"loss_adv_drugs\": 0.20386104009769582, \"loss_adv_cell_types\": 0.0, \"penalty_adv_drugs\": 0.00013777288135046278, \"penalty_adv_cell_types\": 7.0487866524219396e-12}, \"ellapsed_minutes\": 0.9392285545667013}\n",
      "{\"model_saved\": \"model_seed=0_epoch=140.pt\\n\"}\n",
      "{\"epoch\": 160, \"training_stats\": {\"loss_reconstruction\": -1.620746343224137, \"loss_adv_drugs\": 0.20281712545288932, \"loss_adv_cell_types\": 0.0, \"penalty_adv_drugs\": 0.00031664359482453655, \"penalty_adv_cell_types\": 1.0600782716276066e-10}, \"ellapsed_minutes\": 1.069144344329834}\n",
      "{\"model_saved\": \"model_seed=0_epoch=160.pt\\n\"}\n",
      "{\"epoch\": 180, \"training_stats\": {\"loss_reconstruction\": -1.6192605230543349, \"loss_adv_drugs\": 0.202019566739047, \"loss_adv_cell_types\": 0.0, \"penalty_adv_drugs\": 0.00023632296695184237, \"penalty_adv_cell_types\": 1.6969613816958076e-11}, \"ellapsed_minutes\": 1.2015723824501037}\n",
      "{\"model_saved\": \"model_seed=0_epoch=180.pt\\n\"}\n",
      "{\"epoch\": 200, \"training_stats\": {\"loss_reconstruction\": -1.6222849907698456, \"loss_adv_drugs\": 0.20188834380220483, \"loss_adv_cell_types\": 0.0, \"penalty_adv_drugs\": 0.00012636073343283324, \"penalty_adv_cell_types\": 1.3789604787900478e-10}, \"ellapsed_minutes\": 1.329951322078705}\n",
      "{\"model_saved\": \"model_seed=0_epoch=200.pt\\n\"}\n",
      "{\"epoch\": 220, \"training_stats\": {\"loss_reconstruction\": -1.628791301338761, \"loss_adv_drugs\": 0.2012113498316871, \"loss_adv_cell_types\": 0.0, \"penalty_adv_drugs\": 7.595795560283241e-05, \"penalty_adv_cell_types\": 3.919380222330463e-13}, \"ellapsed_minutes\": 1.4608397444089254}\n",
      "{\"model_saved\": \"model_seed=0_epoch=220.pt\\n\"}\n",
      "{\"epoch\": 240, \"training_stats\": {\"loss_reconstruction\": -1.6307551242687084, \"loss_adv_drugs\": 0.2010644249342106, \"loss_adv_cell_types\": 0.0, \"penalty_adv_drugs\": 0.00024101193412207067, \"penalty_adv_cell_types\": 1.3662571715851668e-15}, \"ellapsed_minutes\": 1.5885487159093221}\n",
      "{\"model_saved\": \"model_seed=0_epoch=240.pt\\n\"}\n",
      "{\"epoch\": 260, \"training_stats\": {\"loss_reconstruction\": -1.6318838817101937, \"loss_adv_drugs\": 0.20221037721192395, \"loss_adv_cell_types\": 0.0, \"penalty_adv_drugs\": 0.0009363397796362362, \"penalty_adv_cell_types\": 5.159461828980273e-19}, \"ellapsed_minutes\": 1.7276904225349425}\n",
      "{\"model_saved\": \"model_seed=0_epoch=260.pt\\n\"}\n",
      "{\"epoch\": 280, \"training_stats\": {\"loss_reconstruction\": -1.6381139402036313, \"loss_adv_drugs\": 0.20108111920180144, \"loss_adv_cell_types\": 0.0, \"penalty_adv_drugs\": 9.681888951928597e-05, \"penalty_adv_cell_types\": 6.663415828110117e-24}, \"ellapsed_minutes\": 1.8696011583010355}\n",
      "{\"model_saved\": \"model_seed=0_epoch=280.pt\\n\"}\n",
      "{\"epoch\": 300, \"training_stats\": {\"loss_reconstruction\": -1.6447782516479492, \"loss_adv_drugs\": 0.20095650023884243, \"loss_adv_cell_types\": 0.0, \"penalty_adv_drugs\": 6.525770152586995e-05, \"penalty_adv_cell_types\": 1.1060322947097034e-28}, \"ellapsed_minutes\": 2.0122637589772543}\n",
      "{\"model_saved\": \"model_seed=0_epoch=300.pt\\n\"}\n",
      "{\"epoch\": 320, \"training_stats\": {\"loss_reconstruction\": -1.6490415908672191, \"loss_adv_drugs\": 0.2008277177810669, \"loss_adv_cell_types\": 0.0, \"penalty_adv_drugs\": 9.72347859513118e-05, \"penalty_adv_cell_types\": 2.4156056618230803e-34}, \"ellapsed_minutes\": 2.13786625067393}\n",
      "{\"model_saved\": \"model_seed=0_epoch=320.pt\\n\"}\n",
      "{\"epoch\": 340, \"training_stats\": {\"loss_reconstruction\": -1.6506814647603918, \"loss_adv_drugs\": 0.2019324744189227, \"loss_adv_cell_types\": 0.0, \"penalty_adv_drugs\": 5.6996618190573324e-05, \"penalty_adv_cell_types\": 6.95386577929722e-42}, \"ellapsed_minutes\": 2.266244121392568}\n",
      "{\"model_saved\": \"model_seed=0_epoch=340.pt\\n\"}\n",
      "{\"epoch\": 360, \"training_stats\": {\"loss_reconstruction\": -1.6558013845373083, \"loss_adv_drugs\": 0.20223067038589054, \"loss_adv_cell_types\": 0.0, \"penalty_adv_drugs\": 4.981353871429477e-05, \"penalty_adv_cell_types\": 0.0}, \"ellapsed_minutes\": 2.3934664726257324}\n",
      "{\"model_saved\": \"model_seed=0_epoch=360.pt\\n\"}\n",
      "{\"epoch\": 380, \"training_stats\": {\"loss_reconstruction\": -1.659750638184724, \"loss_adv_drugs\": 0.2013740798941365, \"loss_adv_cell_types\": 0.0, \"penalty_adv_drugs\": 2.9986456259697054e-05, \"penalty_adv_cell_types\": 0.0}, \"ellapsed_minutes\": 2.5290112932523092}\n",
      "{\"model_saved\": \"model_seed=0_epoch=380.pt\\n\"}\n",
      "{\"epoch\": 400, \"training_stats\": {\"loss_reconstruction\": -1.6637606576636985, \"loss_adv_drugs\": 0.2011496799963492, \"loss_adv_cell_types\": 0.0, \"penalty_adv_drugs\": 7.176880764611135e-05, \"penalty_adv_cell_types\": 0.0}, \"ellapsed_minutes\": 2.6696429451306662}\n",
      "{\"model_saved\": \"model_seed=0_epoch=400.pt\\n\"}\n",
      "{\"epoch\": 420, \"training_stats\": {\"loss_reconstruction\": -1.6687337866535894, \"loss_adv_drugs\": 0.20089157312004655, \"loss_adv_cell_types\": 0.0, \"penalty_adv_drugs\": 2.9562177520279807e-05, \"penalty_adv_cell_types\": 0.0}, \"ellapsed_minutes\": 2.8033459623654684}\n",
      "{\"model_saved\": \"model_seed=0_epoch=420.pt\\n\"}\n",
      "{\"epoch\": 440, \"training_stats\": {\"loss_reconstruction\": -1.6704764057088781, \"loss_adv_drugs\": 0.20045871315179048, \"loss_adv_cell_types\": 0.0, \"penalty_adv_drugs\": 3.3088328631560284e-05, \"penalty_adv_cell_types\": 0.0}, \"ellapsed_minutes\": 2.934454357624054}\n",
      "{\"model_saved\": \"model_seed=0_epoch=440.pt\\n\"}\n",
      "{\"epoch\": 460, \"training_stats\": {\"loss_reconstruction\": -1.675159458760862, \"loss_adv_drugs\": 0.20091479354434544, \"loss_adv_cell_types\": 0.0, \"penalty_adv_drugs\": 2.3635708135703613e-05, \"penalty_adv_cell_types\": 0.0}, \"ellapsed_minutes\": 3.067156132062276}\n",
      "{\"model_saved\": \"model_seed=0_epoch=460.pt\\n\"}\n",
      "{\"epoch\": 480, \"training_stats\": {\"loss_reconstruction\": -1.6793155405256484, \"loss_adv_drugs\": 0.20111536262211976, \"loss_adv_cell_types\": 0.0, \"penalty_adv_drugs\": 4.762793442178345e-05, \"penalty_adv_cell_types\": 0.0}, \"ellapsed_minutes\": 3.2013795812924704}\n",
      "{\"model_saved\": \"model_seed=0_epoch=480.pt\\n\"}\n",
      "{\"epoch\": 499, \"training_stats\": {\"loss_reconstruction\": -1.686115097116541, \"loss_adv_drugs\": 0.2011811391071037, \"loss_adv_cell_types\": 0.0, \"penalty_adv_drugs\": 3.565187284106354e-05, \"penalty_adv_cell_types\": 0.0}, \"ellapsed_minutes\": 3.3284902811050414}\n",
      "{\"model_saved\": \"model_seed=0_epoch=499.pt\\n\"}\n",
      "Training for split 5...\n",
      "go_path: /home/share/huadjyin/home/zhoumin3/zhoumin/benchmark_data/01A_total_re/03final/data/go_essential_adamsonweissman2016_gsm2406675_1.csv\n"
     ]
    },
    {
     "name": "stderr",
     "output_type": "stream",
     "text": [
      "/var/tmp/ipykernel_2519765/3805489455.py:77: DeprecationWarning: DataFrameGroupBy.apply operated on the grouping columns. This behavior is deprecated, and in a future version of pandas the grouping columns will be excluded from the operation. Either pass `include_groups=False` to exclude the groupings or explicitly select the grouping columns after groupby to silence this warning.\n",
      "  df = df.groupby('target').apply(lambda x: x.nlargest(20 + 1,['importance'])).reset_index(drop = True)\n"
     ]
    },
    {
     "name": "stdout",
     "output_type": "stream",
     "text": [
      "-1\n",
      "--1\n",
      "---1\n",
      "---2\n",
      "---3\n",
      "---4\n",
      "---5\n",
      "---6\n",
      "---7\n",
      "--2\n",
      "-2\n",
      "-3\n",
      "{'0': 'BHLHE40', '2': 'DDIT3', '5': 'SPI1', '7': 'ctrl', '1': 'CREB1', '6': 'ZNF326', '4': 'SNAI1', '3': 'EP300'}\n",
      "{'BHLHE40': array([0., 0., 0., ..., 0., 0., 0.]), 'DDIT3': array([0., 0., 0., ..., 0., 0., 0.]), 'SPI1': array([0., 0., 0., ..., 0., 0., 0.]), 'ctrl': array([0., 0., 0., ..., 0., 0., 0.]), 'CREB1': array([0., 0., 0., ..., 0., 0., 0.]), 'ZNF326': array([0., 0., 0., ..., 0., 0., 0.]), 'SNAI1': array([0., 0., 0., ..., 0., 0., 0.]), 'EP300': array([0., 0., 0., ..., 0., 0., 0.])}\n",
      "{'BHLHE40': array([1., 0., 0., 0., 0., 0., 0., 0.]), 'DDIT3': array([0., 0., 1., 0., 0., 0., 0., 0.]), 'SPI1': array([0., 0., 0., 0., 0., 1., 0., 0.]), 'ctrl': array([0., 0., 0., 0., 0., 0., 0., 1.]), 'CREB1': array([0., 1., 0., 0., 0., 0., 0., 0.]), 'ZNF326': array([0., 0., 0., 0., 0., 0., 1., 0.]), 'SNAI1': array([0., 0., 0., 0., 1., 0., 0., 0.]), 'EP300': array([0., 0., 0., 1., 0., 0., 0., 0.])}\n",
      "{\"training_args\": {\"dataset_path\": \"AdamsonWeissman2016_GSM2406675_1.h5ad\", \"dataset\": \"AdamsonWeissman2016_GSM2406675_1\", \"perturbation_key\": \"condition\", \"dose_key\": \"dose_val\", \"cell_type_key\": \"cell_type\", \"loss_ae\": \"gauss\", \"doser_type\": \"sigm\", \"decoder_activation\": \"linear\", \"seed\": 0, \"hparams\": \"\", \"cuda\": 0, \"max_epochs\": 500, \"max_minutes\": 400, \"patience\": 20, \"checkpoint_freq\": 20, \"sweep_seeds\": 200, \"emb\": \"one_hot\", \"split_key\": \"split5\", \"save_dir\": \"/home/share/huadjyin/home/zhoumin3/zhoumin/model_benchmark/01_A_results/AdamsonWeissman2016_GSM2406675_1/cpa/split5/\", \"num_pert_in_graph\": 9976}}\n",
      "{\"autoencoder_params\": {\"dim\": 256, \"dosers_width\": 64, \"dosers_depth\": 2, \"dosers_lr\": 0.001, \"dosers_wd\": 1e-07, \"autoencoder_width\": 512, \"autoencoder_depth\": 4, \"adversary_width\": 128, \"adversary_depth\": 3, \"reg_adversary\": 5, \"penalty_adversary\": 3, \"autoencoder_lr\": 0.001, \"adversary_lr\": 0.0003, \"autoencoder_wd\": 1e-06, \"adversary_wd\": 0.0001, \"adversary_steps\": 3, \"batch_size\": 128, \"step_size_lr\": 45}}\n",
      "{\"epoch\": 0, \"training_stats\": {\"loss_reconstruction\": -0.2646060160326737, \"loss_adv_drugs\": 0.7102092636956109, \"loss_adv_cell_types\": 0.0, \"penalty_adv_drugs\": 0.008261699298465694, \"penalty_adv_cell_types\": 0.001196297079635163}, \"ellapsed_minutes\": 0.0071051637331644695}\n",
      "{\"model_saved\": \"model_seed=0_epoch=0.pt\\n\"}\n",
      "{\"epoch\": 20, \"training_stats\": {\"loss_reconstruction\": -1.5624670761602897, \"loss_adv_drugs\": 0.2746939024439565, \"loss_adv_cell_types\": 0.0, \"penalty_adv_drugs\": 0.002248815930215642, \"penalty_adv_cell_types\": 1.9343204304144445e-07}, \"ellapsed_minutes\": 0.1420455813407898}\n",
      "{\"model_saved\": \"model_seed=0_epoch=20.pt\\n\"}\n",
      "{\"epoch\": 40, \"training_stats\": {\"loss_reconstruction\": -1.5793295524738453, \"loss_adv_drugs\": 0.22948948100761132, \"loss_adv_cell_types\": 0.0, \"penalty_adv_drugs\": 0.006618961260688526, \"penalty_adv_cell_types\": 2.6432386743248637e-06}, \"ellapsed_minutes\": 0.2774733861287435}\n",
      "{\"model_saved\": \"model_seed=0_epoch=40.pt\\n\"}\n",
      "{\"epoch\": 60, \"training_stats\": {\"loss_reconstruction\": -1.5903172228071425, \"loss_adv_drugs\": 0.20879991076610707, \"loss_adv_cell_types\": 0.0, \"penalty_adv_drugs\": 0.0002285565424244851, \"penalty_adv_cell_types\": 8.559450473502697e-09}, \"ellapsed_minutes\": 0.4122781872749329}\n",
      "{\"model_saved\": \"model_seed=0_epoch=60.pt\\n\"}\n",
      "{\"epoch\": 80, \"training_stats\": {\"loss_reconstruction\": -1.6016012297736273, \"loss_adv_drugs\": 0.2048264311419593, \"loss_adv_cell_types\": 0.0, \"penalty_adv_drugs\": 0.0002087529447399666, \"penalty_adv_cell_types\": 5.802577684957129e-10}, \"ellapsed_minutes\": 0.5404283563296001}\n",
      "{\"model_saved\": \"model_seed=0_epoch=80.pt\\n\"}\n",
      "{\"epoch\": 100, \"training_stats\": {\"loss_reconstruction\": -1.608595640571029, \"loss_adv_drugs\": 0.20189943854455594, \"loss_adv_cell_types\": 0.0, \"penalty_adv_drugs\": 0.00011740997137234512, \"penalty_adv_cell_types\": 4.2594824144152836e-10}, \"ellapsed_minutes\": 0.6672869284947713}\n",
      "{\"model_saved\": \"model_seed=0_epoch=100.pt\\n\"}\n",
      "{\"epoch\": 120, \"training_stats\": {\"loss_reconstruction\": -1.617010271107709, \"loss_adv_drugs\": 0.20135974552896288, \"loss_adv_cell_types\": 0.0, \"penalty_adv_drugs\": 0.0001603468791236756, \"penalty_adv_cell_types\": 7.33168425661981e-12}, \"ellapsed_minutes\": 0.8014440178871155}\n",
      "{\"model_saved\": \"model_seed=0_epoch=120.pt\\n\"}\n",
      "{\"epoch\": 140, \"training_stats\": {\"loss_reconstruction\": -1.6221695255350184, \"loss_adv_drugs\": 0.20081622070736355, \"loss_adv_cell_types\": 0.0, \"penalty_adv_drugs\": 0.00019719311320740316, \"penalty_adv_cell_types\": 1.0401016656080707e-14}, \"ellapsed_minutes\": 0.9373309175173442}\n",
      "{\"model_saved\": \"model_seed=0_epoch=140.pt\\n\"}\n",
      "{\"epoch\": 160, \"training_stats\": {\"loss_reconstruction\": -1.62189366640868, \"loss_adv_drugs\": 0.19934233471199317, \"loss_adv_cell_types\": 0.0, \"penalty_adv_drugs\": 0.000539563278262331, \"penalty_adv_cell_types\": 5.376013003012612e-19}, \"ellapsed_minutes\": 1.077427605787913}\n",
      "{\"model_saved\": \"model_seed=0_epoch=160.pt\\n\"}\n",
      "{\"epoch\": 180, \"training_stats\": {\"loss_reconstruction\": -1.6162251013296622, \"loss_adv_drugs\": 0.20235339359000878, \"loss_adv_cell_types\": 0.0, \"penalty_adv_drugs\": 5.179632905680962e-05, \"penalty_adv_cell_types\": 2.088417961487786e-24}, \"ellapsed_minutes\": 1.2104478279749553}\n",
      "{\"model_saved\": \"model_seed=0_epoch=180.pt\\n\"}\n",
      "{\"epoch\": 200, \"training_stats\": {\"loss_reconstruction\": -1.6295532562114574, \"loss_adv_drugs\": 0.20043879802580233, \"loss_adv_cell_types\": 0.0, \"penalty_adv_drugs\": 6.243961817947113e-05, \"penalty_adv_cell_types\": 2.0491172245233195e-31}, \"ellapsed_minutes\": 1.3462635159492493}\n",
      "{\"model_saved\": \"model_seed=0_epoch=200.pt\\n\"}\n",
      "{\"epoch\": 220, \"training_stats\": {\"loss_reconstruction\": -1.6351740227805243, \"loss_adv_drugs\": 0.19942722773110425, \"loss_adv_cell_types\": 0.0, \"penalty_adv_drugs\": 9.737521274170528e-05, \"penalty_adv_cell_types\": 8.606148216570098e-40}, \"ellapsed_minutes\": 1.4805044293403626}\n",
      "{\"model_saved\": \"model_seed=0_epoch=220.pt\\n\"}\n",
      "{\"epoch\": 240, \"training_stats\": {\"loss_reconstruction\": -1.6394487972612735, \"loss_adv_drugs\": 0.19917439531396935, \"loss_adv_cell_types\": 0.0, \"penalty_adv_drugs\": 0.00010211176171045129, \"penalty_adv_cell_types\": 0.0}, \"ellapsed_minutes\": 1.6160398324330647}\n",
      "{\"model_saved\": \"model_seed=0_epoch=240.pt\\n\"}\n",
      "{\"epoch\": 260, \"training_stats\": {\"loss_reconstruction\": -1.646652689686528, \"loss_adv_drugs\": 0.1992621443889759, \"loss_adv_cell_types\": 0.0, \"penalty_adv_drugs\": 7.801637211404913e-05, \"penalty_adv_cell_types\": 0.0}, \"ellapsed_minutes\": 1.7540056387583414}\n",
      "{\"model_saved\": \"model_seed=0_epoch=260.pt\\n\"}\n",
      "{\"epoch\": 280, \"training_stats\": {\"loss_reconstruction\": -1.6484388907750447, \"loss_adv_drugs\": 0.1992379112376107, \"loss_adv_cell_types\": 0.0, \"penalty_adv_drugs\": 9.769128303526452e-05, \"penalty_adv_cell_types\": 0.0}, \"ellapsed_minutes\": 1.8887376228968302}\n",
      "{\"model_saved\": \"model_seed=0_epoch=280.pt\\n\"}\n",
      "{\"epoch\": 300, \"training_stats\": {\"loss_reconstruction\": -1.6530524492263794, \"loss_adv_drugs\": 0.1987104139946125, \"loss_adv_cell_types\": 0.0, \"penalty_adv_drugs\": 6.76415325465819e-05, \"penalty_adv_cell_types\": 0.0}, \"ellapsed_minutes\": 2.0191527962684632}\n",
      "{\"model_saved\": \"model_seed=0_epoch=300.pt\\n\"}\n",
      "{\"epoch\": 320, \"training_stats\": {\"loss_reconstruction\": -1.659689638349745, \"loss_adv_drugs\": 0.19898233424734185, \"loss_adv_cell_types\": 0.0, \"penalty_adv_drugs\": 4.822187299766854e-05, \"penalty_adv_cell_types\": 0.0}, \"ellapsed_minutes\": 2.146464995543162}\n",
      "{\"model_saved\": \"model_seed=0_epoch=320.pt\\n\"}\n",
      "{\"epoch\": 340, \"training_stats\": {\"loss_reconstruction\": -1.6645168595843844, \"loss_adv_drugs\": 0.1992308431201511, \"loss_adv_cell_types\": 0.0, \"penalty_adv_drugs\": 4.0009894830830117e-05, \"penalty_adv_cell_types\": 0.0}, \"ellapsed_minutes\": 2.2797041376431784}\n",
      "{\"model_saved\": \"model_seed=0_epoch=340.pt\\n\"}\n",
      "{\"epoch\": 360, \"training_stats\": {\"loss_reconstruction\": -1.665227969487508, \"loss_adv_drugs\": 0.19868038098017374, \"loss_adv_cell_types\": 0.0, \"penalty_adv_drugs\": 5.233704548488647e-05, \"penalty_adv_cell_types\": 0.0}, \"ellapsed_minutes\": 2.41371879975001}\n",
      "{\"model_saved\": \"model_seed=0_epoch=360.pt\\n\"}\n",
      "{\"epoch\": 380, \"training_stats\": {\"loss_reconstruction\": -1.6730029671280473, \"loss_adv_drugs\": 0.1986187321168405, \"loss_adv_cell_types\": 0.0, \"penalty_adv_drugs\": 4.939712838407744e-05, \"penalty_adv_cell_types\": 0.0}, \"ellapsed_minutes\": 2.5497833728790282}\n",
      "{\"model_saved\": \"model_seed=0_epoch=380.pt\\n\"}\n",
      "{\"epoch\": 400, \"training_stats\": {\"loss_reconstruction\": -1.6788521607716878, \"loss_adv_drugs\": 0.1991874995055022, \"loss_adv_cell_types\": 0.0, \"penalty_adv_drugs\": 3.99035525333602e-05, \"penalty_adv_cell_types\": 0.0}, \"ellapsed_minutes\": 2.684417990843455}\n",
      "{\"model_saved\": \"model_seed=0_epoch=400.pt\\n\"}\n",
      "{\"epoch\": 420, \"training_stats\": {\"loss_reconstruction\": -1.6844505601459079, \"loss_adv_drugs\": 0.19923107160462272, \"loss_adv_cell_types\": 0.0, \"penalty_adv_drugs\": 3.024113680617625e-05, \"penalty_adv_cell_types\": 0.0}, \"ellapsed_minutes\": 2.8171049118041993}\n",
      "{\"model_saved\": \"model_seed=0_epoch=420.pt\\n\"}\n",
      "{\"epoch\": 440, \"training_stats\": {\"loss_reconstruction\": -1.6894479945853904, \"loss_adv_drugs\": 0.1988071490217138, \"loss_adv_cell_types\": 0.0, \"penalty_adv_drugs\": 1.6040443572112257e-05, \"penalty_adv_cell_types\": 0.0}, \"ellapsed_minutes\": 2.9530447999636333}\n",
      "{\"model_saved\": \"model_seed=0_epoch=440.pt\\n\"}\n",
      "{\"epoch\": 460, \"training_stats\": {\"loss_reconstruction\": -1.6981201701694064, \"loss_adv_drugs\": 0.19866667356756, \"loss_adv_cell_types\": 0.0, \"penalty_adv_drugs\": 1.3886876769430711e-05, \"penalty_adv_cell_types\": 0.0}, \"ellapsed_minutes\": 3.087719209988912}\n",
      "{\"model_saved\": \"model_seed=0_epoch=460.pt\\n\"}\n",
      "{\"epoch\": 480, \"training_stats\": {\"loss_reconstruction\": -1.7006166334505435, \"loss_adv_drugs\": 0.19946054176047998, \"loss_adv_cell_types\": 0.0, \"penalty_adv_drugs\": 6.73726134226416e-05, \"penalty_adv_cell_types\": 0.0}, \"ellapsed_minutes\": 3.2270243962605796}\n",
      "{\"model_saved\": \"model_seed=0_epoch=480.pt\\n\"}\n",
      "{\"epoch\": 499, \"training_stats\": {\"loss_reconstruction\": -1.707389685842726, \"loss_adv_drugs\": 0.19876354104942745, \"loss_adv_cell_types\": 0.0, \"penalty_adv_drugs\": 1.0442664275884723e-05, \"penalty_adv_cell_types\": 0.0}, \"ellapsed_minutes\": 3.357305161158244}\n",
      "{\"model_saved\": \"model_seed=0_epoch=499.pt\\n\"}\n",
      "go_path: /home/share/huadjyin/home/zhoumin3/zhoumin/benchmark_data/01A_total_re/03final/data/go_essential_adamsonweissman2016_gsm2406675_1.csv\n"
     ]
    },
    {
     "name": "stderr",
     "output_type": "stream",
     "text": [
      "/var/tmp/ipykernel_2519765/2828103983.py:128: DeprecationWarning: DataFrameGroupBy.apply operated on the grouping columns. This behavior is deprecated, and in a future version of pandas the grouping columns will be excluded from the operation. Either pass `include_groups=False` to exclude the groupings or explicitly select the grouping columns after groupby to silence this warning.\n",
      "  df = df.groupby('target').apply(lambda x: x.nlargest(20 + 1,['importance'])).reset_index(drop = True)\n"
     ]
    },
    {
     "name": "stdout",
     "output_type": "stream",
     "text": [
      "-1\n",
      "--1\n",
      "---1\n",
      "---2\n",
      "---3\n",
      "---4\n",
      "---5\n",
      "---6\n",
      "---7\n",
      "--2\n",
      "-2\n",
      "-3\n",
      "{'BHLHE40': array([1., 0., 0., 0., 0., 0., 0., 0.]), 'DDIT3': array([0., 0., 1., 0., 0., 0., 0., 0.]), 'SPI1': array([0., 0., 0., 0., 0., 1., 0., 0.]), 'ctrl': array([0., 0., 0., 0., 0., 0., 0., 1.]), 'CREB1': array([0., 1., 0., 0., 0., 0., 0., 0.]), 'ZNF326': array([0., 0., 0., 0., 0., 0., 1., 0.]), 'SNAI1': array([0., 0., 0., 0., 1., 0., 0., 0.]), 'EP300': array([0., 0., 0., 1., 0., 0., 0., 0.])}\n"
     ]
    },
    {
     "name": "stderr",
     "output_type": "stream",
     "text": [
      "100%|##########| 2/2 [00:00<00:00, 47.32it/s]\n",
      "/home/share/huadjyin/home/fengtiannan/zhoumin/gears/GEARS_misc/legacy/inference.py:585: RuntimeWarning: divide by zero encountered in divide\n",
      "  fold_change = pert_mean/ctrl\n",
      "/home/share/huadjyin/home/fengtiannan/zhoumin/gears/GEARS_misc/legacy/inference.py:585: RuntimeWarning: invalid value encountered in divide\n",
      "  fold_change = pert_mean/ctrl\n",
      "/home/share/huadjyin/home/fengtiannan/zhoumin/gears/GEARS_misc/legacy/inference.py:585: RuntimeWarning: divide by zero encountered in divide\n",
      "  fold_change = pert_mean/ctrl\n",
      "/home/share/huadjyin/home/fengtiannan/zhoumin/gears/GEARS_misc/legacy/inference.py:585: RuntimeWarning: invalid value encountered in divide\n",
      "  fold_change = pert_mean/ctrl\n"
     ]
    },
    {
     "name": "stdout",
     "output_type": "stream",
     "text": [
      "split1 computation completed\n",
      "go_path: /home/share/huadjyin/home/zhoumin3/zhoumin/benchmark_data/01A_total_re/03final/data/go_essential_adamsonweissman2016_gsm2406675_1.csv\n"
     ]
    },
    {
     "name": "stderr",
     "output_type": "stream",
     "text": [
      "/var/tmp/ipykernel_2519765/2828103983.py:128: DeprecationWarning: DataFrameGroupBy.apply operated on the grouping columns. This behavior is deprecated, and in a future version of pandas the grouping columns will be excluded from the operation. Either pass `include_groups=False` to exclude the groupings or explicitly select the grouping columns after groupby to silence this warning.\n",
      "  df = df.groupby('target').apply(lambda x: x.nlargest(20 + 1,['importance'])).reset_index(drop = True)\n"
     ]
    },
    {
     "name": "stdout",
     "output_type": "stream",
     "text": [
      "-1\n",
      "--1\n",
      "---1\n",
      "---2\n",
      "---3\n",
      "---4\n",
      "---5\n",
      "---6\n",
      "---7\n",
      "--2\n",
      "-2\n",
      "-3\n",
      "{'BHLHE40': array([1., 0., 0., 0., 0., 0., 0., 0.]), 'DDIT3': array([0., 0., 1., 0., 0., 0., 0., 0.]), 'SPI1': array([0., 0., 0., 0., 0., 1., 0., 0.]), 'ctrl': array([0., 0., 0., 0., 0., 0., 0., 1.]), 'CREB1': array([0., 1., 0., 0., 0., 0., 0., 0.]), 'ZNF326': array([0., 0., 0., 0., 0., 0., 1., 0.]), 'SNAI1': array([0., 0., 0., 0., 1., 0., 0., 0.]), 'EP300': array([0., 0., 0., 1., 0., 0., 0., 0.])}\n"
     ]
    },
    {
     "name": "stderr",
     "output_type": "stream",
     "text": [
      "100%|##########| 2/2 [00:00<00:00, 45.42it/s]\n",
      "/home/share/huadjyin/home/fengtiannan/zhoumin/gears/GEARS_misc/legacy/inference.py:585: RuntimeWarning: divide by zero encountered in divide\n",
      "  fold_change = pert_mean/ctrl\n",
      "/home/share/huadjyin/home/fengtiannan/zhoumin/gears/GEARS_misc/legacy/inference.py:585: RuntimeWarning: invalid value encountered in divide\n",
      "  fold_change = pert_mean/ctrl\n",
      "/home/share/huadjyin/home/fengtiannan/zhoumin/gears/GEARS_misc/legacy/inference.py:585: RuntimeWarning: divide by zero encountered in divide\n",
      "  fold_change = pert_mean/ctrl\n",
      "/home/share/huadjyin/home/fengtiannan/zhoumin/gears/GEARS_misc/legacy/inference.py:585: RuntimeWarning: invalid value encountered in divide\n",
      "  fold_change = pert_mean/ctrl\n"
     ]
    },
    {
     "name": "stdout",
     "output_type": "stream",
     "text": [
      "split2 computation completed\n",
      "go_path: /home/share/huadjyin/home/zhoumin3/zhoumin/benchmark_data/01A_total_re/03final/data/go_essential_adamsonweissman2016_gsm2406675_1.csv\n"
     ]
    },
    {
     "name": "stderr",
     "output_type": "stream",
     "text": [
      "/var/tmp/ipykernel_2519765/2828103983.py:128: DeprecationWarning: DataFrameGroupBy.apply operated on the grouping columns. This behavior is deprecated, and in a future version of pandas the grouping columns will be excluded from the operation. Either pass `include_groups=False` to exclude the groupings or explicitly select the grouping columns after groupby to silence this warning.\n",
      "  df = df.groupby('target').apply(lambda x: x.nlargest(20 + 1,['importance'])).reset_index(drop = True)\n"
     ]
    },
    {
     "name": "stdout",
     "output_type": "stream",
     "text": [
      "-1\n",
      "--1\n",
      "---1\n",
      "---2\n",
      "---3\n",
      "---4\n",
      "---5\n",
      "---6\n",
      "---7\n",
      "--2\n",
      "-2\n",
      "-3\n",
      "{'BHLHE40': array([1., 0., 0., 0., 0., 0., 0., 0.]), 'DDIT3': array([0., 0., 1., 0., 0., 0., 0., 0.]), 'SPI1': array([0., 0., 0., 0., 0., 1., 0., 0.]), 'ctrl': array([0., 0., 0., 0., 0., 0., 0., 1.]), 'CREB1': array([0., 1., 0., 0., 0., 0., 0., 0.]), 'ZNF326': array([0., 0., 0., 0., 0., 0., 1., 0.]), 'SNAI1': array([0., 0., 0., 0., 1., 0., 0., 0.]), 'EP300': array([0., 0., 0., 1., 0., 0., 0., 0.])}\n"
     ]
    },
    {
     "name": "stderr",
     "output_type": "stream",
     "text": [
      "100%|##########| 2/2 [00:00<00:00, 52.73it/s]\n",
      "/home/share/huadjyin/home/fengtiannan/zhoumin/gears/GEARS_misc/legacy/inference.py:585: RuntimeWarning: divide by zero encountered in divide\n",
      "  fold_change = pert_mean/ctrl\n",
      "/home/share/huadjyin/home/fengtiannan/zhoumin/gears/GEARS_misc/legacy/inference.py:585: RuntimeWarning: invalid value encountered in divide\n",
      "  fold_change = pert_mean/ctrl\n",
      "/home/share/huadjyin/home/fengtiannan/zhoumin/gears/GEARS_misc/legacy/inference.py:585: RuntimeWarning: divide by zero encountered in divide\n",
      "  fold_change = pert_mean/ctrl\n",
      "/home/share/huadjyin/home/fengtiannan/zhoumin/gears/GEARS_misc/legacy/inference.py:585: RuntimeWarning: invalid value encountered in divide\n",
      "  fold_change = pert_mean/ctrl\n"
     ]
    },
    {
     "name": "stdout",
     "output_type": "stream",
     "text": [
      "split3 computation completed\n",
      "go_path: /home/share/huadjyin/home/zhoumin3/zhoumin/benchmark_data/01A_total_re/03final/data/go_essential_adamsonweissman2016_gsm2406675_1.csv\n"
     ]
    },
    {
     "name": "stderr",
     "output_type": "stream",
     "text": [
      "/var/tmp/ipykernel_2519765/2828103983.py:128: DeprecationWarning: DataFrameGroupBy.apply operated on the grouping columns. This behavior is deprecated, and in a future version of pandas the grouping columns will be excluded from the operation. Either pass `include_groups=False` to exclude the groupings or explicitly select the grouping columns after groupby to silence this warning.\n",
      "  df = df.groupby('target').apply(lambda x: x.nlargest(20 + 1,['importance'])).reset_index(drop = True)\n"
     ]
    },
    {
     "name": "stdout",
     "output_type": "stream",
     "text": [
      "-1\n",
      "--1\n",
      "---1\n",
      "---2\n",
      "---3\n",
      "---4\n",
      "---5\n",
      "---6\n",
      "---7\n",
      "--2\n",
      "-2\n",
      "-3\n",
      "{'BHLHE40': array([1., 0., 0., 0., 0., 0., 0., 0.]), 'DDIT3': array([0., 0., 1., 0., 0., 0., 0., 0.]), 'SPI1': array([0., 0., 0., 0., 0., 1., 0., 0.]), 'ctrl': array([0., 0., 0., 0., 0., 0., 0., 1.]), 'CREB1': array([0., 1., 0., 0., 0., 0., 0., 0.]), 'ZNF326': array([0., 0., 0., 0., 0., 0., 1., 0.]), 'SNAI1': array([0., 0., 0., 0., 1., 0., 0., 0.]), 'EP300': array([0., 0., 0., 1., 0., 0., 0., 0.])}\n"
     ]
    },
    {
     "name": "stderr",
     "output_type": "stream",
     "text": [
      "100%|##########| 2/2 [00:00<00:00, 41.12it/s]\n",
      "/home/share/huadjyin/home/fengtiannan/zhoumin/gears/GEARS_misc/legacy/inference.py:585: RuntimeWarning: divide by zero encountered in divide\n",
      "  fold_change = pert_mean/ctrl\n",
      "/home/share/huadjyin/home/fengtiannan/zhoumin/gears/GEARS_misc/legacy/inference.py:585: RuntimeWarning: invalid value encountered in divide\n",
      "  fold_change = pert_mean/ctrl\n",
      "/home/share/huadjyin/home/fengtiannan/zhoumin/gears/GEARS_misc/legacy/inference.py:585: RuntimeWarning: divide by zero encountered in divide\n",
      "  fold_change = pert_mean/ctrl\n",
      "/home/share/huadjyin/home/fengtiannan/zhoumin/gears/GEARS_misc/legacy/inference.py:585: RuntimeWarning: invalid value encountered in divide\n",
      "  fold_change = pert_mean/ctrl\n"
     ]
    },
    {
     "name": "stdout",
     "output_type": "stream",
     "text": [
      "split4 computation completed\n",
      "go_path: /home/share/huadjyin/home/zhoumin3/zhoumin/benchmark_data/01A_total_re/03final/data/go_essential_adamsonweissman2016_gsm2406675_1.csv\n"
     ]
    },
    {
     "name": "stderr",
     "output_type": "stream",
     "text": [
      "/var/tmp/ipykernel_2519765/2828103983.py:128: DeprecationWarning: DataFrameGroupBy.apply operated on the grouping columns. This behavior is deprecated, and in a future version of pandas the grouping columns will be excluded from the operation. Either pass `include_groups=False` to exclude the groupings or explicitly select the grouping columns after groupby to silence this warning.\n",
      "  df = df.groupby('target').apply(lambda x: x.nlargest(20 + 1,['importance'])).reset_index(drop = True)\n"
     ]
    },
    {
     "name": "stdout",
     "output_type": "stream",
     "text": [
      "-1\n",
      "--1\n",
      "---1\n",
      "---2\n",
      "---3\n",
      "---4\n",
      "---5\n",
      "---6\n",
      "---7\n",
      "--2\n",
      "-2\n",
      "-3\n",
      "{'BHLHE40': array([1., 0., 0., 0., 0., 0., 0., 0.]), 'DDIT3': array([0., 0., 1., 0., 0., 0., 0., 0.]), 'SPI1': array([0., 0., 0., 0., 0., 1., 0., 0.]), 'ctrl': array([0., 0., 0., 0., 0., 0., 0., 1.]), 'CREB1': array([0., 1., 0., 0., 0., 0., 0., 0.]), 'ZNF326': array([0., 0., 0., 0., 0., 0., 1., 0.]), 'SNAI1': array([0., 0., 0., 0., 1., 0., 0., 0.]), 'EP300': array([0., 0., 0., 1., 0., 0., 0., 0.])}\n"
     ]
    },
    {
     "name": "stderr",
     "output_type": "stream",
     "text": [
      "100%|##########| 2/2 [00:00<00:00, 45.18it/s]\n",
      "/home/share/huadjyin/home/fengtiannan/zhoumin/gears/GEARS_misc/legacy/inference.py:585: RuntimeWarning: divide by zero encountered in divide\n",
      "  fold_change = pert_mean/ctrl\n",
      "/home/share/huadjyin/home/fengtiannan/zhoumin/gears/GEARS_misc/legacy/inference.py:585: RuntimeWarning: invalid value encountered in divide\n",
      "  fold_change = pert_mean/ctrl\n",
      "/home/share/huadjyin/home/fengtiannan/zhoumin/gears/GEARS_misc/legacy/inference.py:585: RuntimeWarning: divide by zero encountered in divide\n",
      "  fold_change = pert_mean/ctrl\n",
      "/home/share/huadjyin/home/fengtiannan/zhoumin/gears/GEARS_misc/legacy/inference.py:585: RuntimeWarning: invalid value encountered in divide\n",
      "  fold_change = pert_mean/ctrl\n"
     ]
    },
    {
     "name": "stdout",
     "output_type": "stream",
     "text": [
      "split5 computation completed\n"
     ]
    }
   ],
   "source": [
    "import wandb\n",
    "import logging\n",
    "from logging import StreamHandler\n",
    "dataset = \"AdamsonWeissman2016_GSM2406675_1\"\n",
    "split_number = 1\n",
    "wandb.init(project='01_dataset_all_cpa', name=f'{dataset}_split{split_number}', config={\n",
    "        \"seed\": split_number,\n",
    "        \"data_name\": dataset\n",
    "    })\n",
    "logger = logging.getLogger()\n",
    "logger.setLevel(logging.INFO)\n",
    "\n",
    "class WandbHandler(StreamHandler):\n",
    "    def emit(self, record):\n",
    "        log_entry = self.format(record)\n",
    "        wandb.log({\"log\": log_entry})\n",
    "wandb_handler = WandbHandler()\n",
    "wandb_handler.setLevel(logging.INFO)\n",
    "logger.addHandler(wandb_handler)\n",
    "\n",
    "class WandbStream:\n",
    "    def __init__(self):\n",
    "        self.buffer = []\n",
    "\n",
    "    def write(self, message):\n",
    "        if message.strip() != \"\":  \n",
    "            self.buffer.append(message)\n",
    "            wandb.log({\"log\": message.strip()})\n",
    "        sys.__stdout__.write(message)\n",
    "\n",
    "    def flush(self):\n",
    "        self.buffer.clear()\n",
    "\n",
    "sys.stdout = WandbStream()\n",
    "sys.stderr = WandbStream()"
   ]
  },
  {
   "cell_type": "code",
   "execution_count": 9,
   "id": "cd53c5be-e025-45c5-8fe7-9d4d967f72fa",
   "metadata": {
    "scrolled": true
   },
   "outputs": [],
   "source": [
    "train_compert(parse_arguments(dataset, split_number))"
   ]
  },
  {
   "cell_type": "code",
   "execution_count": 10,
   "id": "dc3529aa-3d95-42a7-8cc5-aaafb0c0cee0",
   "metadata": {},
   "outputs": [
    {
     "data": {
      "text/html": [
       "<style>\n",
       "    table.wandb td:nth-child(1) { padding: 0 10px; text-align: left ; width: auto;} td:nth-child(2) {text-align: left ; width: 100%}\n",
       "    .wandb-row { display: flex; flex-direction: row; flex-wrap: wrap; justify-content: flex-start; width: 100% }\n",
       "    .wandb-col { display: flex; flex-direction: column; flex-basis: 100%; flex: 1; padding: 10px; }\n",
       "    </style>\n",
       "<div class=\"wandb-row\"><div class=\"wandb-col\"><h3>Run summary:</h3><br/><table class=\"wandb\"><tr><td>log</td><td>{\"model_saved\": \"mod...</td></tr></table><br/></div></div>"
      ],
      "text/plain": [
       "<IPython.core.display.HTML object>"
      ]
     },
     "metadata": {},
     "output_type": "display_data"
    },
    {
     "data": {
      "text/html": [
       " View run <strong style=\"color:#cdcd00\">AdamsonWeissman2016_GSM2406675_1_split1</strong> at: <a href='https://wandb.ai/zhoumin1130/01_dataset_all_cpa/runs/faiwxsqt' target=\"_blank\">https://wandb.ai/zhoumin1130/01_dataset_all_cpa/runs/faiwxsqt</a><br/> View project at: <a href='https://wandb.ai/zhoumin1130/01_dataset_all_cpa' target=\"_blank\">https://wandb.ai/zhoumin1130/01_dataset_all_cpa</a><br/>Synced 6 W&B file(s), 0 media file(s), 0 artifact file(s) and 0 other file(s)"
      ],
      "text/plain": [
       "<IPython.core.display.HTML object>"
      ]
     },
     "metadata": {},
     "output_type": "display_data"
    },
    {
     "data": {
      "text/html": [
       "Find logs at: <code>/home/share/huadjyin/home/zhoumin3/tmp/wandb/run-20240726_223541-faiwxsqt/logs</code>"
      ],
      "text/plain": [
       "<IPython.core.display.HTML object>"
      ]
     },
     "metadata": {},
     "output_type": "display_data"
    }
   ],
   "source": [
    "wandb.finish()"
   ]
  },
  {
   "cell_type": "code",
   "execution_count": 11,
   "id": "844fe30e-0c9b-4556-920e-6487c6ab425d",
   "metadata": {},
   "outputs": [
    {
     "data": {
      "text/html": [
       "Tracking run with wandb version 0.17.0"
      ],
      "text/plain": [
       "<IPython.core.display.HTML object>"
      ]
     },
     "metadata": {},
     "output_type": "display_data"
    },
    {
     "data": {
      "text/html": [
       "Run data is saved locally in <code>/home/share/huadjyin/home/zhoumin3/tmp/wandb/run-20240726_224502-0oa62qxg</code>"
      ],
      "text/plain": [
       "<IPython.core.display.HTML object>"
      ]
     },
     "metadata": {},
     "output_type": "display_data"
    },
    {
     "data": {
      "text/html": [
       "Syncing run <strong><a href='https://wandb.ai/zhoumin1130/01_dataset_all_cpa/runs/0oa62qxg' target=\"_blank\">AdamsonWeissman2016_GSM2406675_1_split2</a></strong> to <a href='https://wandb.ai/zhoumin1130/01_dataset_all_cpa' target=\"_blank\">Weights & Biases</a> (<a href='https://wandb.me/run' target=\"_blank\">docs</a>)<br/>"
      ],
      "text/plain": [
       "<IPython.core.display.HTML object>"
      ]
     },
     "metadata": {},
     "output_type": "display_data"
    },
    {
     "data": {
      "text/html": [
       " View project at <a href='https://wandb.ai/zhoumin1130/01_dataset_all_cpa' target=\"_blank\">https://wandb.ai/zhoumin1130/01_dataset_all_cpa</a>"
      ],
      "text/plain": [
       "<IPython.core.display.HTML object>"
      ]
     },
     "metadata": {},
     "output_type": "display_data"
    },
    {
     "data": {
      "text/html": [
       " View run at <a href='https://wandb.ai/zhoumin1130/01_dataset_all_cpa/runs/0oa62qxg' target=\"_blank\">https://wandb.ai/zhoumin1130/01_dataset_all_cpa/runs/0oa62qxg</a>"
      ],
      "text/plain": [
       "<IPython.core.display.HTML object>"
      ]
     },
     "metadata": {},
     "output_type": "display_data"
    },
    {
     "data": {
      "text/html": [
       " View run <strong style=\"color:#cdcd00\">AdamsonWeissman2016_GSM2406675_1_split2</strong> at: <a href='https://wandb.ai/zhoumin1130/01_dataset_all_cpa/runs/0oa62qxg' target=\"_blank\">https://wandb.ai/zhoumin1130/01_dataset_all_cpa/runs/0oa62qxg</a><br/> View project at: <a href='https://wandb.ai/zhoumin1130/01_dataset_all_cpa' target=\"_blank\">https://wandb.ai/zhoumin1130/01_dataset_all_cpa</a><br/>Synced 6 W&B file(s), 0 media file(s), 0 artifact file(s) and 0 other file(s)"
      ],
      "text/plain": [
       "<IPython.core.display.HTML object>"
      ]
     },
     "metadata": {},
     "output_type": "display_data"
    },
    {
     "data": {
      "text/html": [
       "Find logs at: <code>/home/share/huadjyin/home/zhoumin3/tmp/wandb/run-20240726_224502-0oa62qxg/logs</code>"
      ],
      "text/plain": [
       "<IPython.core.display.HTML object>"
      ]
     },
     "metadata": {},
     "output_type": "display_data"
    },
    {
     "data": {
      "text/html": [
       "Tracking run with wandb version 0.17.0"
      ],
      "text/plain": [
       "<IPython.core.display.HTML object>"
      ]
     },
     "metadata": {},
     "output_type": "display_data"
    },
    {
     "data": {
      "text/html": [
       "Run data is saved locally in <code>/home/share/huadjyin/home/zhoumin3/tmp/wandb/run-20240726_224852-xwxdob1b</code>"
      ],
      "text/plain": [
       "<IPython.core.display.HTML object>"
      ]
     },
     "metadata": {},
     "output_type": "display_data"
    },
    {
     "data": {
      "text/html": [
       "Syncing run <strong><a href='https://wandb.ai/zhoumin1130/01_dataset_all_cpa/runs/xwxdob1b' target=\"_blank\">AdamsonWeissman2016_GSM2406675_1_split3</a></strong> to <a href='https://wandb.ai/zhoumin1130/01_dataset_all_cpa' target=\"_blank\">Weights & Biases</a> (<a href='https://wandb.me/run' target=\"_blank\">docs</a>)<br/>"
      ],
      "text/plain": [
       "<IPython.core.display.HTML object>"
      ]
     },
     "metadata": {},
     "output_type": "display_data"
    },
    {
     "data": {
      "text/html": [
       " View project at <a href='https://wandb.ai/zhoumin1130/01_dataset_all_cpa' target=\"_blank\">https://wandb.ai/zhoumin1130/01_dataset_all_cpa</a>"
      ],
      "text/plain": [
       "<IPython.core.display.HTML object>"
      ]
     },
     "metadata": {},
     "output_type": "display_data"
    },
    {
     "data": {
      "text/html": [
       " View run at <a href='https://wandb.ai/zhoumin1130/01_dataset_all_cpa/runs/xwxdob1b' target=\"_blank\">https://wandb.ai/zhoumin1130/01_dataset_all_cpa/runs/xwxdob1b</a>"
      ],
      "text/plain": [
       "<IPython.core.display.HTML object>"
      ]
     },
     "metadata": {},
     "output_type": "display_data"
    },
    {
     "data": {
      "text/html": [
       "<style>\n",
       "    table.wandb td:nth-child(1) { padding: 0 10px; text-align: left ; width: auto;} td:nth-child(2) {text-align: left ; width: 100%}\n",
       "    .wandb-row { display: flex; flex-direction: row; flex-wrap: wrap; justify-content: flex-start; width: 100% }\n",
       "    .wandb-col { display: flex; flex-direction: column; flex-basis: 100%; flex: 1; padding: 10px; }\n",
       "    </style>\n",
       "<div class=\"wandb-row\"><div class=\"wandb-col\"><h3>Run summary:</h3><br/><table class=\"wandb\"><tr><td>log</td><td>Retrying (Retry(tota...</td></tr></table><br/></div></div>"
      ],
      "text/plain": [
       "<IPython.core.display.HTML object>"
      ]
     },
     "metadata": {},
     "output_type": "display_data"
    },
    {
     "data": {
      "text/html": [
       " View run <strong style=\"color:#cdcd00\">AdamsonWeissman2016_GSM2406675_1_split3</strong> at: <a href='https://wandb.ai/zhoumin1130/01_dataset_all_cpa/runs/xwxdob1b' target=\"_blank\">https://wandb.ai/zhoumin1130/01_dataset_all_cpa/runs/xwxdob1b</a><br/> View project at: <a href='https://wandb.ai/zhoumin1130/01_dataset_all_cpa' target=\"_blank\">https://wandb.ai/zhoumin1130/01_dataset_all_cpa</a><br/>Synced 6 W&B file(s), 0 media file(s), 0 artifact file(s) and 0 other file(s)"
      ],
      "text/plain": [
       "<IPython.core.display.HTML object>"
      ]
     },
     "metadata": {},
     "output_type": "display_data"
    },
    {
     "data": {
      "text/html": [
       "Find logs at: <code>/home/share/huadjyin/home/zhoumin3/tmp/wandb/run-20240726_224852-xwxdob1b/logs</code>"
      ],
      "text/plain": [
       "<IPython.core.display.HTML object>"
      ]
     },
     "metadata": {},
     "output_type": "display_data"
    },
    {
     "data": {
      "text/html": [
       "Tracking run with wandb version 0.17.0"
      ],
      "text/plain": [
       "<IPython.core.display.HTML object>"
      ]
     },
     "metadata": {},
     "output_type": "display_data"
    },
    {
     "data": {
      "text/html": [
       "Run data is saved locally in <code>/home/share/huadjyin/home/zhoumin3/tmp/wandb/run-20240726_225254-saf3xhoi</code>"
      ],
      "text/plain": [
       "<IPython.core.display.HTML object>"
      ]
     },
     "metadata": {},
     "output_type": "display_data"
    },
    {
     "data": {
      "text/html": [
       "Syncing run <strong><a href='https://wandb.ai/zhoumin1130/01_dataset_all_cpa/runs/saf3xhoi' target=\"_blank\">AdamsonWeissman2016_GSM2406675_1_split4</a></strong> to <a href='https://wandb.ai/zhoumin1130/01_dataset_all_cpa' target=\"_blank\">Weights & Biases</a> (<a href='https://wandb.me/run' target=\"_blank\">docs</a>)<br/>"
      ],
      "text/plain": [
       "<IPython.core.display.HTML object>"
      ]
     },
     "metadata": {},
     "output_type": "display_data"
    },
    {
     "data": {
      "text/html": [
       " View project at <a href='https://wandb.ai/zhoumin1130/01_dataset_all_cpa' target=\"_blank\">https://wandb.ai/zhoumin1130/01_dataset_all_cpa</a>"
      ],
      "text/plain": [
       "<IPython.core.display.HTML object>"
      ]
     },
     "metadata": {},
     "output_type": "display_data"
    },
    {
     "data": {
      "text/html": [
       " View run at <a href='https://wandb.ai/zhoumin1130/01_dataset_all_cpa/runs/saf3xhoi' target=\"_blank\">https://wandb.ai/zhoumin1130/01_dataset_all_cpa/runs/saf3xhoi</a>"
      ],
      "text/plain": [
       "<IPython.core.display.HTML object>"
      ]
     },
     "metadata": {},
     "output_type": "display_data"
    },
    {
     "data": {
      "text/html": [
       "<style>\n",
       "    table.wandb td:nth-child(1) { padding: 0 10px; text-align: left ; width: auto;} td:nth-child(2) {text-align: left ; width: 100%}\n",
       "    .wandb-row { display: flex; flex-direction: row; flex-wrap: wrap; justify-content: flex-start; width: 100% }\n",
       "    .wandb-col { display: flex; flex-direction: column; flex-basis: 100%; flex: 1; padding: 10px; }\n",
       "    </style>\n",
       "<div class=\"wandb-row\"><div class=\"wandb-col\"><h3>Run summary:</h3><br/><table class=\"wandb\"><tr><td>log</td><td>Retrying (Retry(tota...</td></tr></table><br/></div></div>"
      ],
      "text/plain": [
       "<IPython.core.display.HTML object>"
      ]
     },
     "metadata": {},
     "output_type": "display_data"
    },
    {
     "data": {
      "text/html": [
       " View run <strong style=\"color:#cdcd00\">AdamsonWeissman2016_GSM2406675_1_split4</strong> at: <a href='https://wandb.ai/zhoumin1130/01_dataset_all_cpa/runs/saf3xhoi' target=\"_blank\">https://wandb.ai/zhoumin1130/01_dataset_all_cpa/runs/saf3xhoi</a><br/> View project at: <a href='https://wandb.ai/zhoumin1130/01_dataset_all_cpa' target=\"_blank\">https://wandb.ai/zhoumin1130/01_dataset_all_cpa</a><br/>Synced 6 W&B file(s), 0 media file(s), 0 artifact file(s) and 0 other file(s)"
      ],
      "text/plain": [
       "<IPython.core.display.HTML object>"
      ]
     },
     "metadata": {},
     "output_type": "display_data"
    },
    {
     "data": {
      "text/html": [
       "Find logs at: <code>/home/share/huadjyin/home/zhoumin3/tmp/wandb/run-20240726_225254-saf3xhoi/logs</code>"
      ],
      "text/plain": [
       "<IPython.core.display.HTML object>"
      ]
     },
     "metadata": {},
     "output_type": "display_data"
    },
    {
     "data": {
      "text/html": [
       "Tracking run with wandb version 0.17.0"
      ],
      "text/plain": [
       "<IPython.core.display.HTML object>"
      ]
     },
     "metadata": {},
     "output_type": "display_data"
    },
    {
     "data": {
      "text/html": [
       "Run data is saved locally in <code>/home/share/huadjyin/home/zhoumin3/tmp/wandb/run-20240726_225646-xwar934u</code>"
      ],
      "text/plain": [
       "<IPython.core.display.HTML object>"
      ]
     },
     "metadata": {},
     "output_type": "display_data"
    },
    {
     "data": {
      "text/html": [
       "Syncing run <strong><a href='https://wandb.ai/zhoumin1130/01_dataset_all_cpa/runs/xwar934u' target=\"_blank\">AdamsonWeissman2016_GSM2406675_1_split5</a></strong> to <a href='https://wandb.ai/zhoumin1130/01_dataset_all_cpa' target=\"_blank\">Weights & Biases</a> (<a href='https://wandb.me/run' target=\"_blank\">docs</a>)<br/>"
      ],
      "text/plain": [
       "<IPython.core.display.HTML object>"
      ]
     },
     "metadata": {},
     "output_type": "display_data"
    },
    {
     "data": {
      "text/html": [
       " View project at <a href='https://wandb.ai/zhoumin1130/01_dataset_all_cpa' target=\"_blank\">https://wandb.ai/zhoumin1130/01_dataset_all_cpa</a>"
      ],
      "text/plain": [
       "<IPython.core.display.HTML object>"
      ]
     },
     "metadata": {},
     "output_type": "display_data"
    },
    {
     "data": {
      "text/html": [
       " View run at <a href='https://wandb.ai/zhoumin1130/01_dataset_all_cpa/runs/xwar934u' target=\"_blank\">https://wandb.ai/zhoumin1130/01_dataset_all_cpa/runs/xwar934u</a>"
      ],
      "text/plain": [
       "<IPython.core.display.HTML object>"
      ]
     },
     "metadata": {},
     "output_type": "display_data"
    },
    {
     "data": {
      "text/html": [
       "<style>\n",
       "    table.wandb td:nth-child(1) { padding: 0 10px; text-align: left ; width: auto;} td:nth-child(2) {text-align: left ; width: 100%}\n",
       "    .wandb-row { display: flex; flex-direction: row; flex-wrap: wrap; justify-content: flex-start; width: 100% }\n",
       "    .wandb-col { display: flex; flex-direction: column; flex-basis: 100%; flex: 1; padding: 10px; }\n",
       "    </style>\n",
       "<div class=\"wandb-row\"><div class=\"wandb-col\"><h3>Run summary:</h3><br/><table class=\"wandb\"><tr><td>log</td><td>Retrying (Retry(tota...</td></tr></table><br/></div></div>"
      ],
      "text/plain": [
       "<IPython.core.display.HTML object>"
      ]
     },
     "metadata": {},
     "output_type": "display_data"
    },
    {
     "data": {
      "text/html": [
       " View run <strong style=\"color:#cdcd00\">AdamsonWeissman2016_GSM2406675_1_split5</strong> at: <a href='https://wandb.ai/zhoumin1130/01_dataset_all_cpa/runs/xwar934u' target=\"_blank\">https://wandb.ai/zhoumin1130/01_dataset_all_cpa/runs/xwar934u</a><br/> View project at: <a href='https://wandb.ai/zhoumin1130/01_dataset_all_cpa' target=\"_blank\">https://wandb.ai/zhoumin1130/01_dataset_all_cpa</a><br/>Synced 6 W&B file(s), 0 media file(s), 0 artifact file(s) and 0 other file(s)"
      ],
      "text/plain": [
       "<IPython.core.display.HTML object>"
      ]
     },
     "metadata": {},
     "output_type": "display_data"
    },
    {
     "data": {
      "text/html": [
       "Find logs at: <code>/home/share/huadjyin/home/zhoumin3/tmp/wandb/run-20240726_225646-xwar934u/logs</code>"
      ],
      "text/plain": [
       "<IPython.core.display.HTML object>"
      ]
     },
     "metadata": {},
     "output_type": "display_data"
    }
   ],
   "source": [
    "for split_number in range(2, 6):\n",
    "    args = parse_arguments(dataset, split_number)\n",
    "    wandb.init(project='01_dataset_all_cpa', name=f'{dataset}_split{split_number}', config=args)\n",
    "    print(f\"Training for split {split_number}...\")\n",
    "    train_compert(args)\n",
    "\n",
    "    wandb.finish()"
   ]
  },
  {
   "cell_type": "code",
   "execution_count": null,
   "id": "3bb9f50e-76f7-4a05-b363-562acb6ff839",
   "metadata": {},
   "outputs": [],
   "source": [
    "sys.stdout = sys.__stdout__\n",
    "sys.stderr = sys.__stderr__"
   ]
  },
  {
   "cell_type": "code",
   "execution_count": 12,
   "id": "7ccf22c6-446f-44e7-8378-a8312d766ba7",
   "metadata": {},
   "outputs": [],
   "source": [
    "from pprint import pprint\n",
    "from train import train_compert\n",
    "from data import load_dataset_splits\n",
    "from api import ComPertAPI\n",
    "import pandas as pd\n",
    "import scanpy as sc\n",
    "import numpy as np\n",
    "from sklearn.metrics import r2_score\n",
    "from scipy.stats import pearsonr, spearmanr\n",
    "from sklearn.metrics import mean_squared_error as mse\n",
    "from sklearn.metrics import mean_absolute_error as mae\n",
    "import pandas as pd\n",
    "import numpy as np\n",
    "import networkx as nx\n",
    "import statsmodels.stats.api as sms\n",
    "from scipy.stats import ncx2\n",
    "from os.path import isfile\n",
    "import scanpy as sc\n",
    "from tqdm import tqdm\n",
    "import sys\n",
    "sys.path.append('/home/share/huadjyin/home/fengtiannan/zhoumin/gears/GEARS_misc/legacy/')\n",
    "from flow import get_graph, get_expression_data,\\\n",
    "            add_weight, I_TF, get_TFs, solve,\\\n",
    "            solve_parallel, get_expression_lambda\n"
   ]
  },
  {
   "cell_type": "code",
   "execution_count": null,
   "id": "d48234d9-e013-4997-94b0-3b1d5412e9b7",
   "metadata": {},
   "outputs": [],
   "source": [
    "dataset_name = 'AdamsonWeissman2016_GSM2406675_1'\n",
    "kg_mode = False\n",
    "if kg_mode:\n",
    "    kg_str = '_kg'\n",
    "    emb_model = 'kg'\n",
    "else:\n",
    "    kg_str = ''\n",
    "    emb_model = 'one_hot'\n",
    "for split_num in range(1, 6):\n",
    "    import pickle\n",
    "    import torch\n",
    "    from train import prepare_compert\n",
    "    model_name = f'/home/share/huadjyin/home/zhoumin3/zhoumin/model_benchmark/01_A_results/{dataset_name}/cpa/split' + str(split_num) + '/model' + kg_str + '_seed=0_epoch=499.pt'\n",
    "    #model_name ='./model_seed=0_epoch=499.pt'\n",
    "    #state, args, history = torch.load(model_name, map_location=torch.device('cpu'))\n",
    "    state  = torch.load(model_name, map_location=torch.device('cpu'))\n",
    "    fname = f'/home/share/huadjyin/home/zhoumin3/zhoumin/benchmark_data/01A_total_re/06cpa/{dataset_name}.h5ad'\n",
    "    autoencoder_params = { 'adversary_depth': 4,\n",
    "                              'adversary_lr': 0.0001875455179637405,\n",
    "                              'adversary_steps': 3,\n",
    "                              'adversary_wd': 0.00019718137187038062,\n",
    "                              'adversary_width': 128,\n",
    "                              'autoencoder_depth': 4,\n",
    "                              'autoencoder_lr': 0.0011021870411382655,\n",
    "                              'autoencoder_wd': 1.1455862519513426e-05,\n",
    "                              'autoencoder_width': 512,\n",
    "                              'batch_size': 128,\n",
    "                              'dim': 256,\n",
    "                              'dosers_depth': 2,\n",
    "                              'dosers_lr': 0.00026396192072937485,\n",
    "                              'dosers_wd': 7.165810318386074e-07,\n",
    "                              'dosers_width': 64,\n",
    "                              'penalty_adversary': 8.735507132389051,\n",
    "                              'reg_adversary': 69.6011204833175,\n",
    "                              'step_size_lr': 25}\n",
    "    \n",
    "    args = {'dataset_path': fname, # full path to the anndata dataset \n",
    "            'cell_type_key': 'cell_type', # necessary field for cell types. Fill it with a dummy variable if no celltypes present.\n",
    "            'split_key': 'split' + str(split_num), # necessary field for train, test, ood splits.\n",
    "            'perturbation_key': 'condition', # necessary field for perturbations\n",
    "            'dose_key': 'dose_val', # necessary field for dose. Fill in with dummy variable if dose is the same. \n",
    "            'checkpoint_freq': 20, # checkoint frequencty to save intermediate results\n",
    "            'hparams': \"\", #autoencoder_params, # autoencoder architecture\n",
    "            'max_epochs': 500, # maximum epochs for training\n",
    "            'max_minutes': 400, # maximum computation time\n",
    "            'patience': 20, # patience for early stopping\n",
    "            'loss_ae': 'gauss', # loss (currently only gaussian loss is supported)\n",
    "            'doser_type': 'sigm', # non-linearity for doser function\n",
    "            'save_dir': f'/home/share/huadjyin/home/zhoumin3/zhoumin/model_benchmark/01_A_results/{dataset_name}/cpa/split{split_num}/', # directory to save the model\n",
    "            'decoder_activation': 'linear', # last layer of the decoder\n",
    "            'seed': 0, # random seed\n",
    "            'sweep_seeds': 0,\n",
    "            'emb': emb_model,\n",
    "            'dataset': dataset_name}\n",
    "    args['cuda'] = 0\n",
    "    \n",
    "    dataset = args[\"dataset\"]\n",
    "    save_dir = args['save_dir'] \n",
    "    import pandas as pd\n",
    "    if dataset == 'AdamsonWeissman2016_GSM2406675_1':\n",
    "        go_path = '/home/share/huadjyin/home/zhoumin3/zhoumin/benchmark_data/01A_total_re/03final/data/go_essential_adamsonweissman2016_gsm2406675_1.csv'\n",
    "        print(f\"go_path: {go_path}\")\n",
    "    elif dataset == 'AdamsonWeissman2016_GSM2406677_2':\n",
    "        go_path = '/home/share/huadjyin/home/zhoumin3/zhoumin/benchmark_data/01A_total_re/03final/data/go_essential_adamsonweissman2016_gsm2406677_2.csv'\n",
    "        print(f\"go_path: {go_path}\")\n",
    "    elif dataset == 'AdamsonWeissman2016_GSM2406681_3':\n",
    "        go_path = '/home/share/huadjyin/home/zhoumin3/zhoumin/benchmark_data/01A_total_re/03final/data/go_essential_adamsonweissman2016_gsm2406681_3.csv'\n",
    "        print(f\"go_path: {go_path}\")\n",
    "    elif dataset == 'DatlingerBock2017_stimulated':\n",
    "        go_path = '/home/share/huadjyin/home/zhoumin3/zhoumin/benchmark_data/01A_total_re/03final/data/go_essential_datlingerbock2017_stimulated.csv'\n",
    "        print(f\"go_path: {go_path}\")\n",
    "    elif dataset == 'DatlingerBock2017_unstimulated':\n",
    "        go_path = '/home/share/huadjyin/home/zhoumin3/zhoumin/benchmark_data/01A_total_re/03final/data/go_essential_datlingerbock2017_unstimulated.csv'\n",
    "        print(f\"go_path: {go_path}\")\n",
    "    elif dataset == 'DatlingerBock2021_stimulated':\n",
    "        go_path = '/home/share/huadjyin/home/zhoumin3/zhoumin/benchmark_data/01A_total_re/03final/data/go_essential_datlingerbock2021_stimulated.csv'\n",
    "        print(f\"go_path: {go_path}\")\n",
    "    elif dataset == 'DatlingerBock2021_unstimulated':\n",
    "        go_path = '/home/share/huadjyin/home/zhoumin3/zhoumin/benchmark_data/01A_total_re/03final/data/go_essential_datlingerbock2021_unstimulated.csv'\n",
    "        print(f\"go_path: {go_path}\")\n",
    "    elif dataset == 'Dixit_combined':\n",
    "        go_path = '/home/share/huadjyin/home/zhoumin3/zhoumin/benchmark_data/01A_total_re/03final/data/go_essential_dixit_combined.csv'\n",
    "        print(f\"go_path: {go_path}\")\n",
    "    elif dataset == 'Dixit_GSM2396858':\n",
    "        go_path = '/home/share/huadjyin/home/zhoumin3/zhoumin/benchmark_data/01A_total_re/03final/data/go_essential_dixit_gsm2396858.csv'\n",
    "        print(f\"go_path: {go_path}\")\n",
    "    elif dataset == 'Dixit_GSM2396861':\n",
    "        go_path = '/home/share/huadjyin/home/zhoumin3/zhoumin/benchmark_data/01A_total_re/03final/data/go_essential_dixit_gsm2396861.csv'\n",
    "        print(f\"go_path: {go_path}\")\n",
    "    elif dataset == 'NormanWeissman2019':\n",
    "        go_path = '/home/share/huadjyin/home/zhoumin3/zhoumin/benchmark_data/01A_total_re/03final/data/go_essential_normanweissman2019.csv'\n",
    "        print(f\"go_path: {go_path}\")\n",
    "    elif dataset == 'PapalexiSatija2021_eccite_arrayed_RNA':\n",
    "        go_path = '/home/share/huadjyin/home/zhoumin3/zhoumin/benchmark_data/01A_total_re/03final/data/go_essential_papalexisatija2021_eccite_arrayed_rna.csv'\n",
    "        print(f\"go_path: {go_path}\")\n",
    "    elif dataset == 'PapalexiSatija2021_eccite_RNA':\n",
    "        go_path = '/home/share/huadjyin/home/zhoumin3/zhoumin/benchmark_data/01A_total_re/03final/data/go_essential_papalexisatija2021_eccite_rna.csv'\n",
    "        print(f\"go_path: {go_path}\")\n",
    "    elif dataset == 'Replogle_k562_essential':\n",
    "        go_path = '/home/share/huadjyin/home/zhoumin3/zhoumin/benchmark_data/01A_total_re/03final/data/go_essential_replogle_k562_essential.csv'\n",
    "        print(f\"go_path: {go_path}\")\n",
    "    elif dataset == 'Replogle_rpe1_essential':\n",
    "        go_path = '/home/share/huadjyin/home/zhoumin3/zhoumin/benchmark_data/01A_total_re/03final/data/go_essential_replogle_rpe1_essential.csv'\n",
    "        print(f\"go_path: {go_path}\")\n",
    "    elif dataset == 'ShifrutMarson2018':\n",
    "        go_path = '/home/share/huadjyin/home/zhoumin3/zhoumin/benchmark_data/01A_total_re/03final/data/go_essential_shifrutmarson2018.csv'\n",
    "        print(f\"go_path: {go_path}\")\n",
    "    elif dataset == 'TianKampmann2019_day7neuron':\n",
    "        go_path = '/home/share/huadjyin/home/zhoumin3/zhoumin/benchmark_data/01A_total_re/03final/data/go_essential_tiankampmann2019_day7neuron.csv'\n",
    "        print(f\"go_path: {go_path}\")\n",
    "    elif dataset == 'TianKampmann2019_iPSC':\n",
    "        go_path = '/home/share/huadjyin/home/zhoumin3/zhoumin/benchmark_data/01A_total_re/03final/data/go_essential_tiankampmann2019_ipsc.csv'\n",
    "        print(f\"go_path: {go_path}\")\n",
    "    elif dataset == 'TianKampmann2021_CRISPRa':\n",
    "        go_path = '/home/share/huadjyin/home/zhoumin3/zhoumin/benchmark_data/01A_total_re/03final/data/go_essential_tiankampmann2021_crispra.csv'\n",
    "        print(f\"go_path: {go_path}\")\n",
    "    elif dataset == 'TianKampmann2021_CRISPRi':\n",
    "        go_path = '/home/share/huadjyin/home/zhoumin3/zhoumin/benchmark_data/01A_total_re/03final/data/go_essential_tiankampmann2021_crispri.csv'\n",
    "        print(f\"go_path: {go_path}\")\n",
    "    elif dataset == 'XuCao2023':\n",
    "        go_path = '/home/share/huadjyin/home/zhoumin3/zhoumin/benchmark_data/01A_total_re/03final/data/go_essential_xucao2023.csv'\n",
    "        print(f\"go_path: {go_path}\")\n",
    "    else:\n",
    "        go_path = '/home/share/huadjyin/home/zhoumin3/zhoumin/benchmark_data/de_data_gears/go_essential_all/go_essential_all.csv'\n",
    "        print(f\"go_path: {go_path}\")\n",
    "        \n",
    "    df = pd.read_csv(go_path)\n",
    "    df = df.groupby('target').apply(lambda x: x.nlargest(20 + 1,['importance'])).reset_index(drop = True)\n",
    "    gene_path = '/home/share/huadjyin/home/zhoumin3/zhoumin/benchmark_data/01A_total_re/06cpa/dataset_all_gene_names.pkl'\n",
    "    def get_map(pert):\n",
    "        tmp = np.zeros(len(gene_list))\n",
    "        tmp[np.where(np.in1d(gene_list, df[df.target == pert].source.values))[0]] = 1\n",
    "        return tmp    \n",
    "    \n",
    "    import pickle\n",
    "    with open(gene_path, 'rb') as f:\n",
    "        gene_list = pickle.load(f)\n",
    "    args['num_pert_in_graph'] = len(gene_list)\n",
    "    \n",
    "    \n",
    "    # load the dataset and model pre-trained weights\n",
    "    autoencoder, datasets = prepare_compert(args, state_dict=state)\n",
    "    autoencoder.load_state_dict(state)\n",
    "    pert_dict = datasets[\"training\"].perts_dict\n",
    "    \n",
    "    pert2neighbor =  {i: get_map(i) for i in list(pert_dict.keys())}    \n",
    "    pert_dict_rev = {'+'.join([str(x) for x in np.where(j == 1)[0]]): i for i,j  in pert_dict.items()}\n",
    "    autoencoder.pert2neighbor = pert2neighbor\n",
    "    autoencoder.pert_dict_rev = pert_dict_rev\n",
    "    \n",
    "    \n",
    "    from inference import evaluate, compute_metrics, deeper_analysis, GI_subgroup, non_dropout_analysis, non_zero_analysis\n",
    "    compert_api = ComPertAPI(datasets, autoencoder)\n",
    "    adata = sc.read(fname)\n",
    "    condition2num_of_cells = dict(adata.obs.cov_drug_dose_name.value_counts())\n",
    "    name_map = dict(adata.obs[['cov_drug_dose_name', 'condition']].drop_duplicates().values)\n",
    "\n",
    "    dataset = datasets['ood']\n",
    "    compert_api.model.eval()\n",
    "    scores = pd.DataFrame(columns=[compert_api.covars_key,\n",
    "                                    compert_api.perturbation_key,\n",
    "                                    compert_api.dose_key,\n",
    "                                    'R2_mean', 'R2_mean_DE', 'R2_var',\n",
    "                                    'R2_var_DE', 'num_cells'])\n",
    "\n",
    "    total_cells = len(dataset)\n",
    "\n",
    "    icond = 0\n",
    "\n",
    "    pert_cat = []\n",
    "    pred = []\n",
    "    truth = []\n",
    "    pred_de = []\n",
    "    truth_de = []\n",
    "    results = {}\n",
    "    \n",
    "    for pert_category in tqdm(np.unique(dataset.pert_categories)):\n",
    "        # pert_category category contains: 'celltype_perturbation_dose' info\n",
    "        de_idx = np.where(\n",
    "            dataset.var_names.isin(\n",
    "                np.array(dataset.de_genes[pert_category])))[0]\n",
    "        idx = np.where(dataset.pert_categories == pert_category)[0]\n",
    "\n",
    "        genes_control = datasets['training_control'].genes[np.random.randint(0,\n",
    "                                            len(datasets['training_control'].genes), condition2num_of_cells[pert_category]), :]\n",
    "        num, dim = genes_control.size(0), genes_control.size(1)\n",
    "\n",
    "        pert_cat.extend([name_map[pert_category]] * condition2num_of_cells[pert_category])\n",
    "\n",
    "        if len(idx) > 0:\n",
    "            emb_drugs = dataset.drugs[idx][0].view(1, -1).repeat(num, 1).clone()\n",
    "            emb_cts = dataset.cell_types[idx][0].view(1, -1).repeat(num, 1).clone()\n",
    "\n",
    "            genes_predict = compert_api.model.predict(\n",
    "                genes_control, emb_drugs, emb_cts).detach().cpu()\n",
    "            y_pred = genes_predict[:, :dim]\n",
    "            y_true = dataset.genes[idx, :].numpy()\n",
    "\n",
    "            y_true_de = y_true[:, de_idx]\n",
    "            y_pred_de = y_pred[:, de_idx]\n",
    "\n",
    "            \n",
    "            pred.extend(y_pred)\n",
    "            truth.extend(y_true)\n",
    "            pred_de.extend(y_pred_de)\n",
    "            truth_de.extend(y_true_de)\n",
    "    \n",
    "    results['pert_cat'] = np.array(pert_cat)\n",
    "    results['pred'] = torch.stack(pred).detach().numpy()\n",
    "    results['pred_de'] = torch.stack(pred_de).detach().numpy()\n",
    "    results['truth'] = np.stack(truth)\n",
    "    results['truth_de'] = np.stack(truth_de)\n",
    "    results['pred'] = results['pred']\n",
    "    results['pred_de'] = results['pred_de']\n",
    "\n",
    "   \n",
    "    results_to_save = [\n",
    "        (results, f\"{dataset_name}_split{split_num}_test_res\"),\n",
    "        (compute_metrics(results), f\"{dataset_name}_split{split_num}_test_metrics\"),\n",
    "        (deeper_analysis(adata, results, de_column_prefix='top_non_dropout_de_20'), f\"{dataset_name}_split{split_num}_deeper_res\"),\n",
    "        (non_dropout_analysis(adata, results), f\"{dataset_name}_split{split_num}_non_dropout_res\"),\n",
    "        (non_zero_analysis(adata, results), f\"{dataset_name}_split{split_num}_non_zero_res\")\n",
    "    ]\n",
    "\n",
    "    for result, file_prefix in results_to_save:\n",
    "        file_path = f\"{save_dir}/{file_prefix}.pkl\"\n",
    "        with open(file_path, 'wb') as f:\n",
    "            pickle.dump(result, f)\n",
    "\n",
    "    print(f\"split{split_num} computation completed\")"
   ]
  },
  {
   "cell_type": "code",
   "execution_count": null,
   "id": "7137fe0a-0eb2-4083-9570-145daf4ed7e0",
   "metadata": {},
   "outputs": [],
   "source": []
  }
 ],
 "metadata": {
  "kernelspec": {
   "display_name": "gears",
   "language": "python",
   "name": "gears"
  },
  "language_info": {
   "codemirror_mode": {
    "name": "ipython",
    "version": 3
   },
   "file_extension": ".py",
   "mimetype": "text/x-python",
   "name": "python",
   "nbconvert_exporter": "python",
   "pygments_lexer": "ipython3",
   "version": "3.9.19"
  }
 },
 "nbformat": 4,
 "nbformat_minor": 5
}
