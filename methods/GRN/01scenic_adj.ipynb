{
 "cells": [
  {
   "cell_type": "code",
   "execution_count": 1,
   "id": "d2c206d6-5573-4ed8-afae-1a792c86ecf6",
   "metadata": {},
   "outputs": [],
   "source": [
    "import glob\n",
    "import pandas as pd\n",
    "import scanpy as sc\n",
    "\n",
    "import argparse\n",
    "import sys\n",
    "\n",
    "from arboreto.algo import grnboost2\n",
    "from distributed import LocalCluster, Client"
   ]
  },
  {
   "cell_type": "code",
   "execution_count": 2,
   "id": "a25b0ded-fb81-449d-bc8e-ba1b9e3452c7",
   "metadata": {},
   "outputs": [],
   "source": [
    "data_name = 'AdamsonWeissman2016_GSM2406677_2'\n",
    "data_name_lower = data_name.lower()"
   ]
  },
  {
   "cell_type": "code",
   "execution_count": 3,
   "id": "0f1378bc-7c7b-499d-9509-565443733f1b",
   "metadata": {},
   "outputs": [],
   "source": [
    "parser = argparse.ArgumentParser()\n",
    "split_dir =f'../{data_name_lower}/splits' ## Generate dataloader+splits first using GEARS dataloader\n",
    "split_id =1\n",
    "n_workers = 10\n",
    "adata_path='None'\n",
    "method='grnboost'\n",
    "adata = sc.read_h5ad(f\"../{data_name_lower}/perturb_processed.h5ad\")"
   ]
  },
  {
   "cell_type": "code",
   "execution_count": 4,
   "id": "970b7130-aa7d-48cf-8ded-49acd3fbbaa8",
   "metadata": {
    "scrolled": true
   },
   "outputs": [
    {
     "name": "stderr",
     "output_type": "stream",
     "text": [
      "distributed.diskutils - INFO - Found stale lock file and directory '/home/share/huadjyin/home/zhoumin3/zhoumin/benchmark_data/01A_total_re/07grn/01scenic_adj/dask-worker-space/worker-9oxr4qln', purging\n",
      "distributed.diskutils - INFO - Found stale lock file and directory '/home/share/huadjyin/home/zhoumin3/zhoumin/benchmark_data/01A_total_re/07grn/01scenic_adj/dask-worker-space/worker-v7gr0rf0', purging\n",
      "distributed.diskutils - INFO - Found stale lock file and directory '/home/share/huadjyin/home/zhoumin3/zhoumin/benchmark_data/01A_total_re/07grn/01scenic_adj/dask-worker-space/worker-21dj5rt4', purging\n",
      "distributed.diskutils - INFO - Found stale lock file and directory '/home/share/huadjyin/home/zhoumin3/zhoumin/benchmark_data/01A_total_re/07grn/01scenic_adj/dask-worker-space/worker-24rllqae', purging\n",
      "distributed.diskutils - INFO - Found stale lock file and directory '/home/share/huadjyin/home/zhoumin3/zhoumin/benchmark_data/01A_total_re/07grn/01scenic_adj/dask-worker-space/worker-qqe_3m4g', purging\n",
      "distributed.diskutils - INFO - Found stale lock file and directory '/home/share/huadjyin/home/zhoumin3/zhoumin/benchmark_data/01A_total_re/07grn/01scenic_adj/dask-worker-space/worker-qvniqmrr', purging\n",
      "distributed.diskutils - INFO - Found stale lock file and directory '/home/share/huadjyin/home/zhoumin3/zhoumin/benchmark_data/01A_total_re/07grn/01scenic_adj/dask-worker-space/worker-1152okoi', purging\n",
      "distributed.diskutils - INFO - Found stale lock file and directory '/home/share/huadjyin/home/zhoumin3/zhoumin/benchmark_data/01A_total_re/07grn/01scenic_adj/dask-worker-space/worker-wbcjt8j9', purging\n",
      "distributed.diskutils - INFO - Found stale lock file and directory '/home/share/huadjyin/home/zhoumin3/zhoumin/benchmark_data/01A_total_re/07grn/01scenic_adj/dask-worker-space/worker-ro_p9mfv', purging\n",
      "distributed.diskutils - INFO - Found stale lock file and directory '/home/share/huadjyin/home/zhoumin3/zhoumin/benchmark_data/01A_total_re/07grn/01scenic_adj/dask-worker-space/worker-0jslp_j6', purging\n",
      "distributed.diskutils - INFO - Found stale lock file and directory '/home/share/huadjyin/home/zhoumin3/zhoumin/benchmark_data/01A_total_re/07grn/01scenic_adj/dask-worker-space/worker-_mujuiku', purging\n",
      "distributed.diskutils - INFO - Found stale lock file and directory '/home/share/huadjyin/home/zhoumin3/zhoumin/benchmark_data/01A_total_re/07grn/01scenic_adj/dask-worker-space/worker-aglrjay7', purging\n",
      "distributed.diskutils - INFO - Found stale lock file and directory '/home/share/huadjyin/home/zhoumin3/zhoumin/benchmark_data/01A_total_re/07grn/01scenic_adj/dask-worker-space/worker-79gyjzhh', purging\n",
      "distributed.diskutils - INFO - Found stale lock file and directory '/home/share/huadjyin/home/zhoumin3/zhoumin/benchmark_data/01A_total_re/07grn/01scenic_adj/dask-worker-space/worker-boeg_8za', purging\n",
      "distributed.diskutils - INFO - Found stale lock file and directory '/home/share/huadjyin/home/zhoumin3/zhoumin/benchmark_data/01A_total_re/07grn/01scenic_adj/dask-worker-space/worker-bj47rd9x', purging\n",
      "distributed.diskutils - INFO - Found stale lock file and directory '/home/share/huadjyin/home/zhoumin3/zhoumin/benchmark_data/01A_total_re/07grn/01scenic_adj/dask-worker-space/worker-z2lo2jrk', purging\n",
      "distributed.diskutils - INFO - Found stale lock file and directory '/home/share/huadjyin/home/zhoumin3/zhoumin/benchmark_data/01A_total_re/07grn/01scenic_adj/dask-worker-space/worker-hp_wtcr4', purging\n"
     ]
    },
    {
     "name": "stdout",
     "output_type": "stream",
     "text": [
      "preparing dask client\n",
      "parsing input\n",
      "creating dask graph\n",
      "10 partitions\n",
      "computing dask graph\n",
      "not shutting down client, client was created externally\n",
      "finished\n"
     ]
    },
    {
     "name": "stderr",
     "output_type": "stream",
     "text": [
      "/home/share/huadjyin/home/zhoumin3/.conda/envs/pyscenic/lib/python3.7/site-packages/distributed/node.py:182: UserWarning: Port 8787 is already in use.\n",
      "Perhaps you already have a cluster running?\n",
      "Hosting the HTTP server on port 41483 instead\n",
      "  f\"Port {expected} is already in use.\\n\"\n"
     ]
    },
    {
     "name": "stdout",
     "output_type": "stream",
     "text": [
      "preparing dask client\n",
      "parsing input\n",
      "creating dask graph\n",
      "10 partitions\n",
      "computing dask graph\n",
      "not shutting down client, client was created externally\n",
      "finished\n"
     ]
    },
    {
     "name": "stderr",
     "output_type": "stream",
     "text": [
      "/home/share/huadjyin/home/zhoumin3/.conda/envs/pyscenic/lib/python3.7/site-packages/distributed/node.py:182: UserWarning: Port 8787 is already in use.\n",
      "Perhaps you already have a cluster running?\n",
      "Hosting the HTTP server on port 44689 instead\n",
      "  f\"Port {expected} is already in use.\\n\"\n"
     ]
    },
    {
     "name": "stdout",
     "output_type": "stream",
     "text": [
      "preparing dask client\n",
      "parsing input\n",
      "creating dask graph\n",
      "10 partitions\n",
      "computing dask graph\n",
      "not shutting down client, client was created externally\n",
      "finished\n"
     ]
    },
    {
     "name": "stderr",
     "output_type": "stream",
     "text": [
      "/home/share/huadjyin/home/zhoumin3/.conda/envs/pyscenic/lib/python3.7/site-packages/distributed/node.py:182: UserWarning: Port 8787 is already in use.\n",
      "Perhaps you already have a cluster running?\n",
      "Hosting the HTTP server on port 41213 instead\n",
      "  f\"Port {expected} is already in use.\\n\"\n"
     ]
    },
    {
     "name": "stdout",
     "output_type": "stream",
     "text": [
      "preparing dask client\n",
      "parsing input\n",
      "creating dask graph\n",
      "10 partitions\n",
      "computing dask graph\n",
      "not shutting down client, client was created externally\n",
      "finished\n"
     ]
    },
    {
     "name": "stderr",
     "output_type": "stream",
     "text": [
      "/home/share/huadjyin/home/zhoumin3/.conda/envs/pyscenic/lib/python3.7/site-packages/distributed/node.py:182: UserWarning: Port 8787 is already in use.\n",
      "Perhaps you already have a cluster running?\n",
      "Hosting the HTTP server on port 36135 instead\n",
      "  f\"Port {expected} is already in use.\\n\"\n"
     ]
    },
    {
     "name": "stdout",
     "output_type": "stream",
     "text": [
      "preparing dask client\n",
      "parsing input\n",
      "creating dask graph\n",
      "10 partitions\n",
      "computing dask graph\n",
      "not shutting down client, client was created externally\n",
      "finished\n"
     ]
    },
    {
     "name": "stderr",
     "output_type": "stream",
     "text": [
      "distributed.nanny - WARNING - Restarting worker\n",
      "distributed.nanny - WARNING - Restarting worker\n",
      "distributed.nanny - WARNING - Restarting worker\n",
      "distributed.nanny - WARNING - Restarting worker\n",
      "distributed.nanny - WARNING - Restarting worker\n",
      "distributed.nanny - WARNING - Restarting worker\n",
      "distributed.nanny - WARNING - Restarting worker\n",
      "distributed.nanny - WARNING - Restarting worker\n",
      "distributed.nanny - WARNING - Restarting worker\n",
      "distributed.nanny - WARNING - Restarting worker\n",
      "distributed.nanny - WARNING - Restarting worker\n",
      "distributed.nanny - WARNING - Restarting worker\n",
      "distributed.nanny - WARNING - Restarting worker\n",
      "distributed.nanny - WARNING - Restarting worker\n",
      "distributed.nanny - WARNING - Restarting worker\n",
      "distributed.nanny - WARNING - Restarting worker\n",
      "distributed.nanny - WARNING - Restarting worker\n",
      "distributed.nanny - WARNING - Restarting worker\n",
      "distributed.nanny - WARNING - Restarting worker\n",
      "distributed.nanny - WARNING - Restarting worker\n",
      "distributed.nanny - WARNING - Restarting worker\n",
      "distributed.nanny - WARNING - Restarting worker\n",
      "distributed.nanny - WARNING - Restarting worker\n",
      "distributed.nanny - WARNING - Restarting worker\n",
      "distributed.nanny - WARNING - Restarting worker\n",
      "distributed.nanny - WARNING - Restarting worker\n",
      "distributed.nanny - WARNING - Restarting worker\n",
      "distributed.nanny - WARNING - Restarting worker\n",
      "distributed.nanny - WARNING - Restarting worker\n",
      "distributed.nanny - WARNING - Restarting worker\n",
      "distributed.nanny - WARNING - Restarting worker\n",
      "distributed.nanny - WARNING - Restarting worker\n",
      "distributed.nanny - WARNING - Restarting worker\n",
      "distributed.nanny - WARNING - Restarting worker\n",
      "distributed.nanny - WARNING - Restarting worker\n"
     ]
    }
   ],
   "source": [
    "def get_split_adata(adata, split_dir, split_id):\n",
    "    split_files = [f for f in glob.glob(split_dir + '/*') if 'subgroup' not in f]\n",
    "    split_fname = [f for f in split_files if 'simulation_'+str(split_id) in f][0]\n",
    "    split_dict = pd.read_pickle(split_fname)\n",
    "    \n",
    "    return adata[adata.obs['condition'].isin(split_dict['train'])]\n",
    "    \n",
    "\n",
    "def get_grnboost_GRN(split_adata, n_workers):\n",
    "    TF_names = pd.read_csv('../TF_names_v_1.01.txt', delimiter='\\t', header=None)\n",
    "    TF_names = TF_names[0].values\n",
    "\n",
    "    all_conds = [c.split('+') for c in adata.obs['condition'].values ]\n",
    "    all_conds = [item for sublist in all_conds for item in sublist]\n",
    "    all_conds = set(all_conds)\n",
    "\n",
    "    aug_TF_names = list(TF_names) + list(all_conds)\n",
    "    \n",
    "    exp_matrix = split_adata.X.toarray()\n",
    "    gene_names = split_adata.var['gene_name'].values\n",
    "    \n",
    "    local_cluster = LocalCluster(n_workers=n_workers, \n",
    "                             threads_per_worker=1)\n",
    "    custom_client = Client(local_cluster)\n",
    "    adjacencies = grnboost2(exp_matrix, tf_names=aug_TF_names, \n",
    "                        verbose=True, gene_names=gene_names,\n",
    "                        client_or_address=custom_client)\n",
    "    \n",
    "    return adjacencies\n",
    "\n",
    "def save_split_GRN(adata, split_dir, split_id, n_workers):\n",
    "    \n",
    "    split_adata = get_split_adata(adata, split_dir, split_id)\n",
    "    \n",
    "    if method == 'grnboost':\n",
    "        adjacencies = get_grnboost_GRN(split_adata, n_workers)\n",
    "    \n",
    "    adjacencies.to_csv(f'{data_name_lower}_adjacencies_'+str(split_id)+'.csv')\n",
    "\n",
    "if __name__ == '__main__':\n",
    "    save_split_GRN(adata, split_dir, split_id, n_workers)\n",
    "\n",
    "    for split_id in range(2, 6):\n",
    "        save_split_GRN(adata, split_dir, split_id, n_workers)\n"
   ]
  },
  {
   "cell_type": "code",
   "execution_count": null,
   "id": "b457721c-72d2-4a37-9f2d-977a83503730",
   "metadata": {},
   "outputs": [],
   "source": []
  }
 ],
 "metadata": {
  "kernelspec": {
   "display_name": "pyscenic",
   "language": "python",
   "name": "pyscenic"
  },
  "language_info": {
   "codemirror_mode": {
    "name": "ipython",
    "version": 3
   },
   "file_extension": ".py",
   "mimetype": "text/x-python",
   "name": "python",
   "nbconvert_exporter": "python",
   "pygments_lexer": "ipython3",
   "version": "3.7.12"
  }
 },
 "nbformat": 4,
 "nbformat_minor": 5
}
