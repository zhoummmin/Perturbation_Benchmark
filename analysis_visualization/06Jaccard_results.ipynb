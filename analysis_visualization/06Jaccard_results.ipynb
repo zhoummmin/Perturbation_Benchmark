{
 "cells": [
  {
   "cell_type": "markdown",
   "id": "d462c897-6723-46e7-8989-8fa2387556da",
   "metadata": {},
   "source": [
    "# Norman"
   ]
  },
  {
   "cell_type": "markdown",
   "id": "da91ee13-c0f5-4971-913c-50cbe2889a2a",
   "metadata": {},
   "source": [
    "## gears"
   ]
  },
  {
   "cell_type": "code",
   "execution_count": 1,
   "id": "b0d70545-c54f-4059-8d28-2de405261a17",
   "metadata": {},
   "outputs": [],
   "source": [
    "import pandas as pd\n",
    "import numpy as np\n",
    "import pickle\n",
    "import seaborn as sns\n",
    "\n",
    "import matplotlib.pyplot as plt"
   ]
  },
  {
   "cell_type": "code",
   "execution_count": 2,
   "id": "dc57e881-200c-420c-943f-465cd8c88b86",
   "metadata": {},
   "outputs": [],
   "source": [
    "results = {}\n",
    "data_name = 'Norman'"
   ]
  },
  {
   "cell_type": "code",
   "execution_count": 3,
   "id": "446298da-00d2-432a-8b2e-2d412744d676",
   "metadata": {},
   "outputs": [],
   "source": [
    "p_vals = np.load('./results/p_values_norman_filter_0.01_gears.npy',allow_pickle=True).item()\n",
    "jaccards = np.load('./results/jaccards_norman_filter_0.01_gears.npy',allow_pickle=True).item()"
   ]
  },
  {
   "cell_type": "code",
   "execution_count": 4,
   "id": "1e6eab05-febf-4981-b63f-b77448a46ca8",
   "metadata": {},
   "outputs": [
    {
     "data": {
      "text/plain": [
       "dict_keys(['combo_seen0', 'combo_seen1', 'combo_seen2', 'unseen_single'])"
      ]
     },
     "execution_count": 4,
     "metadata": {},
     "output_type": "execute_result"
    }
   ],
   "source": [
    "jaccards[1].keys()"
   ]
  },
  {
   "cell_type": "code",
   "execution_count": 5,
   "id": "39ec174f-f72c-4639-a033-9a095798e969",
   "metadata": {},
   "outputs": [
    {
     "name": "stdout",
     "output_type": "stream",
     "text": [
      "combo_seen2\n",
      "[0.1772533300415747, 0.17872653442495348, 0.20063898207883443, 0.17511688102029335, 0.23405470754486585]\n",
      "combo_seen1\n",
      "[0.17258098243311307, 0.18311210261378022, 0.16400833677146015, 0.15759134828824764, 0.15920263577815572]\n",
      "combo_seen0\n",
      "[0.19035164723972106, 0.1614361887607318, 0.1665768448282831, 0.12894599554514474, 0.15041062458088278]\n",
      "unseen_single\n",
      "[0.1350708252549642, 0.12607190406677288, 0.09380936978393122, 0.09378480581652486, 0.10600844978613136]\n"
     ]
    }
   ],
   "source": [
    "def get_jaccards(split_key):\n",
    "    jaccards_list = []\n",
    "\n",
    "    for k in jaccards.keys():\n",
    "        jaccards_list.append(np.mean(jaccards[k][split_key]))\n",
    "        \n",
    "    return jaccards_list\n",
    "\n",
    "results['GEARS'] = {}\n",
    "\n",
    "results['GEARS']['2/2 Seen'] = get_jaccards('combo_seen2')\n",
    "print('combo_seen2')\n",
    "print(results['GEARS']['2/2 Seen'])\n",
    "\n",
    "results['GEARS']['1/2 Seen'] = get_jaccards('combo_seen1')\n",
    "print('combo_seen1')\n",
    "print(results['GEARS']['1/2 Seen'])\n",
    "\n",
    "results['GEARS']['0/2 Seen'] = get_jaccards('combo_seen0')\n",
    "print('combo_seen0')\n",
    "print(results['GEARS']['0/2 Seen'])\n",
    "\n",
    "results['GEARS']['unseen_single'] = get_jaccards('unseen_single')\n",
    "print('unseen_single')\n",
    "print(results['GEARS']['unseen_single'])"
   ]
  },
  {
   "cell_type": "markdown",
   "id": "e895bfed-431d-482a-891a-3daed0e93d5b",
   "metadata": {},
   "source": [
    "## cpa"
   ]
  },
  {
   "cell_type": "code",
   "execution_count": 6,
   "id": "7032680a-d9e7-401a-b411-ef088f27c65d",
   "metadata": {},
   "outputs": [],
   "source": [
    "p_vals = np.load('./results/p_values_norman_filter_0.01_cpa.npy',allow_pickle=True).item()\n",
    "jaccards = np.load('./results/jaccards_norman_filter_0.01_cpa.npy',allow_pickle=True).item()"
   ]
  },
  {
   "cell_type": "code",
   "execution_count": 7,
   "id": "8daca9ca-dc2e-453f-baf6-f886f3fcbecf",
   "metadata": {},
   "outputs": [
    {
     "name": "stdout",
     "output_type": "stream",
     "text": [
      "combo_seen2\n",
      "[0.134023402272491, 0.10776377039899522, 0.15074264974317944, 0.12164892143139767, 0.1540242780754732]\n",
      "combo_seen1\n",
      "[0.10704342177334787, 0.10930198550968846, 0.10844568008782954, 0.09351933739934083, 0.10077987706272051]\n",
      "combo_seen0\n",
      "[0.13272213768410024, 0.10260243249978943, 0.09455823882800161, 0.07818687985570956, 0.10066456003670934]\n",
      "unseen_single\n",
      "[0.09538184770968262, 0.08923550351133176, 0.07185978495440747, 0.059681945219394274, 0.07325386251245253]\n"
     ]
    }
   ],
   "source": [
    "def get_jaccards(split_key):\n",
    "    jaccards_list = []\n",
    "\n",
    "    for k in jaccards.keys():\n",
    "        jaccards_list.append(np.mean(jaccards[k][split_key]))\n",
    "        \n",
    "    return jaccards_list\n",
    "\n",
    "results['CPA'] = {}\n",
    "\n",
    "results['CPA']['2/2 Seen'] = get_jaccards('combo_seen2')\n",
    "print('combo_seen2')\n",
    "print(results['CPA']['2/2 Seen'])\n",
    "\n",
    "results['CPA']['1/2 Seen'] = get_jaccards('combo_seen1')\n",
    "print('combo_seen1')\n",
    "print(results['CPA']['1/2 Seen'])\n",
    "\n",
    "results['CPA']['0/2 Seen'] = get_jaccards('combo_seen0')\n",
    "print('combo_seen0')\n",
    "print(results['CPA']['0/2 Seen'])\n",
    "\n",
    "results['CPA']['unseen_single'] = get_jaccards('unseen_single')\n",
    "print('unseen_single')\n",
    "print(results['CPA']['unseen_single'])"
   ]
  },
  {
   "cell_type": "markdown",
   "id": "77d80661-d4e3-45d1-9eee-192a447cbb54",
   "metadata": {},
   "source": [
    "## grn"
   ]
  },
  {
   "cell_type": "code",
   "execution_count": 8,
   "id": "3223a8d8-96ec-4ab2-bc61-db859b842ecd",
   "metadata": {},
   "outputs": [],
   "source": [
    "p_vals = np.load('./results/p_values_norman_filter_0.01_grn.npy',allow_pickle=True).item()\n",
    "jaccards = np.load('./results/jaccards_norman_filter_0.01_grn.npy',allow_pickle=True).item()"
   ]
  },
  {
   "cell_type": "code",
   "execution_count": 9,
   "id": "f38c4ac4-f323-45a1-9bd5-e754407d49cc",
   "metadata": {},
   "outputs": [
    {
     "name": "stdout",
     "output_type": "stream",
     "text": [
      "combo_seen2\n",
      "[0.08020709693998401, 0.09180257896138488, 0.11261710344116055, 0.08229220257401322, 0.08960355923951968]\n",
      "combo_seen1\n",
      "[0.09746797907684197, 0.09918446442304882, 0.08705785339896903, 0.0830454989801287, 0.09886438460895038]\n",
      "combo_seen0\n",
      "[0.105967138432596, 0.09594668661491255, 0.0872638921175589, 0.0916562518938163, 0.13853901346943398]\n",
      "unseen_single\n",
      "[0.06933413791198483, 0.07600486541707138, 0.04633500026983452, 0.04259836581048287, 0.06032450700854998]\n"
     ]
    }
   ],
   "source": [
    "def get_jaccards(split_key):\n",
    "    jaccards_list = []\n",
    "\n",
    "    for k in jaccards.keys():\n",
    "        jaccards_list.append(np.mean(jaccards[k][split_key]))\n",
    "        \n",
    "    return jaccards_list\n",
    "\n",
    "results['GRN'] = {}\n",
    "\n",
    "results['GRN']['2/2 Seen'] = get_jaccards('combo_seen2')\n",
    "print('combo_seen2')\n",
    "print(results['GRN']['2/2 Seen'])\n",
    "\n",
    "results['GRN']['1/2 Seen'] = get_jaccards('combo_seen1')\n",
    "print('combo_seen1')\n",
    "print(results['GRN']['1/2 Seen'])\n",
    "\n",
    "results['GRN']['0/2 Seen'] = get_jaccards('combo_seen0')\n",
    "print('combo_seen0')\n",
    "print(results['GRN']['0/2 Seen'])\n",
    "\n",
    "results['GRN']['unseen_single'] = get_jaccards('unseen_single')\n",
    "print('unseen_single')\n",
    "print(results['GRN']['unseen_single'])"
   ]
  },
  {
   "cell_type": "markdown",
   "id": "71a2304e-5c86-4416-aa76-5a8193100524",
   "metadata": {},
   "source": [
    "## scgpt"
   ]
  },
  {
   "cell_type": "code",
   "execution_count": 10,
   "id": "c6caffa6-421a-4e9e-9daf-c3c83f18eb08",
   "metadata": {},
   "outputs": [],
   "source": [
    "p_vals = np.load('./results/p_values_norman_filter_0.01_scgpt.npy',allow_pickle=True).item()\n",
    "jaccards = np.load('./results/jaccards_norman_filter_0.01_scgpt.npy',allow_pickle=True).item()"
   ]
  },
  {
   "cell_type": "code",
   "execution_count": 11,
   "id": "5af65eaa-4cf8-4bd2-8e5c-bf4247698396",
   "metadata": {},
   "outputs": [
    {
     "name": "stdout",
     "output_type": "stream",
     "text": [
      "combo_seen2\n",
      "[0.13928466700182313, 0.16582459667031818, 0.050322287271613975, 0.12020678709881019, 0.11201795872124666]\n",
      "combo_seen1\n",
      "[0.10359110199257542, 0.14427196713174917, 0.05664884105940265, 0.11887693072535606, 0.10437579488839259]\n",
      "combo_seen0\n",
      "[0.0733444837064813, 0.09922765681800129, 0.04230769230769231, 0.08873510724191118, 0.08423510718056451]\n",
      "unseen_single\n",
      "[0.0590884634337777, 0.08126595762084776, 0.04403915388658973, 0.054923363077599305, 0.06677973790255878]\n"
     ]
    }
   ],
   "source": [
    "def get_jaccards(split_key):\n",
    "    jaccards_list = []\n",
    "\n",
    "    for k in jaccards.keys():\n",
    "        jaccards_list.append(np.mean(jaccards[k][split_key]))\n",
    "        \n",
    "    return jaccards_list\n",
    "\n",
    "results['scGPT'] = {}\n",
    "\n",
    "results['scGPT']['2/2 Seen'] = get_jaccards('combo_seen2')\n",
    "print('combo_seen2')\n",
    "print(results['scGPT']['2/2 Seen'])\n",
    "\n",
    "results['scGPT']['1/2 Seen'] = get_jaccards('combo_seen1')\n",
    "print('combo_seen1')\n",
    "print(results['scGPT']['1/2 Seen'])\n",
    "\n",
    "results['scGPT']['0/2 Seen'] = get_jaccards('combo_seen0')\n",
    "print('combo_seen0')\n",
    "print(results['scGPT']['0/2 Seen'])\n",
    "\n",
    "results['scGPT']['unseen_single'] = get_jaccards('unseen_single')\n",
    "print('unseen_single')\n",
    "print(results['scGPT']['unseen_single'])"
   ]
  },
  {
   "cell_type": "code",
   "execution_count": 12,
   "id": "3e4361ce-8118-40ad-b348-7bc26507b79b",
   "metadata": {},
   "outputs": [
    {
     "data": {
      "text/plain": [
       "dict_keys(['GEARS', 'CPA', 'GRN', 'scGPT'])"
      ]
     },
     "execution_count": 12,
     "metadata": {},
     "output_type": "execute_result"
    }
   ],
   "source": [
    "results.keys()"
   ]
  },
  {
   "cell_type": "code",
   "execution_count": 13,
   "id": "b07d0c36-f67c-47d9-9ab7-420e5f96ec79",
   "metadata": {},
   "outputs": [
    {
     "data": {
      "text/plain": [
       "dict_keys(['2/2 Seen', '1/2 Seen', '0/2 Seen', 'unseen_single'])"
      ]
     },
     "execution_count": 13,
     "metadata": {},
     "output_type": "execute_result"
    }
   ],
   "source": [
    "results['GEARS'].keys()"
   ]
  },
  {
   "cell_type": "code",
   "execution_count": 14,
   "id": "b106415e-0b5e-4913-8893-160845ed2fd6",
   "metadata": {},
   "outputs": [],
   "source": [
    "np.save('./results/results_jaccards', results)"
   ]
  },
  {
   "cell_type": "code",
   "execution_count": null,
   "id": "b775bfa1-dc12-41ca-b957-3b00f13c44bb",
   "metadata": {},
   "outputs": [],
   "source": []
  },
  {
   "cell_type": "markdown",
   "id": "f911b131-cd3a-41db-928c-bceb659b30f4",
   "metadata": {},
   "source": [
    "# Adamson"
   ]
  },
  {
   "cell_type": "markdown",
   "id": "f637e537-50b6-4139-a4fd-47621a6901a5",
   "metadata": {},
   "source": [
    "## gears"
   ]
  },
  {
   "cell_type": "code",
   "execution_count": 2,
   "id": "95b0f7d5-fb9c-4170-a362-74319fa259ec",
   "metadata": {},
   "outputs": [],
   "source": [
    "import pandas as pd\n",
    "import numpy as np\n",
    "import pickle\n",
    "import seaborn as sns\n",
    "\n",
    "import matplotlib.pyplot as plt"
   ]
  },
  {
   "cell_type": "code",
   "execution_count": 3,
   "id": "3f1e2b11-2aee-420f-85a1-c507e9081896",
   "metadata": {},
   "outputs": [],
   "source": [
    "results = {}\n",
    "data_name = 'adamson2'"
   ]
  },
  {
   "cell_type": "code",
   "execution_count": 4,
   "id": "e49eab5c-3a84-4c9c-a504-4a96c53e8151",
   "metadata": {},
   "outputs": [],
   "source": [
    "method = 'gears'\n",
    "p_vals = np.load(f'./results/p_values_{data_name}_filter_0.01_{method}.npy',allow_pickle=True).item()\n",
    "jaccards = np.load(f'./results/jaccards_{data_name}_filter_0.01_{method}.npy',allow_pickle=True).item()"
   ]
  },
  {
   "cell_type": "code",
   "execution_count": 5,
   "id": "171958ec-27ec-4e30-816c-80be429099db",
   "metadata": {},
   "outputs": [
    {
     "name": "stdout",
     "output_type": "stream",
     "text": [
      "combo_seen2\n",
      "[0.034117257369990064, 0.033920417482061316, nan, 0.108348134991119, 0.11949685534591195]\n",
      "combo_seen1\n",
      "[0.017290347418412455, 0.017124298600979644, 0.03115671380810497, 0.07346648838375397, 0.06046316538715746]\n",
      "combo_seen0\n",
      "[nan, nan, 0.005897771952817824, nan, nan]\n",
      "unseen_single\n",
      "[0.002124318220729351, 0.001958650823196825, 0.0023015603274474453, 0.008895905923344948, 0.002932551319648094]\n"
     ]
    },
    {
     "name": "stderr",
     "output_type": "stream",
     "text": [
      "/home/share/huadjyin/home/zhoumin3/.conda/envs/gears/lib/python3.9/site-packages/numpy/core/fromnumeric.py:3504: RuntimeWarning: Mean of empty slice.\n",
      "  return _methods._mean(a, axis=axis, dtype=dtype,\n",
      "/home/share/huadjyin/home/zhoumin3/.conda/envs/gears/lib/python3.9/site-packages/numpy/core/_methods.py:129: RuntimeWarning: invalid value encountered in scalar divide\n",
      "  ret = ret.dtype.type(ret / rcount)\n"
     ]
    }
   ],
   "source": [
    "def get_jaccards(split_key):\n",
    "    jaccards_list = []\n",
    "\n",
    "    for k in jaccards.keys():\n",
    "        jaccards_list.append(np.mean(jaccards[k][split_key]))\n",
    "        \n",
    "    return jaccards_list\n",
    "\n",
    "results['GEARS'] = {}\n",
    "\n",
    "results['GEARS']['2/2 Seen'] = get_jaccards('combo_seen2')\n",
    "print('combo_seen2')\n",
    "print(results['GEARS']['2/2 Seen'])\n",
    "\n",
    "results['GEARS']['1/2 Seen'] = get_jaccards('combo_seen1')\n",
    "print('combo_seen1')\n",
    "print(results['GEARS']['1/2 Seen'])\n",
    "\n",
    "results['GEARS']['0/2 Seen'] = get_jaccards('combo_seen0')\n",
    "print('combo_seen0')\n",
    "print(results['GEARS']['0/2 Seen'])\n",
    "\n",
    "results['GEARS']['unseen_single'] = get_jaccards('unseen_single')\n",
    "print('unseen_single')\n",
    "print(results['GEARS']['unseen_single'])"
   ]
  },
  {
   "cell_type": "markdown",
   "id": "8f2d5a3f-8036-49cf-9070-14ee6ecdfe5f",
   "metadata": {},
   "source": [
    "## cpa"
   ]
  },
  {
   "cell_type": "code",
   "execution_count": 6,
   "id": "0dfc3384-4f57-4427-bded-80e76da1c286",
   "metadata": {},
   "outputs": [],
   "source": [
    "method = 'cpa'\n",
    "p_vals = np.load(f'./results/p_values_{data_name}_filter_0.01_{method}.npy',allow_pickle=True).item()\n",
    "jaccards = np.load(f'./results/jaccards_{data_name}_filter_0.01_{method}.npy',allow_pickle=True).item()"
   ]
  },
  {
   "cell_type": "code",
   "execution_count": 7,
   "id": "3d386fab-ac5c-4027-bce9-b9f4feef556c",
   "metadata": {},
   "outputs": [
    {
     "name": "stdout",
     "output_type": "stream",
     "text": [
      "combo_seen2\n",
      "[0.1797752808988764, 0.04430379746835443, nan, 0.12582781456953643, 0.12582781456953643]\n",
      "combo_seen1\n",
      "[0.08207152936068599, 0.026508388644324206, 0.14727229880994464, 0.08624421555456038, 0.08624421555456038]\n",
      "combo_seen0\n",
      "[nan, nan, 0.0, nan, nan]\n",
      "unseen_single\n",
      "[0.007785025524673851, 0.00641025641025641, 0.002325581395348837, 0.004484304932735426, 0.0]\n"
     ]
    }
   ],
   "source": [
    "results['CPA'] = {}\n",
    "\n",
    "results['CPA']['2/2 Seen'] = get_jaccards('combo_seen2')\n",
    "print('combo_seen2')\n",
    "print(results['CPA']['2/2 Seen'])\n",
    "\n",
    "results['CPA']['1/2 Seen'] = get_jaccards('combo_seen1')\n",
    "print('combo_seen1')\n",
    "print(results['CPA']['1/2 Seen'])\n",
    "\n",
    "results['CPA']['0/2 Seen'] = get_jaccards('combo_seen0')\n",
    "print('combo_seen0')\n",
    "print(results['CPA']['0/2 Seen'])\n",
    "\n",
    "results['CPA']['unseen_single'] = get_jaccards('unseen_single')\n",
    "print('unseen_single')\n",
    "print(results['CPA']['unseen_single'])"
   ]
  },
  {
   "cell_type": "markdown",
   "id": "60638ddd-fd6d-46a4-976b-a877fa75691b",
   "metadata": {},
   "source": [
    "## grn"
   ]
  },
  {
   "cell_type": "code",
   "execution_count": 8,
   "id": "ea1979f2-912d-495e-8a23-1bcb3effb677",
   "metadata": {},
   "outputs": [],
   "source": [
    "method = 'grn'\n",
    "p_vals = np.load(f'./results/p_values_{data_name}_filter_0.01_{method}.npy',allow_pickle=True).item()\n",
    "jaccards = np.load(f'./results/jaccards_{data_name}_filter_0.01_{method}.npy',allow_pickle=True).item()"
   ]
  },
  {
   "cell_type": "code",
   "execution_count": 9,
   "id": "c53ebd3e-3cf1-4fa3-bd5e-e00f4ee9b715",
   "metadata": {},
   "outputs": [
    {
     "name": "stdout",
     "output_type": "stream",
     "text": [
      "combo_seen2\n",
      "[0.019230769230769232, 0.019230769230769232, nan, 0.023529411764705882, 0.023529411764705882]\n",
      "combo_seen1\n",
      "[0.0642594859241126, 0.0642594859241126, 0.021243291592128802, 0.06526429341963322, 0.06526429341963322]\n",
      "combo_seen0\n",
      "[nan, nan, 0.1111111111111111, nan, nan]\n",
      "unseen_single\n",
      "[0.05, 0.05, 0.14583333333333331, 0.08333333333333333, 0.08333333333333333]\n"
     ]
    }
   ],
   "source": [
    "results['GRN'] = {}\n",
    "\n",
    "results['GRN']['2/2 Seen'] = get_jaccards('combo_seen2')\n",
    "print('combo_seen2')\n",
    "print(results['GRN']['2/2 Seen'])\n",
    "\n",
    "results['GRN']['1/2 Seen'] = get_jaccards('combo_seen1')\n",
    "print('combo_seen1')\n",
    "print(results['GRN']['1/2 Seen'])\n",
    "\n",
    "results['GRN']['0/2 Seen'] = get_jaccards('combo_seen0')\n",
    "print('combo_seen0')\n",
    "print(results['GRN']['0/2 Seen'])\n",
    "\n",
    "results['GRN']['unseen_single'] = get_jaccards('unseen_single')\n",
    "print('unseen_single')\n",
    "print(results['GRN']['unseen_single'])"
   ]
  },
  {
   "cell_type": "markdown",
   "id": "b0341515-8c99-4230-a5fa-c827af2c44fc",
   "metadata": {},
   "source": [
    "## scgpt"
   ]
  },
  {
   "cell_type": "code",
   "execution_count": 10,
   "id": "ac81e8af-7c27-4b29-8f45-24ccb329dcef",
   "metadata": {},
   "outputs": [],
   "source": [
    "method = 'scgpt'\n",
    "p_vals = np.load(f'./results/p_values_{data_name}_filter_0.01_{method}.npy',allow_pickle=True).item()\n",
    "jaccards = np.load(f'./results/jaccards_{data_name}_filter_0.01_{method}.npy',allow_pickle=True).item()"
   ]
  },
  {
   "cell_type": "code",
   "execution_count": 11,
   "id": "aa6c4db4-4745-4d8e-aa5e-18432092188c",
   "metadata": {},
   "outputs": [
    {
     "name": "stdout",
     "output_type": "stream",
     "text": [
      "combo_seen2\n",
      "[0.062146892655367235, 0.05384615384615385, nan, 0.049136786188579015, 0.06532663316582915]\n",
      "combo_seen1\n",
      "[0.03056803230343451, 0.01253616200578592, 0.1509608277900961, 0.0371951593507389, 0.06442577030812324]\n",
      "combo_seen0\n",
      "[nan, nan, 0.0, nan, nan]\n",
      "unseen_single\n",
      "[0.007168733098627481, 0.016777175005023105, 0.015625, 0.008464890000390763, 0.009009009009009009]\n"
     ]
    }
   ],
   "source": [
    "\n",
    "results['scGPT'] = {}\n",
    "\n",
    "results['scGPT']['2/2 Seen'] = get_jaccards('combo_seen2')\n",
    "print('combo_seen2')\n",
    "print(results['scGPT']['2/2 Seen'])\n",
    "\n",
    "results['scGPT']['1/2 Seen'] = get_jaccards('combo_seen1')\n",
    "print('combo_seen1')\n",
    "print(results['scGPT']['1/2 Seen'])\n",
    "\n",
    "results['scGPT']['0/2 Seen'] = get_jaccards('combo_seen0')\n",
    "print('combo_seen0')\n",
    "print(results['scGPT']['0/2 Seen'])\n",
    "\n",
    "results['scGPT']['unseen_single'] = get_jaccards('unseen_single')\n",
    "print('unseen_single')\n",
    "print(results['scGPT']['unseen_single'])"
   ]
  },
  {
   "cell_type": "code",
   "execution_count": 14,
   "id": "03c47f37-1cd7-4523-a09b-27b930dae215",
   "metadata": {
    "scrolled": true
   },
   "outputs": [
    {
     "data": {
      "text/plain": [
       "dict_keys(['2/2 Seen', '1/2 Seen', '0/2 Seen', 'unseen_single'])"
      ]
     },
     "execution_count": 14,
     "metadata": {},
     "output_type": "execute_result"
    }
   ],
   "source": [
    "results['GEARS'].keys()"
   ]
  },
  {
   "cell_type": "code",
   "execution_count": 15,
   "id": "3ad5f87e-bedc-4ebc-9a87-f1f62db34581",
   "metadata": {},
   "outputs": [],
   "source": [
    "np.save('./results/adamson2_results_jaccards', results)"
   ]
  },
  {
   "cell_type": "code",
   "execution_count": null,
   "id": "621d4842-432a-4aa9-866e-4685ccd823af",
   "metadata": {},
   "outputs": [],
   "source": []
  },
  {
   "cell_type": "markdown",
   "id": "b2b0aca4-fbf8-4416-8e90-250cddf0eefb",
   "metadata": {},
   "source": [
    "## scFoundation"
   ]
  },
  {
   "cell_type": "code",
   "execution_count": 2,
   "id": "4fa42574-96f1-4d1d-8c88-2c9577b33476",
   "metadata": {},
   "outputs": [],
   "source": [
    "#method = 'scfoundation'\n",
    "import numpy as np\n",
    "p_vals = np.load(f'./Dataset_pp/results/p_values_norman_filter_0.01_scfoundation_pp.npy',allow_pickle=True).item()\n",
    "jaccards = np.load(f'./Dataset_pp/results/jaccards_norman_filter_0.01_scfoundation_pp.npy',allow_pickle=True).item()"
   ]
  },
  {
   "cell_type": "code",
   "execution_count": 3,
   "id": "cf0b86ac-4443-4ace-a59c-de96efd4ccdd",
   "metadata": {},
   "outputs": [],
   "source": [
    "def get_jaccards(split_key):\n",
    "    jaccards_list = []\n",
    "\n",
    "    for k in jaccards.keys():\n",
    "        jaccards_list.append(np.mean(jaccards[k][split_key]))\n",
    "        \n",
    "    return jaccards_list"
   ]
  },
  {
   "cell_type": "code",
   "execution_count": 5,
   "id": "4a56f947-f93a-44c6-b19f-d63531f89cc0",
   "metadata": {},
   "outputs": [
    {
     "name": "stdout",
     "output_type": "stream",
     "text": [
      "combo_seen2\n",
      "[0.10782369890927089, 0.10517979482058289, 0.09414252412441053, 0.09347989864142389, 0.11653271478164487]\n",
      "combo_seen1\n",
      "[0.1044443224470183, 0.08903595457678841, 0.10437079240278828, 0.099165463702482, 0.09629755604803775]\n",
      "combo_seen0\n",
      "[0.09424318745643692, 0.10664608483080582, 0.11136839348672649, 0.0616412382202947, 0.13609986091451154]\n",
      "unseen_single\n",
      "[0.06819953810705576, 0.05661402632679729, 0.06344704539278508, 0.0415754701918936, 0.05925972393306918]\n"
     ]
    }
   ],
   "source": [
    "results = {}\n",
    "results['scGPT'] = {}\n",
    "\n",
    "results['scGPT']['2/2 Seen'] = get_jaccards('combo_seen2')\n",
    "print('combo_seen2')\n",
    "print(results['scGPT']['2/2 Seen'])\n",
    "\n",
    "results['scGPT']['1/2 Seen'] = get_jaccards('combo_seen1')\n",
    "print('combo_seen1')\n",
    "print(results['scGPT']['1/2 Seen'])\n",
    "\n",
    "results['scGPT']['0/2 Seen'] = get_jaccards('combo_seen0')\n",
    "print('combo_seen0')\n",
    "print(results['scGPT']['0/2 Seen'])\n",
    "\n",
    "results['scGPT']['unseen_single'] = get_jaccards('unseen_single')\n",
    "print('unseen_single')\n",
    "print(results['scGPT']['unseen_single'])"
   ]
  },
  {
   "cell_type": "code",
   "execution_count": 24,
   "id": "9a9cb5c7-2771-48d1-9595-3bcefc9a4997",
   "metadata": {
    "scrolled": true
   },
   "outputs": [],
   "source": [
    "df1 = pd.DataFrame(results['GEARS'])\n",
    "df1 = df1.melt()\n",
    "df1['Model'] = 'GEARS'\n",
    "\n",
    "df2 = pd.DataFrame(results['CPA'])\n",
    "df2 = df2.melt()\n",
    "df2['Model'] = 'CPA'\n",
    "\n",
    "df3 = pd.DataFrame(results['GRN'])\n",
    "df3 = df3.melt()\n",
    "df3['Model'] = 'GRN'\n",
    "\n",
    "df4 = pd.DataFrame(results['scGPT'])\n",
    "df4 = df4.melt()\n",
    "df4['Model'] = 'scGPT'"
   ]
  },
  {
   "cell_type": "code",
   "execution_count": 25,
   "id": "69bdecea-3995-4715-b6c2-44ad2a57a84d",
   "metadata": {},
   "outputs": [],
   "source": [
    "plot_df = pd.concat([df1, df2, df3, df4], ignore_index=True)\n",
    "plot_df = plot_df.rename(columns={'value':'Jaccard similarity', 'variable':'category'})"
   ]
  },
  {
   "cell_type": "code",
   "execution_count": 27,
   "id": "26bb3832-8a26-4452-8dba-08d4100e42ac",
   "metadata": {},
   "outputs": [],
   "source": [
    "plot_df['Jaccard similarity'] = plot_df['Jaccard similarity'].fillna(0)"
   ]
  },
  {
   "cell_type": "code",
   "execution_count": 30,
   "id": "df6b0e9c-315c-47a1-8124-8b425e669767",
   "metadata": {},
   "outputs": [],
   "source": [
    "color_pal = {\n",
    "    'GRN': (0.9058823529411765, 0.5411764705882353, 0.7647058823529411),\n",
    "    'CPA': (0.4, 0.7607843137254902, 0.6470588235294118),\n",
    "    'GEARS': (0.9882352941176471, 0.5529411764705883, 0.3843137254901961),\n",
    "    'scGPT': (0.5, 0.5, 0.5)  \n",
    "}"
   ]
  },
  {
   "cell_type": "code",
   "execution_count": null,
   "id": "27bb0f1d-af57-42e6-8b99-663fb2a1dc58",
   "metadata": {},
   "outputs": [],
   "source": []
  }
 ],
 "metadata": {
  "kernelspec": {
   "display_name": "gears",
   "language": "python",
   "name": "gears"
  },
  "language_info": {
   "codemirror_mode": {
    "name": "ipython",
    "version": 3
   },
   "file_extension": ".py",
   "mimetype": "text/x-python",
   "name": "python",
   "nbconvert_exporter": "python",
   "pygments_lexer": "ipython3",
   "version": "3.9.19"
  }
 },
 "nbformat": 4,
 "nbformat_minor": 5
}
