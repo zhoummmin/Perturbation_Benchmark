{
 "cells": [
  {
   "cell_type": "code",
   "execution_count": 1,
   "id": "5dad66b2-7ad7-4742-b024-f91a60244d6c",
   "metadata": {},
   "outputs": [],
   "source": [
    "from collections import defaultdict\n",
    "import numpy as np\n",
    "import os\n",
    "import sys\n",
    "import scanpy as sc\n",
    "import pandas as pd\n",
    "from collections import defaultdict\n",
    "import numpy as np"
   ]
  },
  {
   "cell_type": "code",
   "execution_count": 2,
   "id": "8ad206ec-4db0-43c4-ad53-d3f22bb5d526",
   "metadata": {},
   "outputs": [],
   "source": [
    "def get_mean_control(adata):\n",
    "\n",
    "    mean_ctrl_exp = adata[adata.obs['condition'] == 'ctrl'].to_df().mean()\n",
    "    return mean_ctrl_exp\n",
    "\n",
    "def subtract_ctrl_mean(preds_avg, adata):\n",
    " \n",
    "    mean_ctrl_exp = get_mean_control(adata)\n",
    " \n",
    "    adjusted_preds_avg = {}\n",
    "    \n",
    "    for key in preds_avg.keys():\n",
    "        expr_values = preds_avg[key]        \n",
    "        adjusted_expr_values = [expr - mean_ctrl_exp[gene] for expr, gene in zip(expr_values, adata.var_names)]\n",
    "        \n",
    "        adjusted_preds_avg[key] = adjusted_expr_values\n",
    "    \n",
    "    return adjusted_preds_avg\n",
    "    \n",
    "def calculate_avg_expression_truth(res):\n",
    "    sums_counts = defaultdict(lambda: [0, 0])\n",
    "    \n",
    "    for i, cell in enumerate(res['pert_cat']):\n",
    "        if sums_counts[cell][1] == 0:\n",
    "            sums_counts[cell][0] = np.array(res['truth'][i])\n",
    "        else:\n",
    "            sums_counts[cell][0] += np.array(res['truth'][i])\n",
    "        sums_counts[cell][1] += 1\n",
    "    \n",
    "    preds_avg = {}\n",
    "    \n",
    "    for cell, (total, count) in sums_counts.items():\n",
    "        preds_avg[cell] = (total / count).tolist()\n",
    "    \n",
    "    return preds_avg\n",
    "    \n",
    "def calculate_avg_expression_pred(res):\n",
    "    sums_counts = defaultdict(lambda: [0, 0])\n",
    "    \n",
    "    for i, cell in enumerate(res['pert_cat']):\n",
    "        if sums_counts[cell][1] == 0:\n",
    "            sums_counts[cell][0] = np.array(res['pred'][i])\n",
    "        else:\n",
    "            sums_counts[cell][0] += np.array(res['pred'][i])\n",
    "        sums_counts[cell][1] += 1\n",
    "    \n",
    "    preds_avg = {}\n",
    "    \n",
    "    for cell, (total, count) in sums_counts.items():\n",
    "        preds_avg[cell] = (total / count).tolist()\n",
    "    \n",
    "    return preds_avg\n",
    "\n"
   ]
  },
  {
   "cell_type": "code",
   "execution_count": 3,
   "id": "2c5cf9f6-c8b3-43a2-93b4-5577d88356b5",
   "metadata": {},
   "outputs": [],
   "source": [
    "def subset_preds_pp(subset_preds, combo):\n",
    "    ptn12_ctrl = subset_preds[f'{combo[0]}+ctrl']\n",
    "    cbl_ctrl = subset_preds[f'{combo[1]}+ctrl']\n",
    "    naive_values = [x + y for x, y in zip(ptn12_ctrl, cbl_ctrl)]\n",
    "    subset_preds['Naive'] = naive_values\n",
    "    cbl_ptpn12 = subset_preds[f'{combo[0]}+{combo[1]}']\n",
    "    naive = subset_preds['Naive']\n",
    "\n",
    "    abs_diff = [np.abs(x - y) for x, y in zip(cbl_ptpn12, naive)]\n",
    "    \n",
    "    subset_preds['abs_diff'] = abs_diff\n",
    "    \n",
    "    abs_diff = subset_preds['abs_diff']\n",
    "    \n",
    "    sorted_indices = np.argsort(abs_diff)\n",
    "    \n",
    "    descending_indices = sorted_indices[::-1]\n",
    "    \n",
    "    diff_rank = np.zeros_like(descending_indices) + len(descending_indices)\n",
    "    diff_rank[descending_indices] = np.arange(1, len(descending_indices) + 1)\n",
    "    \n",
    "    subset_preds['diff_rank'] = diff_rank.tolist()\n",
    "    \n",
    "    subset_preds['index'] = list(range(0, len(diff_rank)))\n",
    "    \n",
    "    return subset_preds\n",
    "\n",
    "def subset_preds(subset_preds):\n",
    "    diff_rank = subset_preds['diff_rank']\n",
    "    top_20_indices = np.argsort(diff_rank)[:20]\n",
    "    subsetted_preds = {}\n",
    "\n",
    "    for key in subset_preds.keys():\n",
    "        subsetted_preds[key] = [subset_preds[key][index] for index in top_20_indices]\n",
    "\n",
    "    return subsetted_preds"
   ]
  },
  {
   "cell_type": "markdown",
   "id": "0bc54bb1-de65-4871-896d-6c5c481b6a57",
   "metadata": {},
   "source": [
    "## data"
   ]
  },
  {
   "cell_type": "code",
   "execution_count": 4,
   "id": "1b422376-975f-4df2-9e5a-7c243e2af157",
   "metadata": {},
   "outputs": [],
   "source": [
    "import pickle\n",
    "with open('/home/share/huadjyin/home/zhoumin3/zhoumin/benchmark_data/01A_total_re/03final/normanweissman2019/splits/normanweissman2019_simulation_1_0.75_subgroup.pkl', 'rb') as f:\n",
    "     split1_subgroup = pickle.load(f)"
   ]
  },
  {
   "cell_type": "code",
   "execution_count": 5,
   "id": "45d205cc-ed1d-4db0-8f72-9b0a37b260fe",
   "metadata": {},
   "outputs": [],
   "source": [
    "with open('/home/share/huadjyin/home/zhoumin3/zhoumin/model_benchmark/01_A_results/NormanWeissman2019/gears/split1/NormanWeissman2019_split1_test_res.pkl', 'rb') as f:\n",
    "     res = pickle.load(f)"
   ]
  },
  {
   "cell_type": "code",
   "execution_count": 6,
   "id": "3b9d2f8f-8450-4b39-b96c-5f0e72ab31c5",
   "metadata": {},
   "outputs": [],
   "source": [
    "import scanpy as sc\n",
    "adata = sc.read_h5ad('/home/share/huadjyin/home/zhoumin3/zhoumin/benchmark_data/01A_total_re/03final/normanweissman2019/perturb_processed.h5ad')"
   ]
  },
  {
   "cell_type": "markdown",
   "id": "230b0832-cc9e-42b8-b097-b9607765e95d",
   "metadata": {},
   "source": [
    "### truth"
   ]
  },
  {
   "cell_type": "code",
   "execution_count": 45,
   "id": "5598cc62-9c5e-42bb-bfe3-71c25aa4e3dd",
   "metadata": {},
   "outputs": [],
   "source": [
    "# delta\n",
    "truth_avg = calculate_avg_expression_truth(res)\n",
    "truth_avg = subtract_ctrl_mean(truth_avg, adata)"
   ]
  },
  {
   "cell_type": "code",
   "execution_count": 46,
   "id": "d8653eb1-b34e-465b-bba1-624a7af19a3b",
   "metadata": {},
   "outputs": [],
   "source": [
    "combo = ['CBL', 'PTPN12']\n",
    "keys_to_keep = {f'{combo[0]}+ctrl', f'{combo[1]}+ctrl', f'{combo[0]}+{combo[1]}'}\n",
    "subset_truth = {key: truth_avg[key] for key in keys_to_keep if key in truth_avg}"
   ]
  },
  {
   "cell_type": "code",
   "execution_count": 47,
   "id": "dfd7849b-4865-46ff-8b92-6eaca1a8b85d",
   "metadata": {},
   "outputs": [],
   "source": [
    "subset_truth_processed = subset_preds_pp(subset_truth, combo)"
   ]
  },
  {
   "cell_type": "code",
   "execution_count": 48,
   "id": "c4bcb6d0-d3ba-4e9f-a0c6-e4c97705f876",
   "metadata": {},
   "outputs": [
    {
     "data": {
      "text/plain": [
       "dict_keys(['CBL+PTPN12', 'CBL+ctrl', 'PTPN12+ctrl', 'Naive', 'abs_diff', 'diff_rank', 'index'])"
      ]
     },
     "execution_count": 48,
     "metadata": {},
     "output_type": "execute_result"
    }
   ],
   "source": [
    "subset_truth_processed.keys()"
   ]
  },
  {
   "cell_type": "code",
   "execution_count": 49,
   "id": "c3bcee08-f1ec-4895-afb2-52788eb14c64",
   "metadata": {},
   "outputs": [],
   "source": [
    "#add gene_name\n",
    "subset_truth_processed['gene_name'] = adata.var['gene_name'].tolist()"
   ]
  },
  {
   "cell_type": "code",
   "execution_count": 50,
   "id": "2c6fecee-7a97-498e-9a71-fbe2fb16336a",
   "metadata": {},
   "outputs": [],
   "source": [
    "subset_truth_processed = subset_preds(subset_truth_processed)"
   ]
  },
  {
   "cell_type": "markdown",
   "id": "ec24b589-3c9d-4fdf-ae7a-d0c601073f46",
   "metadata": {},
   "source": [
    "### pred"
   ]
  },
  {
   "cell_type": "code",
   "execution_count": 51,
   "id": "9af59d4c-f1f5-41c2-8a74-a7cc5f849bcd",
   "metadata": {},
   "outputs": [],
   "source": [
    "truth_pred = subset_truth_processed"
   ]
  },
  {
   "cell_type": "code",
   "execution_count": 52,
   "id": "80cac01c-32eb-4d47-8d9f-cc9b2f27f266",
   "metadata": {},
   "outputs": [],
   "source": [
    "pred_avg = calculate_avg_expression_pred(res)\n",
    "pred_avg = subtract_ctrl_mean(pred_avg, adata)"
   ]
  },
  {
   "cell_type": "code",
   "execution_count": 53,
   "id": "fbc107a7-6d3e-449c-9c3c-4cad04bb0a1b",
   "metadata": {},
   "outputs": [],
   "source": [
    "truth_pred['CBL+PTPN12_p'] = pred_avg['CBL+PTPN12']"
   ]
  },
  {
   "cell_type": "code",
   "execution_count": 54,
   "id": "e42aa608-8491-4fa8-950b-d55004558e7e",
   "metadata": {},
   "outputs": [
    {
     "data": {
      "text/plain": [
       "dict_keys(['CBL+PTPN12', 'CBL+ctrl', 'PTPN12+ctrl', 'Naive', 'abs_diff', 'diff_rank', 'index', 'gene_name', 'CBL+PTPN12_p'])"
      ]
     },
     "execution_count": 54,
     "metadata": {},
     "output_type": "execute_result"
    }
   ],
   "source": [
    "truth_pred.keys()"
   ]
  },
  {
   "cell_type": "code",
   "execution_count": 55,
   "id": "3e34ea01-bccc-4c04-8a36-fdc7c25a0c14",
   "metadata": {},
   "outputs": [],
   "source": [
    "truth_pred_20 =  subset_preds(truth_pred)"
   ]
  },
  {
   "cell_type": "code",
   "execution_count": 56,
   "id": "635cd007-fd1e-4eff-b987-75bd59187e72",
   "metadata": {},
   "outputs": [
    {
     "data": {
      "text/plain": [
       "dict_keys(['CBL+PTPN12', 'CBL+ctrl', 'PTPN12+ctrl', 'Naive', 'abs_diff', 'diff_rank', 'index', 'gene_name', 'CBL+PTPN12_p'])"
      ]
     },
     "execution_count": 56,
     "metadata": {},
     "output_type": "execute_result"
    }
   ],
   "source": [
    "truth_pred_20.keys()"
   ]
  },
  {
   "cell_type": "code",
   "execution_count": 95,
   "id": "d0e26920-e000-402a-8111-bec326cec134",
   "metadata": {
    "scrolled": true
   },
   "outputs": [
    {
     "data": {
      "text/plain": [
       "{'CBL+PTPN12': [0.5592501536011696,\n",
       "  0.416536808013916,\n",
       "  0.9357820153236389,\n",
       "  0.917165607213974,\n",
       "  0.7560104131698608,\n",
       "  -0.2701316177845001,\n",
       "  1.2825572490692139,\n",
       "  0.8081920146942139,\n",
       "  -0.4057002663612366,\n",
       "  -0.5600814968347549,\n",
       "  -0.012369513511657715,\n",
       "  0.4044220447540283,\n",
       "  0.35859426856040955,\n",
       "  0.018280386924743652,\n",
       "  0.8034462332725525,\n",
       "  0.3428364396095276,\n",
       "  0.8359328508377075,\n",
       "  -0.06716972589492798,\n",
       "  -0.206298828125,\n",
       "  -0.22855722904205322],\n",
       " 'CBL+ctrl': [0.07270268350839615,\n",
       "  0.9072510004043579,\n",
       "  0.2619195580482483,\n",
       "  0.34826937317848206,\n",
       "  0.21902143955230713,\n",
       "  0.12879401445388794,\n",
       "  0.5642321109771729,\n",
       "  0.3291623592376709,\n",
       "  -0.07589304447174072,\n",
       "  -0.39467325806617737,\n",
       "  0.18758392333984375,\n",
       "  0.12069070339202881,\n",
       "  0.08970889449119568,\n",
       "  0.02955937385559082,\n",
       "  0.2680312991142273,\n",
       "  0.06865668296813965,\n",
       "  0.25530409812927246,\n",
       "  0.07212424278259277,\n",
       "  -0.18888092041015625,\n",
       "  -0.18153870105743408],\n",
       " 'PTPN12+ctrl': [0.05861476808786392,\n",
       "  -0.07010841369628906,\n",
       "  0.29121196269989014,\n",
       "  0.21051666140556335,\n",
       "  0.18495357036590576,\n",
       "  -0.10433155298233032,\n",
       "  0.43614649772644043,\n",
       "  0.2087724208831787,\n",
       "  -0.0705365538597107,\n",
       "  -0.40338194370269775,\n",
       "  0.027681708335876465,\n",
       "  0.061807990074157715,\n",
       "  0.0666222870349884,\n",
       "  0.18264123797416687,\n",
       "  0.343991219997406,\n",
       "  0.08726972341537476,\n",
       "  0.4034918546676636,\n",
       "  0.03783649206161499,\n",
       "  -0.19220852851867676,\n",
       "  -0.2202244997024536],\n",
       " 'Naive': [0.13131745159626007,\n",
       "  0.8371425867080688,\n",
       "  0.5531315207481384,\n",
       "  0.5587860345840454,\n",
       "  0.4039750099182129,\n",
       "  0.024462461471557617,\n",
       "  1.0003786087036133,\n",
       "  0.5379347801208496,\n",
       "  -0.14642959833145142,\n",
       "  -0.7980552017688751,\n",
       "  0.21526563167572021,\n",
       "  0.18249869346618652,\n",
       "  0.15633118152618408,\n",
       "  0.2122006118297577,\n",
       "  0.6120225191116333,\n",
       "  0.1559264063835144,\n",
       "  0.658795952796936,\n",
       "  0.10996073484420776,\n",
       "  -0.381089448928833,\n",
       "  -0.4017632007598877],\n",
       " 'abs_diff': [0.4279327020049095,\n",
       "  0.42060577869415283,\n",
       "  0.3826504945755005,\n",
       "  0.3583795726299286,\n",
       "  0.35203540325164795,\n",
       "  0.29459407925605774,\n",
       "  0.2821786403656006,\n",
       "  0.27025723457336426,\n",
       "  0.25927066802978516,\n",
       "  0.23797370493412018,\n",
       "  0.22763514518737793,\n",
       "  0.2219233512878418,\n",
       "  0.20226308703422546,\n",
       "  0.19392022490501404,\n",
       "  0.1914237141609192,\n",
       "  0.18691003322601318,\n",
       "  0.17713689804077148,\n",
       "  0.17713046073913574,\n",
       "  0.174790620803833,\n",
       "  0.17320597171783447],\n",
       " 'diff_rank': [1,\n",
       "  2,\n",
       "  3,\n",
       "  4,\n",
       "  5,\n",
       "  6,\n",
       "  7,\n",
       "  8,\n",
       "  9,\n",
       "  10,\n",
       "  11,\n",
       "  12,\n",
       "  13,\n",
       "  14,\n",
       "  15,\n",
       "  16,\n",
       "  17,\n",
       "  18,\n",
       "  19,\n",
       "  20],\n",
       " 'index': [3754,\n",
       "  2086,\n",
       "  3755,\n",
       "  2139,\n",
       "  1291,\n",
       "  2462,\n",
       "  2621,\n",
       "  2620,\n",
       "  2067,\n",
       "  4511,\n",
       "  4660,\n",
       "  1292,\n",
       "  1289,\n",
       "  681,\n",
       "  2258,\n",
       "  2031,\n",
       "  4702,\n",
       "  382,\n",
       "  3569,\n",
       "  4840],\n",
       " 'gene_name': ['HBA2',\n",
       "  'CD99',\n",
       "  'HBA1',\n",
       "  'ALAS2',\n",
       "  'GYPB',\n",
       "  'CTSL',\n",
       "  'HBG2',\n",
       "  'HBG1',\n",
       "  'KCNH2',\n",
       "  'PRSS57',\n",
       "  'AC079466.1',\n",
       "  'GYPA',\n",
       "  'GYPE',\n",
       "  'FAM178B',\n",
       "  'SLC25A37',\n",
       "  'ZC3HAV1',\n",
       "  'BLVRB',\n",
       "  'MPZL1',\n",
       "  'HSP90AA1',\n",
       "  'UFD1L'],\n",
       " 'CBL+PTPN12_p': [0.009213012177497149,\n",
       "  0.05668184161186218,\n",
       "  0.027937925420701504,\n",
       "  0.0890244860202074,\n",
       "  0.002034027362242341,\n",
       "  0.03814661502838135,\n",
       "  0.0432683527469635,\n",
       "  0.22427856872673146,\n",
       "  0.004470755244255997,\n",
       "  0.005790451425127685,\n",
       "  0.005668674173648469,\n",
       "  0.005422615518909879,\n",
       "  0.062043577432632446,\n",
       "  0.008867096999892965,\n",
       "  -0.00014446678687818348,\n",
       "  0.0036539908032864332,\n",
       "  0.043955673929303885,\n",
       "  0.02214227756485343,\n",
       "  0.009195690392516553,\n",
       "  0.03103533200919628]}"
      ]
     },
     "execution_count": 95,
     "metadata": {},
     "output_type": "execute_result"
    }
   ],
   "source": [
    "truth_pred_20"
   ]
  },
  {
   "cell_type": "code",
   "execution_count": null,
   "id": "5c8971eb-2b77-470a-b487-d1dc02b4097b",
   "metadata": {},
   "outputs": [],
   "source": []
  },
  {
   "cell_type": "markdown",
   "id": "c3f20a52-4eb7-496f-8a3f-4c9efb90791b",
   "metadata": {},
   "source": [
    "## GIs_Error_bar"
   ]
  },
  {
   "cell_type": "code",
   "execution_count": 67,
   "id": "5eecd86d-c950-4a27-a325-bd934c35beb7",
   "metadata": {},
   "outputs": [],
   "source": [
    "def calculate_delta_expression(adata, gene_indices, combo):\n",
    "    # ctrl\n",
    "    control_vals = adata[adata.obs['condition'] == 'ctrl'][:, gene_indices].X.toarray()\n",
    "    control_vec = control_vals.mean(axis=0)\n",
    "\n",
    "    differential_expression = {}\n",
    "\n",
    "    # condition\n",
    "    conditions = {\n",
    "        combo[0]: f\"{combo[0]}+ctrl\",\n",
    "        combo[1]: f\"{combo[1]}+ctrl\",\n",
    "        '+'.join(combo): f\"{combo[0]}+{combo[1]}\"\n",
    "    }\n",
    "\n",
    "    # DEGs\n",
    "    for condition, label in conditions.items():\n",
    "        vals = adata[adata.obs['condition'] == label][:, gene_indices].X.toarray()\n",
    "        diff = vals - control_vec\n",
    "        differential_expression[condition] = diff\n",
    "\n",
    "    return differential_expression\n"
   ]
  },
  {
   "cell_type": "code",
   "execution_count": 80,
   "id": "57e6c99b-ef4d-4f93-805b-285c3e8a225d",
   "metadata": {},
   "outputs": [],
   "source": [
    "import scipy\n",
    "import statsmodels.api as sm\n",
    "import numpy as np\n",
    "from scipy import stats\n",
    "import numpy as np\n",
    "from scipy.sparse import csr_matrix\n",
    "from sklearn.utils import resample\n",
    "\n",
    "def mean_confidence_interval(data, confidence=0.95):\n",
    "    a = 1.0 * np.array(data)\n",
    "    n = len(a)\n",
    "    m, se = np.mean(a), stats.sem(a)\n",
    "    h = se * stats.t.ppf((1 + confidence) / 2., n-1)\n",
    "    return m, m-h, m+h\n",
    "def calculate_p_ctrl_vec(adata, num_samples=300, num_reps=100):\n",
    "\n",
    "    np.random.seed(42)\n",
    "    ctrl_adata = adata[adata.obs['condition'] == 'ctrl']\n",
    "    if isinstance(ctrl_adata.X, csr_matrix):\n",
    "\n",
    "        ctrl_data_dense = ctrl_adata.X.A\n",
    "    else:\n",
    "        ctrl_data_dense = ctrl_adata.X\n",
    "\n",
    "    p_ctrl_list = []\n",
    "\n",
    "    for _ in range(num_reps):\n",
    " \n",
    "        sample = resample(ctrl_data_dense, n_samples=num_samples, random_state=np.random.randint(0, 1000))\n",
    "        mean_sample = np.mean(sample, axis=0)\n",
    "        p_ctrl_list.append(mean_sample)\n",
    "\n",
    "    p_ctrl = np.array(p_ctrl_list)\n",
    "    p_ctrl_vec = p_ctrl.mean(0)\n",
    "    return p_ctrl_vec\n"
   ]
  },
  {
   "cell_type": "code",
   "execution_count": 74,
   "id": "2b51097e-e130-4084-ad0b-a0b6ecdbd648",
   "metadata": {},
   "outputs": [],
   "source": [
    "def calculate_confidence_intervals(delta_exp):\n",
    "\n",
    "    confidence_intervals = {}\n",
    "    for condition, data in delta_exp.items():\n",
    "        ci_list = []\n",
    "        for col in range(data.shape[1]):\n",
    "            column_data = data[:, col]\n",
    "            mean, lower_bound, upper_bound = mean_confidence_interval(column_data)\n",
    "            ci_list.append((mean, lower_bound, upper_bound))\n",
    "        confidence_intervals[condition] = ci_list\n",
    "    \n",
    "    return confidence_intervals"
   ]
  },
  {
   "cell_type": "code",
   "execution_count": 66,
   "id": "70353d57-b433-48dd-adfd-076f4cc40392",
   "metadata": {},
   "outputs": [],
   "source": [
    "combo = ['CBL', 'PTPN12']\n",
    "gene_indices = truth_pred_20['index']"
   ]
  },
  {
   "cell_type": "code",
   "execution_count": 68,
   "id": "463854d0-1842-4c4f-a67b-b7c0577ec424",
   "metadata": {},
   "outputs": [],
   "source": [
    "delta_exp = calculate_delta_expression(adata, gene_indices, combo)"
   ]
  },
  {
   "cell_type": "code",
   "execution_count": 73,
   "id": "12e6391c-4614-47c3-985b-d7b42d212349",
   "metadata": {
    "scrolled": true
   },
   "outputs": [
    {
     "data": {
      "text/plain": [
       "{'CBL': array([[-0.0703242 ,  0.07580388,  0.5402542 , ...,  0.4888112 ,\n",
       "          0.20078707,  0.09040797],\n",
       "        [ 0.495473  ,  1.9054011 , -0.33267742, ..., -0.07384676,\n",
       "         -0.17737079, -0.3661145 ],\n",
       "        [-0.0703242 ,  1.183451  , -0.33267742, ...,  0.14600354,\n",
       "         -0.2960949 ,  0.4689349 ],\n",
       "        ...,\n",
       "        [-0.0703242 ,  0.4343233 , -0.33267742, ..., -0.02126181,\n",
       "          0.4499054 ,  0.10911715],\n",
       "        [-0.0703242 ,  0.87593734, -0.33267742, ..., -0.63964397,\n",
       "         -0.3089974 ,  0.22018719],\n",
       "        [-0.0703242 ,  0.846462  , -0.33267742, ...,  0.42276162,\n",
       "          1.1750953 ,  0.88004124]], dtype=float32),\n",
       " 'PTPN12': array([[-0.0703242 ,  0.05867279, -0.33267742, ...,  0.4716801 ,\n",
       "         -0.83700216, -1.554736  ],\n",
       "        [ 0.43300918, -0.5493179 , -0.33267742, ...,  0.19693345,\n",
       "         -0.78570724, -1.0514026 ],\n",
       "        [-0.0703242 , -1.0526513 , -0.33267742, ...,  0.13930917,\n",
       "          0.10743761,  0.67035544],\n",
       "        ...,\n",
       "        [-0.0703242 , -1.0526513 , -0.33267742, ..., -0.63964397,\n",
       "          0.44813013,  0.370682  ],\n",
       "        [ 0.6109542 ,  0.5377284 ,  0.34860098, ...,  0.44311184,\n",
       "          0.6842439 , -0.4719802 ],\n",
       "        [-0.0703242 ,  0.09930372, -0.33267742, ...,  0.09377462,\n",
       "          0.03014803,  0.11837995]], dtype=float32),\n",
       " 'CBL+PTPN12': array([[-0.0703242 ,  0.67848694,  0.32453978, ...,  0.01757324,\n",
       "         -0.35408425,  0.17640221],\n",
       "        [ 0.68543833,  0.12860608,  0.84857994, ..., -0.63964397,\n",
       "          0.35927773,  0.33930504],\n",
       "        [ 1.6043375 ,  0.62201035,  2.3071632 , ..., -0.63964397,\n",
       "         -0.5629244 , -0.40147936],\n",
       "        ...,\n",
       "        [-0.0703242 , -0.39398396,  0.7196924 , ...,  0.41272587,\n",
       "         -0.10250592, -1.554736  ],\n",
       "        [-0.0703242 ,  0.37592328,  0.80360454, ...,  0.08188766,\n",
       "         -0.58311176,  0.9816085 ],\n",
       "        [-0.0703242 ,  0.24252498,  0.30065596, ...,  0.6555323 ,\n",
       "          0.04874754, -0.53669786]], dtype=float32)}"
      ]
     },
     "execution_count": 73,
     "metadata": {},
     "output_type": "execute_result"
    }
   ],
   "source": [
    "delta_exp"
   ]
  },
  {
   "cell_type": "code",
   "execution_count": 92,
   "id": "3d95de35-d5f2-4b6d-813d-3b08365b0faf",
   "metadata": {},
   "outputs": [],
   "source": [
    "error_bar = calculate_confidence_intervals(delta_exp)"
   ]
  },
  {
   "cell_type": "code",
   "execution_count": 93,
   "id": "cce52d0f-c7a0-433c-8229-6d5ccbbfa2f8",
   "metadata": {
    "scrolled": true
   },
   "outputs": [
    {
     "data": {
      "text/plain": [
       "{'CBL': [(0.0727027, 0.04777931004818419, 0.09762608677093049),\n",
       "  (0.9072521, 0.8572623104764034, 0.9572418360995243),\n",
       "  (0.2619194, 0.21600289071950235, 0.30783592735377036),\n",
       "  (0.34826937, 0.29806413804966986, 0.39847460830729425),\n",
       "  (0.21902102, 0.1682932890467431, 0.26974875559284434),\n",
       "  (0.12879378, 0.08119038210195213, 0.17639716996866556),\n",
       "  (0.5642312, 0.4951438540620688, 0.6333185797529337),\n",
       "  (0.3291617, 0.26581593067701337, 0.39250747649614337),\n",
       "  (-0.07589319, -0.12038950956916594, -0.03139687739753938),\n",
       "  (-0.39467323, -0.4326822005380657, -0.35666425598964424),\n",
       "  (0.18758395, 0.1375447904218736, 0.23762311586245868),\n",
       "  (0.12069116, 0.07953708431858275, 0.1618452314363077),\n",
       "  (0.08970877, 0.04857770650851131, 0.13083982915413975),\n",
       "  (0.029559432, -0.00312758372683275, 0.06224644692201364),\n",
       "  (0.26803127, 0.22025754778996248, 0.31580499083384733),\n",
       "  (0.06865675, 0.02830305777703792, 0.10901044226969211),\n",
       "  (0.25530317, 0.20496981144316903, 0.3056365370713879),\n",
       "  (0.072124235, 0.032635187340698035, 0.11161328332332632),\n",
       "  (-0.18888012, -0.2307325620529786, -0.14702766944192497),\n",
       "  (-0.18153846, -0.22433579506070586, -0.1387411302170041)],\n",
       " 'PTPN12': [(0.058614783, 0.027505574755598464, 0.08972399122245177),\n",
       "  (-0.070108026, -0.12076944799342051, -0.019446604538775523),\n",
       "  (0.29121202, 0.2318011059058571, 0.35062293870321276),\n",
       "  (0.21051654, 0.15718812081575573, 0.2638449635767919),\n",
       "  (0.1849535, 0.12095834971017343, 0.24894864201002614),\n",
       "  (-0.10433167, -0.15738645397866727, -0.05127689040457248),\n",
       "  (0.43614787, 0.355896153165985, 0.5163995841005555),\n",
       "  (0.20877229, 0.13037297066682063, 0.2871716028786353),\n",
       "  (-0.07053643, -0.1261162032862502, -0.014956651113430891),\n",
       "  (-0.40338188, -0.4484233906827316, -0.35834037751337433),\n",
       "  (0.027681934, -0.028421893643497592, 0.08378576107537664),\n",
       "  (0.061807584, 0.005546245361226734, 0.11806892267380363),\n",
       "  (0.06662229, 0.016909157152534812, 0.116335416917442),\n",
       "  (0.18264125, 0.13480788744089447, 0.23047461830976165),\n",
       "  (0.34399125, 0.2883698652540825, 0.3996126343453743),\n",
       "  (0.08726998, 0.03485136698391375, 0.13968858648631635),\n",
       "  (0.4034919, 0.33987640163023053, 0.46710742691438617),\n",
       "  (0.037836637, -0.011544898704001168, 0.08721817339987442),\n",
       "  (-0.1922087, -0.24312209640661975, -0.14129531825860242),\n",
       "  (-0.2202247, -0.27814928260359134, -0.16230010423150693)],\n",
       " 'CBL+PTPN12': [(0.55925024, 0.47735084552537155, 0.6411496255897408),\n",
       "  (0.41653728, 0.3462138631463066, 0.48686070655584185),\n",
       "  (0.9357819, 0.8370853474186443, 1.0344784448100546),\n",
       "  (0.91716576, 0.827041311857011, 1.0072902005941609),\n",
       "  (0.75600994, 0.6754622662385152, 0.83655760642689),\n",
       "  (-0.27013165, -0.32523423884747976, -0.21502905632616526),\n",
       "  (1.2825593, 1.1763241549225416, 1.3887943963317309),\n",
       "  (0.80819166, 0.7081079739526771, 0.9082753401800133),\n",
       "  (-0.40570018, -0.46783252263326985, -0.34356783127526896),\n",
       "  (-0.56008154, -0.6065047558874774, -0.5136583271889996),\n",
       "  (-0.012369676, -0.08077141664827621, 0.05603206552470481),\n",
       "  (0.40442225, 0.33663854823644823, 0.47220595850412184),\n",
       "  (0.3585944, 0.2894958861483845, 0.4276928893910137),\n",
       "  (0.018280353, -0.028769447737898565, 0.0653301545321605),\n",
       "  (0.8034463, 0.7235891356502787, 0.8833034501041158),\n",
       "  (0.3428368, 0.2765464434882523, 0.4091271509865402),\n",
       "  (0.8359332, 0.7575999857502281, 0.9142664311809242),\n",
       "  (-0.067169696, -0.1260656573219378, -0.008273734863273367),\n",
       "  (-0.20629956, -0.2676459817975756, -0.1449531347662214),\n",
       "  (-0.22855717, -0.2923685956267384, -0.1647457432480785)]}"
      ]
     },
     "execution_count": 93,
     "metadata": {},
     "output_type": "execute_result"
    }
   ],
   "source": [
    "error_bar"
   ]
  },
  {
   "cell_type": "markdown",
   "id": "749e0d46-4b44-468a-aabd-715469da862c",
   "metadata": {},
   "source": [
    "#### p_ctrl_data"
   ]
  },
  {
   "cell_type": "code",
   "execution_count": 87,
   "id": "7eab7f75-0fd5-45fc-a59c-cb274e2b69c6",
   "metadata": {},
   "outputs": [],
   "source": [
    "p_ctrl_vec = calculate_p_ctrl_vec(adata)\n",
    "p_ctrl_vec = p_ctrl_vec[:, gene_indices]"
   ]
  },
  {
   "cell_type": "code",
   "execution_count": 88,
   "id": "82d6d30c-ee2d-45a9-b04c-bd5ff8a96730",
   "metadata": {},
   "outputs": [],
   "source": [
    "indices = np.where(res['pert_cat'] == 'CBL+PTPN12')[0]\n",
    "pred_CBL_PTPN12 = res['pred'][indices, :]"
   ]
  },
  {
   "cell_type": "code",
   "execution_count": 89,
   "id": "58f20dff-70b9-4080-905a-57bab97452ec",
   "metadata": {},
   "outputs": [],
   "source": [
    "p_pred_CBL_PTPN12 = pred_CBL_PTPN12[:, gene_indices]\n",
    "p_CBL_PTPN12 = p_pred_CBL_PTPN12 - p_ctrl_vec"
   ]
  },
  {
   "cell_type": "code",
   "execution_count": 90,
   "id": "4353ffac-081e-4f3f-8928-253cb4e53d07",
   "metadata": {},
   "outputs": [],
   "source": [
    "CBL_PTPN12_p = []\n",
    "for col in range(p_CBL_PTPN12.shape[1]):\n",
    "    column_data = p_CBL_PTPN12[:, col]\n",
    "    mean, lower_bound, upper_bound = mean_confidence_interval(column_data)\n",
    "    CBL_PTPN12_p.append((mean, lower_bound, upper_bound))"
   ]
  },
  {
   "cell_type": "code",
   "execution_count": 106,
   "id": "9ab2b2c8-a700-4c25-9455-025d48521ae6",
   "metadata": {},
   "outputs": [
    {
     "data": {
      "text/plain": [
       "[(0.2984241, 0.2737979453214698, 0.32305024450931025),\n",
       " (-0.119589694, -0.17786802945509483, -0.061311358233541946),\n",
       " (0.2479058, 0.20032195805267278, 0.2954896533612829),\n",
       " (0.46178576, 0.41378262720096937, 0.5097888998032726),\n",
       " (0.38551825, 0.3128754970759141, 0.4581610086232436),\n",
       " (-0.051144995, -0.11591844265889538, 0.013628453068250543),\n",
       " (0.3473718, 0.24779004821354783, 0.44695352545207107),\n",
       " (0.25798362, 0.1785153055940385, 0.3374519442762618),\n",
       " (-0.20398858, -0.26455208133441344, -0.14342508245724306),\n",
       " (-0.19246545, -0.2530344138693852, -0.131896494810577),\n",
       " (0.0736198, 0.012231890856496522, 0.13500770479513008),\n",
       " (0.17038612, 0.11128237155511725, 0.2294898697988714),\n",
       " (0.14534332, 0.09308535852720248, 0.19760127863595975),\n",
       " (-0.04346157, -0.08720629077815142, 0.00028315347098437776),\n",
       " (0.11858929, 0.05677770594271413, 0.18040087303010233),\n",
       " (0.08594741, 0.028670454317599715, 0.1432243642267881),\n",
       " (0.09841772, 0.035665043509803374, 0.16117039986769144),\n",
       " (-0.06472984, -0.12086771368047555, -0.00859196544626395),\n",
       " (-0.26680863, -0.32844410645043226, -0.20517315162146715),\n",
       " (-0.26479068, -0.3236844876509287, -0.2058968803185842)]"
      ]
     },
     "execution_count": 106,
     "metadata": {},
     "output_type": "execute_result"
    }
   ],
   "source": [
    "CBL_PTPN12_p"
   ]
  },
  {
   "cell_type": "code",
   "execution_count": 94,
   "id": "4e7edaf9-6ee7-461b-83b4-8debf9c06b27",
   "metadata": {},
   "outputs": [],
   "source": [
    "error_bar['CBL_PTPN12_p'] = CBL_PTPN12_p"
   ]
  },
  {
   "cell_type": "code",
   "execution_count": 122,
   "id": "053804bd-83ed-4fd8-85fb-6c570dcdb6eb",
   "metadata": {
    "scrolled": true
   },
   "outputs": [
    {
     "data": {
      "text/plain": [
       "dict_keys(['CBL+PTPN12', 'CBL_PTPN12_p', 'CBL+ctrl', 'PTPN12+ctrl'])"
      ]
     },
     "execution_count": 122,
     "metadata": {},
     "output_type": "execute_result"
    }
   ],
   "source": [
    "error_bar.keys()"
   ]
  },
  {
   "cell_type": "code",
   "execution_count": 121,
   "id": "7bf0b1e8-e227-495b-8882-a5fe2d4683a1",
   "metadata": {},
   "outputs": [],
   "source": [
    "error_bar['CBL+ctrl'] = error_bar.pop('CBL')\n",
    "error_bar['PTPN12+ctrl'] = error_bar.pop('PTPN12')"
   ]
  },
  {
   "cell_type": "markdown",
   "id": "2b51090b-2baf-4403-9613-1dc0c4c76713",
   "metadata": {},
   "source": [
    "# Plot"
   ]
  },
  {
   "cell_type": "code",
   "execution_count": 99,
   "id": "0c450732-9810-4e8e-8b94-f9f4daa3695d",
   "metadata": {},
   "outputs": [
    {
     "data": {
      "text/plain": [
       "dict_keys(['CBL+PTPN12', 'CBL+ctrl', 'PTPN12+ctrl', 'Naive', 'abs_diff', 'diff_rank', 'index', 'gene_name', 'CBL+PTPN12_p'])"
      ]
     },
     "execution_count": 99,
     "metadata": {},
     "output_type": "execute_result"
    }
   ],
   "source": [
    "truth_pred_20.keys()"
   ]
  },
  {
   "cell_type": "code",
   "execution_count": 108,
   "id": "f7f3017a-3da0-422f-9451-9b4948fa831f",
   "metadata": {},
   "outputs": [],
   "source": [
    "row_names = ['CBL+ctrl', 'PTPN12+ctrl', 'CBL+PTPN12', 'Naive', 'CBL+PTPN12_p']\n",
    "column_names = truth_pred_20['gene_name'][:10]\n",
    "plot_df = pd.DataFrame(index=row_names, columns=column_names)\n",
    "\n",
    "plot_df.loc['CBL+ctrl'] = truth_pred_20['CBL+ctrl'][:10]\n",
    "plot_df.loc['PTPN12+ctrl'] = truth_pred_20['PTPN12+ctrl'][:10]\n",
    "plot_df.loc['CBL+PTPN12'] = truth_pred_20['CBL+PTPN12'][:10]\n",
    "plot_df.loc['Naive'] = truth_pred_20['Naive'][:10]\n",
    "plot_df.loc['CBL+PTPN12_p'] = truth_pred_20['CBL+PTPN12_p'][:10]"
   ]
  },
  {
   "cell_type": "code",
   "execution_count": 118,
   "id": "c60a68b2-6557-4480-9b7b-593d9581e104",
   "metadata": {},
   "outputs": [
    {
     "data": {
      "text/html": [
       "<div>\n",
       "<style scoped>\n",
       "    .dataframe tbody tr th:only-of-type {\n",
       "        vertical-align: middle;\n",
       "    }\n",
       "\n",
       "    .dataframe tbody tr th {\n",
       "        vertical-align: top;\n",
       "    }\n",
       "\n",
       "    .dataframe thead th {\n",
       "        text-align: right;\n",
       "    }\n",
       "</style>\n",
       "<table border=\"1\" class=\"dataframe\">\n",
       "  <thead>\n",
       "    <tr style=\"text-align: right;\">\n",
       "      <th></th>\n",
       "      <th>HBA2</th>\n",
       "      <th>CD99</th>\n",
       "      <th>HBA1</th>\n",
       "      <th>ALAS2</th>\n",
       "      <th>GYPB</th>\n",
       "      <th>CTSL</th>\n",
       "      <th>HBG2</th>\n",
       "      <th>HBG1</th>\n",
       "      <th>KCNH2</th>\n",
       "      <th>PRSS57</th>\n",
       "    </tr>\n",
       "  </thead>\n",
       "  <tbody>\n",
       "    <tr>\n",
       "      <th>CBL+ctrl</th>\n",
       "      <td>0.072703</td>\n",
       "      <td>0.907251</td>\n",
       "      <td>0.26192</td>\n",
       "      <td>0.348269</td>\n",
       "      <td>0.219021</td>\n",
       "      <td>0.128794</td>\n",
       "      <td>0.564232</td>\n",
       "      <td>0.329162</td>\n",
       "      <td>-0.075893</td>\n",
       "      <td>-0.394673</td>\n",
       "    </tr>\n",
       "    <tr>\n",
       "      <th>PTPN12+ctrl</th>\n",
       "      <td>0.058615</td>\n",
       "      <td>-0.070108</td>\n",
       "      <td>0.291212</td>\n",
       "      <td>0.210517</td>\n",
       "      <td>0.184954</td>\n",
       "      <td>-0.104332</td>\n",
       "      <td>0.436146</td>\n",
       "      <td>0.208772</td>\n",
       "      <td>-0.070537</td>\n",
       "      <td>-0.403382</td>\n",
       "    </tr>\n",
       "    <tr>\n",
       "      <th>CBL+PTPN12</th>\n",
       "      <td>0.55925</td>\n",
       "      <td>0.416537</td>\n",
       "      <td>0.935782</td>\n",
       "      <td>0.917166</td>\n",
       "      <td>0.75601</td>\n",
       "      <td>-0.270132</td>\n",
       "      <td>1.282557</td>\n",
       "      <td>0.808192</td>\n",
       "      <td>-0.4057</td>\n",
       "      <td>-0.560081</td>\n",
       "    </tr>\n",
       "    <tr>\n",
       "      <th>Naive</th>\n",
       "      <td>0.131317</td>\n",
       "      <td>0.837143</td>\n",
       "      <td>0.553132</td>\n",
       "      <td>0.558786</td>\n",
       "      <td>0.403975</td>\n",
       "      <td>0.024462</td>\n",
       "      <td>1.000379</td>\n",
       "      <td>0.537935</td>\n",
       "      <td>-0.14643</td>\n",
       "      <td>-0.798055</td>\n",
       "    </tr>\n",
       "    <tr>\n",
       "      <th>CBL+PTPN12_p</th>\n",
       "      <td>0.298424</td>\n",
       "      <td>-0.11959</td>\n",
       "      <td>0.247906</td>\n",
       "      <td>0.461786</td>\n",
       "      <td>0.385518</td>\n",
       "      <td>-0.051145</td>\n",
       "      <td>0.347372</td>\n",
       "      <td>0.257984</td>\n",
       "      <td>-0.203989</td>\n",
       "      <td>-0.192465</td>\n",
       "    </tr>\n",
       "  </tbody>\n",
       "</table>\n",
       "</div>"
      ],
      "text/plain": [
       "                  HBA2      CD99      HBA1     ALAS2      GYPB      CTSL  \\\n",
       "CBL+ctrl      0.072703  0.907251   0.26192  0.348269  0.219021  0.128794   \n",
       "PTPN12+ctrl   0.058615 -0.070108  0.291212  0.210517  0.184954 -0.104332   \n",
       "CBL+PTPN12     0.55925  0.416537  0.935782  0.917166   0.75601 -0.270132   \n",
       "Naive         0.131317  0.837143  0.553132  0.558786  0.403975  0.024462   \n",
       "CBL+PTPN12_p  0.298424  -0.11959  0.247906  0.461786  0.385518 -0.051145   \n",
       "\n",
       "                  HBG2      HBG1     KCNH2    PRSS57  \n",
       "CBL+ctrl      0.564232  0.329162 -0.075893 -0.394673  \n",
       "PTPN12+ctrl   0.436146  0.208772 -0.070537 -0.403382  \n",
       "CBL+PTPN12    1.282557  0.808192   -0.4057 -0.560081  \n",
       "Naive         1.000379  0.537935  -0.14643 -0.798055  \n",
       "CBL+PTPN12_p  0.347372  0.257984 -0.203989 -0.192465  "
      ]
     },
     "execution_count": 118,
     "metadata": {},
     "output_type": "execute_result"
    }
   ],
   "source": [
    "plot_df"
   ]
  },
  {
   "cell_type": "code",
   "execution_count": 116,
   "id": "ba5f5613-5681-474a-bc29-d3ff055f9a3c",
   "metadata": {},
   "outputs": [],
   "source": [
    "first_values = [t[0] for t in CBL_PTPN12_p[:10]]\n",
    "plot_df.loc['CBL+PTPN12_p'] = first_values\n",
    "plot_df.loc['Naive'] = plot_df.loc['CBL+ctrl'] + plot_df.loc['PTPN12+ctrl']"
   ]
  },
  {
   "cell_type": "code",
   "execution_count": 125,
   "id": "6691740b-bce8-4ff0-b9c4-abc52837e34c",
   "metadata": {},
   "outputs": [],
   "source": [
    "subset_error_bar = {key: value[:10] for key, value in error_bar.items()}"
   ]
  },
  {
   "cell_type": "code",
   "execution_count": 130,
   "id": "72166107-9a1e-457b-8db3-ff28ed818fc7",
   "metadata": {},
   "outputs": [],
   "source": [
    "subset_error_bar['CBL+PTPN12_p'] = subset_error_bar.pop('CBL_PTPN12_p')"
   ]
  }
 ],
 "metadata": {
  "kernelspec": {
   "display_name": "gears",
   "language": "python",
   "name": "gears"
  },
  "language_info": {
   "codemirror_mode": {
    "name": "ipython",
    "version": 3
   },
   "file_extension": ".py",
   "mimetype": "text/x-python",
   "name": "python",
   "nbconvert_exporter": "python",
   "pygments_lexer": "ipython3",
   "version": "3.9.19"
  }
 },
 "nbformat": 4,
 "nbformat_minor": 5
}
