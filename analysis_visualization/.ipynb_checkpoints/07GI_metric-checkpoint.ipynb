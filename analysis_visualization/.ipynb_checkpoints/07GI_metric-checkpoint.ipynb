{
 "cells": [
  {
   "cell_type": "markdown",
   "id": "de5bb454-e3c4-4e37-9616-e88a591ddfa2",
   "metadata": {},
   "source": [
    "# GI_pert_seen2"
   ]
  },
  {
   "cell_type": "code",
   "execution_count": 1,
   "id": "68541701-8b46-43bc-acf6-221705758a5a",
   "metadata": {},
   "outputs": [],
   "source": [
    "import os\n",
    "import sys\n",
    "import pickle\n",
    "from collections import defaultdict\n",
    "import numpy as np\n",
    "import pandas as pd\n",
    "from sklearn.linear_model import LinearRegression, TheilSenRegressor\n",
    "from dcor import distance_correlation, partial_distance_correlation"
   ]
  },
  {
   "cell_type": "code",
   "execution_count": 2,
   "id": "b5ae146c-9c9d-4436-a0b5-820fa39263db",
   "metadata": {},
   "outputs": [],
   "source": [
    "GIs = {\n",
    "    'NEOMORPHIC': ['CBL+TGFBR2',\n",
    "                  'KLF1+TGFBR2',\n",
    "                  'MAP2K6+SPI1',\n",
    "                  'SAMD1+TGFBR2',\n",
    "                  'TGFBR2+C19orf26',\n",
    "                  'TGFBR2+ETS2',\n",
    "                  'CBL+UBASH3A',\n",
    "                  'CEBPE+KLF1',\n",
    "                  'DUSP9+MAPK1',\n",
    "                  'FOSB+PTPN12',\n",
    "                  'PLK4+STIL',\n",
    "                  'PTPN12+OSR2',\n",
    "                  'ZC3HAV1+CEBPE'],\n",
    "    'ADDITIVE': ['BPGM+SAMD1',\n",
    "                'CEBPB+MAPK1',\n",
    "                'CEBPB+OSR2',\n",
    "                'DUSP9+PRTG',\n",
    "                'FOSB+OSR2',\n",
    "                'IRF1+SET',\n",
    "                'MAP2K3+ELMSAN1',\n",
    "                'MAP2K6+ELMSAN1',\n",
    "                'POU3F2+FOXL2',\n",
    "                'RHOXF2BB+SET',\n",
    "                'SAMD1+PTPN12',\n",
    "                'SAMD1+UBASH3B',\n",
    "                'SAMD1+ZBTB1',\n",
    "                'SGK1+TBX2',\n",
    "                'TBX3+TBX2',\n",
    "                'ZBTB10+SNAI1'],\n",
    "    'EPISTASIS': ['AHR+KLF1',\n",
    "                 'MAPK1+TGFBR2',\n",
    "                 'TGFBR2+IGDCC3',\n",
    "                 'TGFBR2+PRTG',\n",
    "                 'UBASH3B+OSR2',\n",
    "                 'DUSP9+ETS2',\n",
    "                 'KLF1+CEBPA',\n",
    "                 'MAP2K6+IKZF3',\n",
    "                 'ZC3HAV1+CEBPA'],\n",
    "    'REDUNDANT': ['CDKN1C+CDKN1A',\n",
    "                 'MAP2K3+MAP2K6',\n",
    "                 'CEBPB+CEBPA',\n",
    "                 'CEBPE+CEBPA',\n",
    "                 'CEBPE+SPI1',\n",
    "                 'ETS2+MAPK1',\n",
    "                 'FOSB+CEBPE',\n",
    "                 'FOXA3+FOXA1'],\n",
    "    'POTENTIATION': ['CNN1+UBASH3A',\n",
    "                    'ETS2+MAP7D1',\n",
    "                    'FEV+CBFA2T3',\n",
    "                    'FEV+ISL2',\n",
    "                    'FEV+MAP7D1',\n",
    "                    'PTPN12+UBASH3A'],\n",
    "    'SYNERGY_SIMILAR_PHENO':['CBL+CNN1',\n",
    "                            'CBL+PTPN12',\n",
    "                            'CBL+PTPN9',\n",
    "                            'CBL+UBASH3B',\n",
    "                            'FOXA3+FOXL2',\n",
    "                            'FOXA3+HOXB9',\n",
    "                            'FOXL2+HOXB9',\n",
    "                            'UBASH3B+CNN1',\n",
    "                            'UBASH3B+PTPN12',\n",
    "                            'UBASH3B+PTPN9',\n",
    "                            'UBASH3B+ZBTB25'],\n",
    "    'SYNERGY_DISSIMILAR_PHENO': ['AHR+FEV',\n",
    "                                'DUSP9+SNAI1',\n",
    "                                'FOXA1+FOXF1',\n",
    "                                'FOXA1+FOXL2',\n",
    "                                'FOXA1+HOXB9',\n",
    "                                'FOXF1+FOXL2',\n",
    "                                'FOXF1+HOXB9',\n",
    "                                'FOXL2+MEIS1',\n",
    "                                'IGDCC3+ZBTB25',\n",
    "                                'POU3F2+CBFA2T3',\n",
    "                                'PTPN12+ZBTB25',\n",
    "                                'SNAI1+DLX2',\n",
    "                                'SNAI1+UBASH3B'],\n",
    "    'SUPPRESSOR': ['CEBPB+PTPN12',\n",
    "                  'CEBPE+CNN1',\n",
    "                  'CEBPE+PTPN12',\n",
    "                  'CNN1+MAPK1',\n",
    "                  'ETS2+CNN1',\n",
    "                  'ETS2+IGDCC3',\n",
    "                  'ETS2+PRTG',\n",
    "                  'FOSB+UBASH3B',\n",
    "                  'IGDCC3+MAPK1',\n",
    "                  'LYL1+CEBPB',\n",
    "                  'MAPK1+PRTG',\n",
    "                  'PTPN12+SNAI1']\n",
    "}\n"
   ]
  },
  {
   "cell_type": "code",
   "execution_count": 3,
   "id": "b47568b3-ddff-487d-be4a-739f104eb4cc",
   "metadata": {},
   "outputs": [],
   "source": [
    "def get_coeffs(singles_expr, first_expr, second_expr, double_expr):\n",
    "    results = {}\n",
    "    results['ts'] = TheilSenRegressor(fit_intercept=False,\n",
    "                          max_subpopulation=1e5,\n",
    "                          max_iter=1000,\n",
    "                          random_state=1000)   \n",
    "    X = singles_expr\n",
    "    y = double_expr\n",
    "    results['ts'].fit(X, y.ravel())\n",
    "    Zts = results['ts'].predict(X)\n",
    "    results['c1'] = results['ts'].coef_[0]\n",
    "    results['c2'] = results['ts'].coef_[1]\n",
    "    results['mag'] = np.sqrt((results['c1']**2 + results['c2']**2))\n",
    "    \n",
    "    results['dcor'] = distance_correlation(singles_expr, double_expr)\n",
    "    results['dcor_singles'] = distance_correlation(first_expr, second_expr)\n",
    "    results['dcor_first'] = distance_correlation(first_expr, double_expr)\n",
    "    results['dcor_second'] = distance_correlation(second_expr, double_expr)\n",
    "    results['corr_fit'] = np.corrcoef(Zts.flatten(), double_expr.flatten())[0,1]\n",
    "    results['dominance'] = np.abs(np.log10(results['c1']/results['c2']))\n",
    "    results['eq_contr'] = np.min([results['dcor_first'], results['dcor_second']])/\\\n",
    "                        np.max([results['dcor_first'], results['dcor_second']])\n",
    "    \n",
    "    return results\n",
    "    \n",
    "from scipy.sparse import csr_matrix\n",
    "from sklearn.utils import resample\n",
    "\n",
    "def calculate_p_ctrl_vec(adata, num_samples=300, num_reps=100):\n",
    "\n",
    "    np.random.seed(42)\n",
    "    ctrl_adata = adata[adata.obs['condition'] == 'ctrl']\n",
    "    if isinstance(ctrl_adata.X, csr_matrix):\n",
    "\n",
    "        ctrl_data_dense = ctrl_adata.X.A\n",
    "    else:\n",
    "        ctrl_data_dense = ctrl_adata.X\n",
    "\n",
    "    p_ctrl_list = []\n",
    "\n",
    "    for _ in range(num_reps):\n",
    " \n",
    "        sample = resample(ctrl_data_dense, n_samples=num_samples, random_state=np.random.randint(0, 1000))\n",
    "        mean_sample = np.mean(sample, axis=0)\n",
    "        p_ctrl_list.append(mean_sample)\n",
    "\n",
    "    p_ctrl = np.array(p_ctrl_list)\n",
    "    p_ctrl_vec = p_ctrl.mean(0)\n",
    "    return p_ctrl_vec\n",
    "\n",
    "    \n",
    "def get_GI_params(preds, combo):\n",
    "    \n",
    "    singles_expr = np.array([preds[f'{combo[0]}+ctrl'], preds[f'{combo[1]}+ctrl']]).T\n",
    "    first_expr = np.array(preds[f'{combo[0]}+ctrl']).T\n",
    "    second_expr = np.array(preds[f'{combo[1]}+ctrl']).T\n",
    "    double_expr = np.array(preds[combo[0]+'+'+combo[1]]).T\n",
    "    \n",
    "    return get_coeffs(singles_expr, first_expr, second_expr, double_expr)\n",
    "\n",
    "def get_GI_type(gi_name):\n",
    "    return [k for k in GIs.keys() if gi_name in GIs[k]][0].lower()\n",
    "\n",
    "def get_p_delta_exp(subset_preds, adata):\n",
    "    p_ctrl = calculate_p_ctrl_vec(adata)\n",
    "    p_ctrl_list = p_ctrl[0].tolist()\n",
    "    \n",
    "    # Adjust each gene expression in subset_preds\n",
    "    for key in subset_preds:\n",
    "        # Get the gene expression values for the current key\n",
    "        gene_expression = subset_preds[key]\n",
    "        \n",
    "        # Subtract the p_ctrl values from the gene expression values\n",
    "        adjusted_expression = [gene - ctrl for gene, ctrl in zip(gene_expression, p_ctrl_list)]\n",
    "        \n",
    "        # Update the subset_preds dictionary with the adjusted gene expression values\n",
    "        subset_preds[key] = adjusted_expression\n",
    "    \n",
    "    return subset_preds"
   ]
  },
  {
   "cell_type": "code",
   "execution_count": 4,
   "id": "652a5693-86b7-4369-91ea-14f5354baf12",
   "metadata": {},
   "outputs": [],
   "source": [
    "def calculate_average_predictions(res):\n",
    "    sums_counts = defaultdict(lambda: [0, 0])\n",
    "\n",
    "    # Iterate over the perturbation categories and their corresponding predictions\n",
    "    for i, cell in enumerate(res['pert_cat']):\n",
    "        if sums_counts[cell][1] == 0:\n",
    "            sums_counts[cell][0] = np.array(res['pred'][i])\n",
    "        else:\n",
    "            sums_counts[cell][0] += np.array(res['pred'][i])\n",
    "        sums_counts[cell][1] += 1\n",
    "\n",
    "    # Calculate the average predictions for each category\n",
    "    preds_avg = {}\n",
    "    for cell, (total, count) in sums_counts.items():\n",
    "        preds_avg[cell] = (total / count).tolist()\n",
    "\n",
    "    return preds_avg\n",
    "\n",
    "def split_gene_combinations(all_combos):\n",
    "    split_combinations = []\n",
    "\n",
    "    # Iterate over each gene combination in all_combos\n",
    "    for combo in all_combos:\n",
    "        # Split the combination into individual genes based on the '+' separator\n",
    "        genes = combo.split('+')\n",
    "        \n",
    "        # Append the list of genes to the split_combinations list\n",
    "        split_combinations.append(genes)\n",
    "    \n",
    "    return split_combinations"
   ]
  },
  {
   "cell_type": "markdown",
   "id": "e8a83154-5775-4708-a8e9-1c5d1e85545c",
   "metadata": {},
   "source": [
    "### data"
   ]
  },
  {
   "cell_type": "code",
   "execution_count": 31,
   "id": "c8ccd5c2-6d42-42ff-bf75-7edaebc59c4e",
   "metadata": {},
   "outputs": [],
   "source": [
    "data_path = '/home/share/huadjyin/home/zhoumin3/zhoumin/benchmark_data/01A_total_re/'\n",
    "with open(f'{data_path}03final/normanweissman2019/splits/normanweissman2019_simulation_1_0.75_subgroup.pkl', 'rb') as f:\n",
    "     split1_subgroup = pickle.load(f)"
   ]
  },
  {
   "cell_type": "code",
   "execution_count": 32,
   "id": "5e805f78-5ed7-4b23-b460-76c1eb83c2e8",
   "metadata": {},
   "outputs": [],
   "source": [
    "res_path = '/home/share/huadjyin/home/zhoumin3/zhoumin/model_benchmark/01_A_results/'\n",
    "with open(f'{res_path}NormanWeissman2019/gears/split1/NormanWeissman2019_split1_test_res.pkl', 'rb') as f:\n",
    "     res = pickle.load(f)"
   ]
  },
  {
   "cell_type": "code",
   "execution_count": 33,
   "id": "fda5525c-db7f-409f-96c2-8f2ad3b8596b",
   "metadata": {},
   "outputs": [],
   "source": [
    "import scanpy as sc\n",
    "adata = sc.read_h5ad('/home/share/huadjyin/home/zhoumin3/zhoumin/benchmark_data/01A_total_re/03final/normanweissman2019/perturb_processed.h5ad')"
   ]
  },
  {
   "cell_type": "markdown",
   "id": "a0d2bc00-a8e9-43cd-959a-60aad95e7e91",
   "metadata": {},
   "source": [
    "#### pred_res"
   ]
  },
  {
   "cell_type": "code",
   "execution_count": 34,
   "id": "516e164c-4f03-4d15-bb03-f62fba01bb32",
   "metadata": {},
   "outputs": [],
   "source": [
    "sums_counts = defaultdict(lambda: [0, 0])\n",
    "for i, cell in enumerate(res['pert_cat']):\n",
    " \n",
    "    if sums_counts[cell][1] == 0:\n",
    "        sums_counts[cell][0] = np.array(res['pred'][i])\n",
    "    else:\n",
    "        sums_counts[cell][0] += np.array(res['pred'][i])\n",
    "    sums_counts[cell][1] += 1\n",
    "\n",
    "preds_avg = {}\n",
    "\n",
    "for cell, (total, count) in sums_counts.items():\n",
    "    preds_avg[cell] = (total / count).tolist()"
   ]
  },
  {
   "cell_type": "code",
   "execution_count": 35,
   "id": "f283ed7a-effc-47ec-8feb-3b38f20cea77",
   "metadata": {},
   "outputs": [],
   "source": [
    "combo = ['CBL', 'PTPN12']\n",
    "keys_to_keep = {f'{combo[0]}+ctrl', f'{combo[1]}+ctrl', f'{combo[0]}+{combo[1]}'}\n",
    "subset_preds = {key: preds_avg[key] for key in keys_to_keep if key in preds_avg}"
   ]
  },
  {
   "cell_type": "code",
   "execution_count": 36,
   "id": "b2d2e0ea-aa5f-4de1-b1f4-bff5c4b808b7",
   "metadata": {
    "scrolled": true
   },
   "outputs": [],
   "source": [
    "subset_preds = get_p_delta_exp(subset_preds, adata)"
   ]
  },
  {
   "cell_type": "code",
   "execution_count": 37,
   "id": "e193d573-ddda-4277-bd68-0b1805abe674",
   "metadata": {},
   "outputs": [],
   "source": [
    "results = get_GI_params(subset_preds, combo)"
   ]
  },
  {
   "cell_type": "code",
   "execution_count": 39,
   "id": "d4609679-7a0a-4423-8e08-be6725312d0b",
   "metadata": {},
   "outputs": [
    {
     "data": {
      "text/plain": [
       "{'ts': TheilSenRegressor(fit_intercept=False, max_iter=1000,\n",
       "                   max_subpopulation=100000.0, random_state=1000),\n",
       " 'c1': 0.36723808882218545,\n",
       " 'c2': 1.6805584749260956,\n",
       " 'mag': 1.720215277669541,\n",
       " 'dcor': 0.882962990282585,\n",
       " 'dcor_singles': 0.7984883353325617,\n",
       " 'dcor_first': 0.8317510361023311,\n",
       " 'dcor_second': 0.8470858525590247,\n",
       " 'corr_fit': 0.8964962838109543,\n",
       " 'dominance': 0.660505909744072,\n",
       " 'eq_contr': 0.981896974892961}"
      ]
     },
     "execution_count": 39,
     "metadata": {},
     "output_type": "execute_result"
    }
   ],
   "source": [
    "results"
   ]
  },
  {
   "cell_type": "code",
   "execution_count": 15,
   "id": "db4698e7-4f49-456b-8901-38850f193174",
   "metadata": {},
   "outputs": [],
   "source": [
    "category =  get_GI_type(f'{combo[0]}+{combo[1]}')"
   ]
  },
  {
   "cell_type": "markdown",
   "id": "400946b7-7bd6-4c52-bb66-a79b1de1fd8b",
   "metadata": {},
   "source": [
    "#### metrics"
   ]
  },
  {
   "cell_type": "code",
   "execution_count": 16,
   "id": "47cddec3-8eab-4a26-a3ca-980d44818ac4",
   "metadata": {},
   "outputs": [],
   "source": [
    "metrics = ['c1', 'c2', 'mag', 'dcor', 'dcor_singles', 'dcor_first', 'dcor_second', 'corr_fit', 'dominance', 'eq_contr']\n",
    "categories = ['synergy_similar_pheno', 'synergy_dissimilar_pheno', 'potentiation', 'additive', 'suppressor', 'neomorphic', 'redundant', 'epistasis']\n",
    "dict_ = {}\n",
    "for metric in metrics:\n",
    "    dict_[metric] = {}\n",
    "    for category in categories:\n",
    "        dict_[metric][category] = []"
   ]
  },
  {
   "cell_type": "code",
   "execution_count": 18,
   "id": "055b058e-54ec-4cb2-ad6e-c87be43eec6e",
   "metadata": {},
   "outputs": [],
   "source": [
    "for key, value in results.items():\n",
    "    if key not in ['ts']:  \n",
    "        dict_[key][category].append(value)"
   ]
  },
  {
   "cell_type": "code",
   "execution_count": null,
   "id": "5e29f938-01a7-4e6a-ba43-aa024d4591af",
   "metadata": {},
   "outputs": [],
   "source": []
  },
  {
   "cell_type": "markdown",
   "id": "21e1f285-22d9-487e-8039-dca0aede8da1",
   "metadata": {},
   "source": [
    "# all_combos"
   ]
  },
  {
   "cell_type": "code",
   "execution_count": 26,
   "id": "f29225c5-85af-4280-bc31-2f6aace3e6ba",
   "metadata": {
    "scrolled": true
   },
   "outputs": [],
   "source": [
    "import scanpy as sc\n",
    "adata = sc.read_h5ad('/home/share/huadjyin/home/zhoumin3/zhoumin/benchmark_data/01A_total_re/03final/normanweissman2019/perturb_processed.h5ad')"
   ]
  },
  {
   "cell_type": "code",
   "execution_count": 27,
   "id": "306298ae-8f7f-4728-b917-b5eaf73fe62d",
   "metadata": {},
   "outputs": [],
   "source": [
    "import numpy as np\n",
    "all_combos = np.load('norman_combo_seen0_unique.npy', allow_pickle=True).item()"
   ]
  },
  {
   "cell_type": "code",
   "execution_count": 28,
   "id": "dd103b8f-6e07-4507-9c61-a1e04b98aaf5",
   "metadata": {},
   "outputs": [],
   "source": [
    "res_path = '/home/share/huadjyin/home/zhoumin3/zhoumin/model_benchmark/01_A_results/'"
   ]
  },
  {
   "cell_type": "code",
   "execution_count": 29,
   "id": "afdb3e6a-8c88-495f-a5f4-42159e909401",
   "metadata": {},
   "outputs": [],
   "source": [
    "metrics = ['c1', 'c2', 'mag', 'dcor', 'dcor_singles', 'dcor_first', 'dcor_second', 'corr_fit', 'dominance', 'eq_contr']\n",
    "categories = ['synergy_similar_pheno', 'synergy_dissimilar_pheno', 'potentiation', 'additive', 'suppressor', 'neomorphic', 'redundant', 'epistasis']\n",
    "dict_ = {metric: {category: [] for category in categories} for metric in metrics}"
   ]
  },
  {
   "cell_type": "code",
   "execution_count": 30,
   "id": "cf525221-91be-4ceb-b523-cd60c3ee3fc6",
   "metadata": {},
   "outputs": [],
   "source": [
    "csv_output_path = \"./GI_out/norman_seen0_GI_metric.csv\"\n",
    "csv_df = pd.DataFrame()"
   ]
  },
  {
   "cell_type": "code",
   "execution_count": 31,
   "id": "496c7c4d-663e-4cfe-9242-aaa4990ea86c",
   "metadata": {},
   "outputs": [
    {
     "name": "stdout",
     "output_type": "stream",
     "text": [
      "---CBL+PTPN12---\n",
      "---CDKN1C+CDKN1A---\n",
      "---C3orf72+FOXL2---pass\n",
      "---CDKN1C+CDKN1B---pass\n",
      "---CEBPB+PTPN12---\n",
      "---ZBTB10+PTPN12---pass\n",
      "---RHOXF2+SET---pass\n",
      "---CDKN1B+CDKN1A---pass\n",
      "---POU3F2+FOXL2---\n",
      "---ETS2+CNN1---\n",
      "---ETS2+IGDCC3---\n",
      "---SGK1+S1PR2---pass\n",
      "---CNN1+UBASH3A---\n",
      "---FOXA1+FOXL2---\n",
      "---JUN+CEBPA---pass\n",
      "---UBASH3B+CNN1---\n",
      "---POU3F2+CBFA2T3---\n",
      "---KLF1+CLDN6---pass\n",
      "---KLF1+TGFBR2---\n",
      "---AHR+KLF1---\n",
      "---FOXF1+HOXB9---\n",
      "---SAMD1+TGFBR2---\n",
      "---IGDCC3+MAPK1---\n",
      "---UBASH3B+UBASH3A---pass\n",
      "---PTPN12+PTPN9---pass\n",
      "---CEBPB+CEBPA---\n"
     ]
    },
    {
     "name": "stderr",
     "output_type": "stream",
     "text": [
      "/tmp/ipykernel_327821/556531402.py:20: RuntimeWarning: invalid value encountered in log10\n",
      "  results['dominance'] = np.abs(np.log10(results['c1']/results['c2']))\n"
     ]
    },
    {
     "name": "stdout",
     "output_type": "stream",
     "text": [
      "---MAP2K6+ELMSAN1---\n",
      "---CEBPB+MAPK1---\n",
      "---PTPN12+UBASH3A---\n",
      "---UBASH3B+PTPN9---\n",
      "---UBASH3B+PTPN12---\n"
     ]
    }
   ],
   "source": [
    "for i in range(1, 6):\n",
    "    with open(f'{res_path}NormanWeissman2019/gears/split{i}/NormanWeissman2019_split{i}_test_res.pkl', 'rb') as f:\n",
    "        res = pickle.load(f)\n",
    "    preds_avg = calculate_average_predictions(res)\n",
    "    \n",
    "    split_combos = all_combos[f'split{i}']\n",
    "    split_combos = split_gene_combinations(split_combos)\n",
    "    for combo in split_combos:\n",
    "        combo_str = f'{combo[0]}+{combo[1]}'\n",
    "        if combo_str in sum(GIs.values(), []):\n",
    "            keys_to_keep = {f'{combo[0]}+ctrl', f'{combo[1]}+ctrl', f'{combo[0]}+{combo[1]}'}\n",
    "            subset_preds = {key: preds_avg[key] for key in keys_to_keep if key in preds_avg}\n",
    "            subset_preds = get_p_delta_exp(subset_preds, adata)\n",
    "            results = get_GI_params(subset_preds, combo)\n",
    "            category = get_GI_type(f'{combo[0]}+{combo[1]}')\n",
    "            \n",
    "            for key, value in results.items():\n",
    "                if key not in ['ts']:  \n",
    "                    dict_[key][category].append(value)\n",
    "                    \n",
    "            temp_df = pd.DataFrame(results, index=[combo_str]).T\n",
    "            temp_df.columns = [combo_str]\n",
    "            temp_df = temp_df.drop(index='ts', errors='ignore')\n",
    "            \n",
    "            temp_df.loc['category', combo_str] = category\n",
    "            \n",
    "            # csv_df\n",
    "            if csv_df.empty:\n",
    "                csv_df = temp_df\n",
    "            else:\n",
    "                csv_df = pd.concat([csv_df, temp_df], axis=1)\n",
    "            \n",
    "            print(f\"---{combo[0]}+{combo[1]}---\")\n",
    "        else:\n",
    "            print(f\"---{combo[0]}+{combo[1]}---pass\")\n",
    "            continue"
   ]
  },
  {
   "cell_type": "code",
   "execution_count": 32,
   "id": "0c6a9913-ba5e-474b-bd79-e915b154b27c",
   "metadata": {},
   "outputs": [],
   "source": [
    "with open('./GI_out/norman_combo_seen0_GI_metric.pkl', 'wb') as f:\n",
    "    pickle.dump(dict_, f)"
   ]
  },
  {
   "cell_type": "code",
   "execution_count": 33,
   "id": "c3be29cf-9412-4e86-83c6-63fa64a6d65e",
   "metadata": {},
   "outputs": [],
   "source": [
    "csv_df.to_csv(csv_output_path)"
   ]
  },
  {
   "cell_type": "code",
   "execution_count": null,
   "id": "733a3b6e-b9ad-4866-b74b-3ef3358b243a",
   "metadata": {},
   "outputs": [],
   "source": []
  }
 ],
 "metadata": {
  "kernelspec": {
   "display_name": "gears",
   "language": "python",
   "name": "gears"
  },
  "language_info": {
   "codemirror_mode": {
    "name": "ipython",
    "version": 3
   },
   "file_extension": ".py",
   "mimetype": "text/x-python",
   "name": "python",
   "nbconvert_exporter": "python",
   "pygments_lexer": "ipython3",
   "version": "3.9.19"
  }
 },
 "nbformat": 4,
 "nbformat_minor": 5
}
