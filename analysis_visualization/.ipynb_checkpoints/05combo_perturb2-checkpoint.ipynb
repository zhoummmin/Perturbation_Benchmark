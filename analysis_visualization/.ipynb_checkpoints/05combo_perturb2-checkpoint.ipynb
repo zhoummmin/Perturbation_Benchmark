{
 "cells": [
  {
   "cell_type": "code",
   "execution_count": 2,
   "id": "d4a533c0-ac2a-4372-b3ef-ebc3ca53d34b",
   "metadata": {},
   "outputs": [],
   "source": [
    "import numpy as np\n",
    "import pandas as pd\n",
    "import pickle\n",
    "import scanpy as sc"
   ]
  },
  {
   "cell_type": "code",
   "execution_count": 3,
   "id": "b013e33f-b20e-4917-99df-648edba8d77c",
   "metadata": {},
   "outputs": [],
   "source": [
    "adata = sc.read_h5ad('/home/share/huadjyin/home/zhoumin3/zhoumin/benchmark_data/01A_total_re/03final/normanweissman2019/perturb_processed.h5ad')"
   ]
  },
  {
   "cell_type": "code",
   "execution_count": 6,
   "id": "42cdfa90-debd-45e2-8a0c-11f043c90e6a",
   "metadata": {
    "scrolled": true
   },
   "outputs": [
    {
     "data": {
      "text/plain": [
       "array(['ENSG00000034510', 'ENSG00000130656', 'ENSG00000141744',\n",
       "       'ENSG00000196565', 'ENSG00000105610', 'ENSG00000100097',\n",
       "       'ENSG00000142227', 'ENSG00000206172', 'ENSG00000197747',\n",
       "       'ENSG00000182718', 'ENSG00000213934', 'ENSG00000163191',\n",
       "       'ENSG00000005249', 'ENSG00000142669', 'ENSG00000090013',\n",
       "       'ENSG00000147465', 'ENSG00000130208', 'ENSG00000147454',\n",
       "       'ENSG00000102575', 'ENSG00000160789'], dtype=object)"
      ]
     },
     "execution_count": 6,
     "metadata": {},
     "output_type": "execute_result"
    }
   ],
   "source": [
    "adata.uns['top_non_dropout_de_20']['K562_AHR+KLF1_1+1']"
   ]
  },
  {
   "cell_type": "code",
   "execution_count": 9,
   "id": "3bb04fe8-c099-4962-97a7-4db3f73f22d6",
   "metadata": {},
   "outputs": [
    {
     "data": {
      "text/plain": [
       "array(['ENSG00000136842', 'ENSG00000158578', 'ENSG00000198336',\n",
       "       'ENSG00000105426', 'ENSG00000162511', 'ENSG00000149516',\n",
       "       'ENSG00000136732', 'ENSG00000204482', 'ENSG00000147454',\n",
       "       'ENSG00000205542', 'ENSG00000051523', 'ENSG00000250361',\n",
       "       'ENSG00000184500', 'ENSG00000144591', 'ENSG00000102760',\n",
       "       'ENSG00000116649', 'ENSG00000075624', 'ENSG00000008394',\n",
       "       'ENSG00000065978', 'ENSG00000011600'], dtype=object)"
      ]
     },
     "execution_count": 9,
     "metadata": {},
     "output_type": "execute_result"
    }
   ],
   "source": [
    "adata.uns['top_non_dropout_de_20']['K562_CEBPB+CEBPA_1+1']"
   ]
  },
  {
   "cell_type": "code",
   "execution_count": 11,
   "id": "d7d784bb-bfe8-4bb6-8c4b-00dd0ef80547",
   "metadata": {},
   "outputs": [
    {
     "data": {
      "text/plain": [
       "array(['ENSG00000158578', 'ENSG00000130656', 'ENSG00000250361',\n",
       "       'ENSG00000130829', 'ENSG00000185198', 'ENSG00000174498',\n",
       "       'ENSG00000196565', 'ENSG00000227706', 'ENSG00000170180',\n",
       "       'ENSG00000177469', 'ENSG00000151287', 'ENSG00000144591',\n",
       "       'ENSG00000136732', 'ENSG00000115758', 'ENSG00000130755',\n",
       "       'ENSG00000099901', 'ENSG00000125144', 'ENSG00000213934',\n",
       "       'ENSG00000197465', 'ENSG00000111640'], dtype=object)"
      ]
     },
     "execution_count": 11,
     "metadata": {},
     "output_type": "execute_result"
    }
   ],
   "source": [
    "adata.uns['top_non_dropout_de_20']['K562_DUSP9+IGDCC3_1+1']"
   ]
  },
  {
   "cell_type": "code",
   "execution_count": 13,
   "id": "6f2fc39c-80ff-4e40-97d3-0690f3a5cd3a",
   "metadata": {},
   "outputs": [
    {
     "data": {
      "text/plain": [
       "array(['ENSG00000130656', 'ENSG00000158578', 'ENSG00000250361',\n",
       "       'ENSG00000196565', 'ENSG00000130829', 'ENSG00000185198',\n",
       "       'ENSG00000227706', 'ENSG00000170180', 'ENSG00000130755',\n",
       "       'ENSG00000213934', 'ENSG00000136732', 'ENSG00000125144',\n",
       "       'ENSG00000183971', 'ENSG00000099901', 'ENSG00000064886',\n",
       "       'ENSG00000151287', 'ENSG00000144591', 'ENSG00000164687',\n",
       "       'ENSG00000235169', 'ENSG00000113742'], dtype=object)"
      ]
     },
     "execution_count": 13,
     "metadata": {},
     "output_type": "execute_result"
    }
   ],
   "source": [
    "adata.uns['top_non_dropout_de_20']['K562_DUSP9+PRTG_1+1']"
   ]
  },
  {
   "cell_type": "code",
   "execution_count": 18,
   "id": "4e44070c-4b4b-43bd-ba1c-7d2767d5b11b",
   "metadata": {},
   "outputs": [
    {
     "data": {
      "text/plain": [
       "array(['ENSG00000204482', 'ENSG00000026025', 'ENSG00000154917',\n",
       "       'ENSG00000170180', 'ENSG00000142669', 'ENSG00000008394',\n",
       "       'ENSG00000227706', 'ENSG00000196839', 'ENSG00000130560',\n",
       "       'ENSG00000072182', 'ENSG00000149516', 'ENSG00000279669',\n",
       "       'ENSG00000065978', 'ENSG00000250361', 'ENSG00000168754',\n",
       "       'ENSG00000204472', 'ENSG00000198736', 'ENSG00000103490',\n",
       "       'ENSG00000163191', 'ENSG00000069011'], dtype=object)"
      ]
     },
     "execution_count": 18,
     "metadata": {},
     "output_type": "execute_result"
    }
   ],
   "source": [
    "adata.uns['top_non_dropout_de_20']['K562_FOSB+CEBPB_1+1']"
   ]
  },
  {
   "cell_type": "code",
   "execution_count": 20,
   "id": "7d5ab0ec-22b5-4c1e-add0-9901d3cd3efd",
   "metadata": {},
   "outputs": [
    {
     "data": {
      "text/plain": [
       "array(['ENSG00000130656', 'ENSG00000130208', 'ENSG00000142669',\n",
       "       'ENSG00000135047', 'ENSG00000127947', 'ENSG00000149557',\n",
       "       'ENSG00000143369', 'ENSG00000196565', 'ENSG00000120915',\n",
       "       'ENSG00000169432', 'ENSG00000111640', 'ENSG00000178104',\n",
       "       'ENSG00000144591', 'ENSG00000149516', 'ENSG00000103811',\n",
       "       'ENSG00000206172', 'ENSG00000250722', 'ENSG00000137198',\n",
       "       'ENSG00000117450', 'ENSG00000185338'], dtype=object)"
      ]
     },
     "execution_count": 20,
     "metadata": {},
     "output_type": "execute_result"
    }
   ],
   "source": [
    "adata.uns['top_non_dropout_de_20']['K562_FOSB+PTPN12_1+1']"
   ]
  },
  {
   "cell_type": "code",
   "execution_count": null,
   "id": "e7d1668f-47ec-4647-95b4-13e21ce75a6c",
   "metadata": {},
   "outputs": [],
   "source": []
  },
  {
   "cell_type": "markdown",
   "id": "e83ba4b1-a187-47a1-8f60-260a49335e32",
   "metadata": {},
   "source": [
    "## FOSB+PTPN12"
   ]
  },
  {
   "cell_type": "code",
   "execution_count": 7,
   "id": "a5a8c676-c9c0-47a7-b766-56bce0c8b22b",
   "metadata": {},
   "outputs": [],
   "source": [
    "#methods = ['cpa', 'gears', 'scgpt']\n",
    "#methods = ['no_perturb', 'grn', 'cpa', 'gears', 'scgpt', 'scfoundation', 'scELMo_GPT35', 'new_geneformer', 'new_scbert', 'new_GenePT', 'gears_esm','attnpert', 'sclong']\n",
    "methods = ['scELMo_GPT35', 'attnpert', 'sclong', 'new_geneformer', 'new_GenePT', 'new_scbert', 'gears_esm']\n",
    "for method in methods:\n",
    "    base_path = f'/home/share/huadjyin/home/zhoumin3/zhoumin/model_benchmark/01_A_results/NormanWeissman2019/{method}'\n",
    "    for i in range(1, 6):\n",
    "        with open(f'{base_path}/split{i}/NormanWeissman2019_split{i}_test_res.pkl', 'rb') as f:\n",
    "            res = pickle.load(f)\n",
    "        gene_ids = ['ENSG00000130656', 'ENSG00000130208', 'ENSG00000142669',\n",
    "       'ENSG00000135047', 'ENSG00000127947', 'ENSG00000149557',\n",
    "       'ENSG00000143369', 'ENSG00000196565', 'ENSG00000120915',\n",
    "       'ENSG00000169432', 'ENSG00000111640', 'ENSG00000178104',\n",
    "       'ENSG00000144591', 'ENSG00000149516', 'ENSG00000103811',\n",
    "       'ENSG00000206172', 'ENSG00000250722', 'ENSG00000137198',\n",
    "       'ENSG00000117450', 'ENSG00000185338']\n",
    "\n",
    "        ctrl_means = [\n",
    "    2.0204206,\n",
    "    2.8320856,\n",
    "    1.0229867,\n",
    "    0.69238454,\n",
    "    0.38558578,\n",
    "    0.104765944,\n",
    "    0.022081014,\n",
    "    2.0451705,\n",
    "    0.0929154,\n",
    "    0.041727573,\n",
    "    3.3276973,\n",
    "    1.0343874,\n",
    "    0.6976237,\n",
    "    0.09754725,\n",
    "    0.5066642,\n",
    "    0.33267742,\n",
    "    0.8876893,\n",
    "    0.76310927,\n",
    "    2.5750756,\n",
    "    0.18856288\n",
    "]\n",
    "        \n",
    "        gene_indices = [adata.var_names.get_loc(gene_id) for gene_id in gene_ids]\n",
    "        pert_cat_indices = np.where(res['pert_cat'] == 'FOSB+PTPN12')[0]\n",
    "        selected_pred = res['pred'][pert_cat_indices][:, gene_indices]\n",
    "        gene_names = adata.var.loc[gene_ids, 'gene_name'].values\n",
    "        adjusted_pred = selected_pred - ctrl_means\n",
    "        df = pd.DataFrame(adjusted_pred, index=res['pert_cat'][pert_cat_indices], columns=gene_names)\n",
    "        csv_filename = f'./FOSB+PTPN12/{method}_split{i}_FOSB+PTPN12.csv'\n",
    "        df.to_csv(csv_filename)\n",
    "    "
   ]
  },
  {
   "cell_type": "markdown",
   "id": "bbccf3f8-0d9f-4fa4-9e44-4c505fb9c3a3",
   "metadata": {},
   "source": [
    "## FOSB+CEBPB"
   ]
  },
  {
   "cell_type": "code",
   "execution_count": 8,
   "id": "4c95cee1-0201-4982-b453-89c927a0c8f2",
   "metadata": {},
   "outputs": [],
   "source": [
    "#methods = ['cpa', 'gears', 'scgpt']\n",
    "methods = ['scELMo_GPT35', 'attnpert', 'sclong', 'new_geneformer', 'new_GenePT', 'new_scbert', 'gears_esm']\n",
    "for method in methods:\n",
    "    base_path = f'/home/share/huadjyin/home/zhoumin3/zhoumin/model_benchmark/01_A_results/NormanWeissman2019/{method}'\n",
    "    for i in range(1, 6):\n",
    "        with open(f'{base_path}/split{i}/NormanWeissman2019_split{i}_test_res.pkl', 'rb') as f:\n",
    "            res = pickle.load(f)\n",
    "        gene_ids = ['ENSG00000204482', 'ENSG00000026025', 'ENSG00000154917',\n",
    "       'ENSG00000170180', 'ENSG00000142669', 'ENSG00000008394',\n",
    "       'ENSG00000227706', 'ENSG00000196839', 'ENSG00000130560',\n",
    "       'ENSG00000072182', 'ENSG00000149516', 'ENSG00000279669',\n",
    "       'ENSG00000065978', 'ENSG00000250361', 'ENSG00000168754',\n",
    "       'ENSG00000204472', 'ENSG00000198736', 'ENSG00000103490',\n",
    "       'ENSG00000163191', 'ENSG00000069011']\n",
    "\n",
    "        ctrl_means = [\n",
    "    0.11216558,\n",
    "    1.0401613,\n",
    "    0.07502557,\n",
    "    1.3994538,\n",
    "    1.0229867,\n",
    "    0.7760365,\n",
    "    1.9386938,\n",
    "    0.42283577,\n",
    "    1.9661583,\n",
    "    0.26184535,\n",
    "    0.09754725,\n",
    "    1.2340776,\n",
    "    4.157933,\n",
    "    1.5689605,\n",
    "    0.2600714,\n",
    "    0.47903025,\n",
    "    0.4312587,\n",
    "    0.8296106,\n",
    "    1.1351907,\n",
    "    1.6051971\n",
    "]\n",
    "        \n",
    "        gene_indices = [adata.var_names.get_loc(gene_id) for gene_id in gene_ids]\n",
    "        pert_cat_indices = np.where(res['pert_cat'] == 'FOSB+CEBPB')[0]\n",
    "        selected_pred = res['pred'][pert_cat_indices][:, gene_indices]\n",
    "        gene_names = adata.var.loc[gene_ids, 'gene_name'].values\n",
    "        adjusted_pred = selected_pred - ctrl_means\n",
    "        df = pd.DataFrame(adjusted_pred, index=res['pert_cat'][pert_cat_indices], columns=gene_names)\n",
    "        csv_filename = f'./FOSB+CEBPB/{method}_split{i}_FOSB+CEBPB.csv'\n",
    "        df.to_csv(csv_filename)\n",
    "    "
   ]
  },
  {
   "cell_type": "markdown",
   "id": "4b384f97-878c-4dbf-a931-60cca645335e",
   "metadata": {},
   "source": [
    "## DUSP9+PRTG"
   ]
  },
  {
   "cell_type": "code",
   "execution_count": 13,
   "id": "2d822961-cb43-4e4a-bd60-467847c623c0",
   "metadata": {},
   "outputs": [],
   "source": [
    "methods = ['attnpert']\n",
    "#methods = ['scELMo_GPT35', 'attnpert', 'sclong', 'new_geneformer', 'new_GenePT', 'new_scbert', 'gears_esm']\n",
    "for method in methods:\n",
    "    base_path = f'/home/share/huadjyin/home/zhoumin3/zhoumin/model_benchmark/01_A_results/NormanWeissman2019/{method}'\n",
    "    for i in range(1,6):\n",
    "        with open(f'{base_path}/split{i}/NormanWeissman2019_split{i}_test_res.pkl', 'rb') as f:\n",
    "            res = pickle.load(f)\n",
    "        gene_ids = ['ENSG00000130656', 'ENSG00000158578', 'ENSG00000250361',\n",
    "       'ENSG00000196565', 'ENSG00000130829', 'ENSG00000185198',\n",
    "       'ENSG00000227706', 'ENSG00000170180', 'ENSG00000130755',\n",
    "       'ENSG00000213934', 'ENSG00000136732', 'ENSG00000125144',\n",
    "       'ENSG00000183971', 'ENSG00000099901', 'ENSG00000064886',\n",
    "       'ENSG00000151287', 'ENSG00000144591', 'ENSG00000164687',\n",
    "       'ENSG00000235169', 'ENSG00000113742']\n",
    "\n",
    "        ctrl_means = [\n",
    "    2.0204206,\n",
    "    0.2333912,\n",
    "    1.5689605,\n",
    "    2.0451705,\n",
    "    0.06318509,\n",
    "    0.7956082,\n",
    "    1.9386938,\n",
    "    1.3994538,\n",
    "    0.485752,\n",
    "    0.9519185,\n",
    "    1.9588078,\n",
    "    0.36462197,\n",
    "    0.3757606,\n",
    "    3.630669,\n",
    "    0.103839904,\n",
    "    1.2280841,\n",
    "    0.6976237,\n",
    "    0.7559759,\n",
    "    0.2002629,\n",
    "    0.17556435\n",
    "]\n",
    "        \n",
    "        gene_indices = [adata.var_names.get_loc(gene_id) for gene_id in gene_ids]\n",
    "        pert_cat_indices = np.where(res['pert_cat'] == 'DUSP9+PRTG')[0]\n",
    "        selected_pred = res['pred'][pert_cat_indices][:, gene_indices]\n",
    "        gene_names = adata.var.loc[gene_ids, 'gene_name'].values\n",
    "        adjusted_pred = selected_pred - ctrl_means\n",
    "        df = pd.DataFrame(adjusted_pred, index=res['pert_cat'][pert_cat_indices], columns=gene_names)\n",
    "        csv_filename = f'./DUSP9+PRTG/{method}_split{i}_DUSP9+PRTG.csv'\n",
    "        df.to_csv(csv_filename)\n",
    "    "
   ]
  },
  {
   "cell_type": "markdown",
   "id": "fa06854f-504b-4b8f-ad10-d3c13bfd7f39",
   "metadata": {},
   "source": [
    "## DUSP9+IGDCC3"
   ]
  },
  {
   "cell_type": "code",
   "execution_count": 9,
   "id": "6a81e881-3a4f-423b-9de6-753f943766fd",
   "metadata": {},
   "outputs": [],
   "source": [
    "#methods = ['cpa', 'gears', 'scgpt']\n",
    "methods = ['scELMo_GPT35', 'attnpert', 'sclong', 'new_geneformer', 'new_GenePT', 'new_scbert', 'gears_esm']\n",
    "for method in methods:\n",
    "    base_path = f'/home/share/huadjyin/home/zhoumin3/zhoumin/model_benchmark/01_A_results/NormanWeissman2019/{method}'\n",
    "    for i in range(1, 6):\n",
    "        with open(f'{base_path}/split{i}/NormanWeissman2019_split{i}_test_res.pkl', 'rb') as f:\n",
    "            res = pickle.load(f)\n",
    "        gene_ids = ['ENSG00000158578', 'ENSG00000130656', 'ENSG00000250361',\n",
    "       'ENSG00000130829', 'ENSG00000185198', 'ENSG00000174498',\n",
    "       'ENSG00000196565', 'ENSG00000227706', 'ENSG00000170180',\n",
    "       'ENSG00000177469', 'ENSG00000151287', 'ENSG00000144591',\n",
    "       'ENSG00000136732', 'ENSG00000115758', 'ENSG00000130755',\n",
    "       'ENSG00000099901', 'ENSG00000125144', 'ENSG00000213934',\n",
    "       'ENSG00000197465', 'ENSG00000111640']\n",
    "\n",
    "        ctrl_means = [\n",
    "    0.2333912,\n",
    "    2.0204206,\n",
    "    1.5689605,\n",
    "    0.06318509,\n",
    "    0.7956082,\n",
    "    0.03358071,\n",
    "    2.0451705,\n",
    "    1.9386938,\n",
    "    1.3994538,\n",
    "    0.26603013,\n",
    "    1.2280841,\n",
    "    0.6976237,\n",
    "    1.9588078,\n",
    "    1.4233452,\n",
    "    0.485752,\n",
    "    3.630669,\n",
    "    0.36462197,\n",
    "    0.9519185,\n",
    "    0.4888927,\n",
    "    3.3276973\n",
    "]\n",
    "        \n",
    "        gene_indices = [adata.var_names.get_loc(gene_id) for gene_id in gene_ids]\n",
    "        pert_cat_indices = np.where(res['pert_cat'] == 'DUSP9+IGDCC3')[0]\n",
    "        selected_pred = res['pred'][pert_cat_indices][:, gene_indices]\n",
    "        gene_names = adata.var.loc[gene_ids, 'gene_name'].values\n",
    "        adjusted_pred = selected_pred - ctrl_means\n",
    "        df = pd.DataFrame(adjusted_pred, index=res['pert_cat'][pert_cat_indices], columns=gene_names)\n",
    "        csv_filename = f'./DUSP9+IGDCC3/{method}_split{i}_DUSP9+IGDCC3.csv'\n",
    "        df.to_csv(csv_filename)\n",
    "    "
   ]
  },
  {
   "cell_type": "markdown",
   "id": "5233c0b4-a8a4-4fee-bc17-1882756ac4d4",
   "metadata": {},
   "source": [
    "## CEBPB+CEBPA"
   ]
  },
  {
   "cell_type": "code",
   "execution_count": 7,
   "id": "1da9192a-da38-4545-923c-8aafda10d438",
   "metadata": {},
   "outputs": [],
   "source": [
    "#methods = ['cpa', 'gears', 'scgpt']\n",
    "methods = ['scELMo_GPT35', 'attnpert', 'sclong', 'new_geneformer', 'new_GenePT', 'new_scbert', 'gears_esm']\n",
    "for method in methods:\n",
    "    base_path = f'/home/share/huadjyin/home/zhoumin3/zhoumin/model_benchmark/01_A_results/NormanWeissman2019/{method}'\n",
    "    for i in range(1, 6):\n",
    "        with open(f'{base_path}/split{i}/NormanWeissman2019_split{i}_test_res.pkl', 'rb') as f:\n",
    "            res = pickle.load(f)\n",
    "        gene_ids = ['ENSG00000136842', 'ENSG00000158578', 'ENSG00000198336',\n",
    "       'ENSG00000105426', 'ENSG00000162511', 'ENSG00000149516',\n",
    "       'ENSG00000136732', 'ENSG00000204482', 'ENSG00000147454',\n",
    "       'ENSG00000205542', 'ENSG00000051523', 'ENSG00000250361',\n",
    "       'ENSG00000184500', 'ENSG00000144591', 'ENSG00000102760',\n",
    "       'ENSG00000116649', 'ENSG00000075624', 'ENSG00000008394',\n",
    "       'ENSG00000065978', 'ENSG00000011600']\n",
    "\n",
    "        ctrl_means = [0.20021802,\n",
    "                        0.2333912,\n",
    "                        1.1051495,\n",
    "                        0.17222823,\n",
    "                        0.8814631,\n",
    "                        0.09754725,\n",
    "                        1.9588078,\n",
    "                        0.11216558,\n",
    "                        0.94400173,\n",
    "                        3.4326417,\n",
    "                        1.208298,\n",
    "                        1.5689605,\n",
    "                        0.11313876,\n",
    "                        0.6976237,\n",
    "                        0.19367395,\n",
    "                        2.0004377,\n",
    "                        2.5875227,\n",
    "                        0.7760365,\n",
    "                        4.157933,\n",
    "                        0.097405046\n",
    "                    ]\n",
    "        \n",
    "        gene_indices = [adata.var_names.get_loc(gene_id) for gene_id in gene_ids]\n",
    "        pert_cat_indices = np.where(res['pert_cat'] == 'CEBPB+CEBPA')[0]\n",
    "        selected_pred = res['pred'][pert_cat_indices][:, gene_indices]\n",
    "        gene_names = adata.var.loc[gene_ids, 'gene_name'].values\n",
    "        adjusted_pred = selected_pred - ctrl_means\n",
    "        df = pd.DataFrame(adjusted_pred, index=res['pert_cat'][pert_cat_indices], columns=gene_names)\n",
    "        csv_filename = f'./CEBPB+CEBPA/{method}_split{i}_CEBPB+CEBPA.csv'\n",
    "        df.to_csv(csv_filename)\n",
    "    "
   ]
  },
  {
   "cell_type": "markdown",
   "id": "1d20e993-11ef-447b-995a-9ec811f35cc4",
   "metadata": {},
   "source": [
    "## AHR+KLF1"
   ]
  },
  {
   "cell_type": "code",
   "execution_count": 11,
   "id": "cafb417d-eeb6-45cc-8546-de847b17a265",
   "metadata": {},
   "outputs": [],
   "source": [
    "#methods = ['cpa', 'gears', 'scgpt']\n",
    "methods = ['scELMo_GPT35', 'attnpert', 'sclong', 'new_geneformer', 'new_GenePT', 'new_scbert', 'gears_esm']\n",
    "for method in methods:\n",
    "    base_path = f'/home/share/huadjyin/home/zhoumin3/zhoumin/model_benchmark/01_A_results/NormanWeissman2019/{method}'\n",
    "    for i in range(1, 6):\n",
    "        with open(f'{base_path}/split{i}/NormanWeissman2019_split{i}_test_res.pkl', 'rb') as f:\n",
    "            res = pickle.load(f)\n",
    "        gene_ids = ['ENSG00000034510', 'ENSG00000130656', 'ENSG00000141744',\n",
    "       'ENSG00000196565', 'ENSG00000105610', 'ENSG00000100097',\n",
    "       'ENSG00000142227', 'ENSG00000206172', 'ENSG00000197747',\n",
    "       'ENSG00000182718', 'ENSG00000213934', 'ENSG00000163191',\n",
    "       'ENSG00000005249', 'ENSG00000142669', 'ENSG00000090013',\n",
    "       'ENSG00000147465', 'ENSG00000130208', 'ENSG00000147454',\n",
    "       'ENSG00000102575', 'ENSG00000160789']\n",
    "\n",
    "        ctrl_means = [\n",
    "    2.4802248,\n",
    "    2.0204206,\n",
    "    0.30798337,\n",
    "    2.0451705,\n",
    "    0.5264548,\n",
    "    0.60848236,\n",
    "    1.0574229,\n",
    "    0.33267742,\n",
    "    0.38675576,\n",
    "    0.88391155,\n",
    "    0.9519185,\n",
    "    1.1351907,\n",
    "    0.91521513,\n",
    "    1.0229867,\n",
    "    0.7380142,\n",
    "    0.43370253,\n",
    "    2.8320856,\n",
    "    0.94400173,\n",
    "    0.3436212,\n",
    "    0.2587152\n",
    "]\n",
    "        \n",
    "        gene_indices = [adata.var_names.get_loc(gene_id) for gene_id in gene_ids]\n",
    "        pert_cat_indices = np.where(res['pert_cat'] == 'AHR+KLF1')[0]\n",
    "        selected_pred = res['pred'][pert_cat_indices][:, gene_indices]\n",
    "        gene_names = adata.var.loc[gene_ids, 'gene_name'].values\n",
    "        adjusted_pred = selected_pred - ctrl_means\n",
    "        df = pd.DataFrame(adjusted_pred, index=res['pert_cat'][pert_cat_indices], columns=gene_names)\n",
    "        csv_filename = f'./AHR+KLF1/{method}_split{i}_AHR+KLF1.csv'\n",
    "        df.to_csv(csv_filename)\n",
    "    "
   ]
  },
  {
   "cell_type": "code",
   "execution_count": null,
   "id": "adae908b-39d4-49d1-b2f7-5550e6919c51",
   "metadata": {},
   "outputs": [],
   "source": []
  }
 ],
 "metadata": {
  "kernelspec": {
   "display_name": "gears",
   "language": "python",
   "name": "gears"
  },
  "language_info": {
   "codemirror_mode": {
    "name": "ipython",
    "version": 3
   },
   "file_extension": ".py",
   "mimetype": "text/x-python",
   "name": "python",
   "nbconvert_exporter": "python",
   "pygments_lexer": "ipython3",
   "version": "3.9.19"
  }
 },
 "nbformat": 4,
 "nbformat_minor": 5
}
